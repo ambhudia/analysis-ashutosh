{
 "cells": [
  {
   "cell_type": "code",
   "execution_count": 1,
   "metadata": {},
   "outputs": [],
   "source": [
    "import h5py\n",
    "import numpy as np\n",
    "import xarray as xr\n",
    "import datetime\n",
    "import pandas as pd\n",
    "from salishsea_tools import utilities\n",
    "import os"
   ]
  },
  {
   "cell_type": "code",
   "execution_count": 2,
   "metadata": {},
   "outputs": [],
   "source": [
    "f = h5py.File('matlab/St_georgia_with_ssh.hdf5', 'r')"
   ]
  },
  {
   "cell_type": "code",
   "execution_count": 3,
   "metadata": {},
   "outputs": [
    {
     "name": "stderr",
     "output_type": "stream",
     "text": [
      "Loading ... 100% (168 of 168) |#################################|Time:  0:10:56\n"
     ]
    }
   ],
   "source": [
    "check = False\n",
    "grid_z = np.arange(40)\n",
    "grid_y = np.arange(396)\n",
    "grid_x = np.arange(896)\n",
    "bar = utilities.statusbar('Loading ...')\n",
    "for i in bar(range(168)):\n",
    "    i = i + 1\n",
    "    stamp = '0' * (5-len(str(i))) + str(i)\n",
    "    time = np.asarray(f['Time'][f'Time_{stamp}']).astype(int)\n",
    "    time = datetime.datetime(time[0], time[1], time[2], time[3], time[4], time[5])\n",
    "    currentu = np.expand_dims(np.asarray(f['Results']['velocity U'][f'velocity U_{stamp}']).astype('float32'),0)\n",
    "    currentv = np.expand_dims(np.asarray(f['Results']['velocity V'][f'velocity V_{stamp}']).astype('float32'),0)\n",
    "    water = np.expand_dims(np.asarray(f['Results']['water level'][f'water level_{stamp}']).astype('float32'),0)\n",
    "    u = xr.DataArray(currentu, coords  = [[time], grid_z, grid_y, grid_x], dims= ['time', 'depth', 'grid_y', 'grid_x'])\n",
    "    v = xr.DataArray(currentv, coords  = [[time], grid_z, grid_y, grid_x], dims= ['time', 'depth', 'grid_y', 'grid_x'])\n",
    "    w = xr.DataArray(water, coords  = [[time], grid_y, grid_x], dims= ['time', 'grid_y', 'grid_x'])\n",
    "    a = xr.Dataset({'current_u': u, 'current_v':v, 'ssh' : w})\n",
    "    if check == False: \n",
    "        check = True\n",
    "        chunk = a\n",
    "    else:\n",
    "        chunk = xr.concat((chunk, a), dim = 'time')\n",
    "    piece = i / 12\n",
    "    if piece == int(piece):\n",
    "        check = False\n",
    "        comp  = {'time':{'zlib':True, 'complevel': 4},\n",
    "                 'grid_x':{'zlib':True, 'complevel': 4, 'dtype':'float32'},\n",
    "                 'grid_y':{'zlib':True, 'complevel': 4, 'dtype':'float32'},\n",
    "                 'depth':{'zlib':True, 'complevel': 4, 'dtype':'float32'}}\n",
    "        filenm = f'temp/{str(int(piece))}.nc'\n",
    "        tempname = f'temp/temp{i}.nc'\n",
    "        chunk.to_netcdf(f'temp/temp{i}.nc', format = 'NETCDF4',engine = 'netcdf4', encoding = comp)\n",
    "        os.system(f\"nccopy -d4 {tempname} {filenm}\") "
   ]
  },
  {
   "cell_type": "code",
   "execution_count": 6,
   "metadata": {},
   "outputs": [
    {
     "name": "stdout",
     "output_type": "stream",
     "text": [
      "1\n",
      "2\n",
      "3\n",
      "4\n"
     ]
    }
   ],
   "source": [
    "listr = []\n",
    "for i  in range(14):\n",
    "    listr.append(xr.open_dataset(f'temp1/{i+1}.nc'))\n",
    "    print(i+1)"
   ]
  },
  {
   "cell_type": "code",
   "execution_count": null,
   "metadata": {},
   "outputs": [],
   "source": [
    "concat = xr.concat(listr, dim = 'time')"
   ]
  },
  {
   "cell_type": "code",
   "execution_count": null,
   "metadata": {},
   "outputs": [],
   "source": [
    "concat.to_netcdf(f'temp1/part1.nc',format = 'NETCDF4',engine = 'netcdf4')"
   ]
  },
  {
   "cell_type": "code",
   "execution_count": 3,
   "metadata": {},
   "outputs": [
    {
     "data": {
      "text/plain": [
       "<HDF5 group \"/Results/velocity U\" (168 members)>"
      ]
     },
     "execution_count": 3,
     "metadata": {},
     "output_type": "execute_result"
    }
   ],
   "source": [
    "f['Results']['velocity U']"
   ]
  },
  {
   "cell_type": "code",
   "execution_count": null,
   "metadata": {},
   "outputs": [],
   "source": []
  }
 ],
 "metadata": {
  "kernelspec": {
   "display_name": "Python 3",
   "language": "python",
   "name": "python3"
  },
  "language_info": {
   "codemirror_mode": {
    "name": "ipython",
    "version": 3
   },
   "file_extension": ".py",
   "mimetype": "text/x-python",
   "name": "python",
   "nbconvert_exporter": "python",
   "pygments_lexer": "ipython3",
   "version": "3.7.1"
  }
 },
 "nbformat": 4,
 "nbformat_minor": 2
}
