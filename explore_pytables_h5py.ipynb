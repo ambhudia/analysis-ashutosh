{
 "cells": [
  {
   "cell_type": "markdown",
   "metadata": {},
   "source": [
    "<h1>Exploration of use of pytables and h5py libraries for creating forcing files for MOHID<h1>\n",
    "    <ol>\n",
    "        <li>\n",
    "            <a href=\"#winds\">Winds Structure</a>\n",
    "        </li>\n",
    "        <li>\n",
    "            <a href=\"#currents\">Currents Structure</a>\n",
    "        </li>\n",
    "        <li>\n",
    "            <a href=\"#createwind\">Wind Input file pytables</a>\n",
    "        </li>\n",
    "        <li>\n",
    "            <a href=\"#createcurrents\">Create Current Input file pytables</a>\n",
    "        </li>\n",
    "        <li>\n",
    "            <a href=\"#windsh5py\">Create Wind Input file h5py</a>\n",
    "        </li>\n",
    "        <li>\n",
    "            <a href=\"#currentsh5py\">Create Current Input file h5py</a>\n",
    "        </li>\n",
    "        <li>\n",
    "            <a href=\"#comparison\">Looking at file size and time incentive for different compression levels</a>\n",
    "        </li>\n",
    "    </ol>"
   ]
  },
  {
   "cell_type": "code",
   "execution_count": 1,
   "metadata": {},
   "outputs": [],
   "source": [
    "import numpy as np\n",
    "from tables import * \n",
    "import xarray as xr\n",
    "import datetime as datetime\n",
    "from salishsea_tools import viz_tools, utilities\n",
    "import matplotlib.pyplot as plt\n",
    "import time\n",
    "from scipy.interpolate import griddata\n",
    "import datetime "
   ]
  },
  {
   "cell_type": "markdown",
   "metadata": {},
   "source": [
    "<div id='winds'><a name='Winds'></a><h2>Winds Input File Structure</h2></div>"
   ]
  },
  {
   "cell_type": "code",
   "execution_count": 9,
   "metadata": {},
   "outputs": [
    {
     "name": "stdout",
     "output_type": "stream",
     "text": [
      "/ (RootGroup) ''\n",
      "/Results (Group) ''\n",
      "/Time (Group) ''\n",
      "/Results/wind velocity X (Group) ''\n",
      "/Results/wind velocity Y (Group) ''\n"
     ]
    }
   ],
   "source": [
    "h5wind = open_file('/ocean/abhudia/MEOPAR/analysis-ashutosh/temp/st_georgia_wind.hdf5')\n",
    "for group in h5wind.walk_groups():\n",
    "    print(group)"
   ]
  },
  {
   "cell_type": "markdown",
   "metadata": {},
   "source": [
    "### Read wind grid data metadata"
   ]
  },
  {
   "cell_type": "code",
   "execution_count": 13,
   "metadata": {},
   "outputs": [
    {
     "data": {
      "text/plain": [
       "/Results/wind velocity X/wind velocity X_00001._v_attrs (AttributeSet), 4 attributes:\n",
       "   [FillValue := array([0.]),\n",
       "    Maximum := array([100.]),\n",
       "    Minimum := array([-100.]),\n",
       "    Units := b'm/s']"
      ]
     },
     "execution_count": 13,
     "metadata": {},
     "output_type": "execute_result"
    }
   ],
   "source": [
    "getattr(getattr(h5wind.root.Results, 'wind velocity X'), 'wind velocity X_00001').attrs"
   ]
  },
  {
   "cell_type": "markdown",
   "metadata": {},
   "source": [
    "<div id='currents'><a name='Currents'></a><h2>Currents File Structure</h2></div>"
   ]
  },
  {
   "cell_type": "code",
   "execution_count": 103,
   "metadata": {},
   "outputs": [
    {
     "name": "stdout",
     "output_type": "stream",
     "text": [
      "/ (RootGroup) ''\n",
      "/Results (Group) ''\n",
      "/Time (Group) ''\n",
      "/Results/velocity U (Group) ''\n",
      "/Results/velocity V (Group) ''\n",
      "/Results/water level (Group) ''\n"
     ]
    }
   ],
   "source": [
    "h5current = open_file('/ocean/abhudia/MEOPAR/analysis-ashutosh/temp/St_georgia.hdf5')\n",
    "for group in h5current.walk_groups():\n",
    "    print(group)"
   ]
  },
  {
   "cell_type": "markdown",
   "metadata": {},
   "source": [
    "<div id='createwind'><a name='Currents'></a><h2>Create wind input file pytables</h2></div>"
   ]
  },
  {
   "cell_type": "code",
   "execution_count": 40,
   "metadata": {},
   "outputs": [
    {
     "name": "stderr",
     "output_type": "stream",
     "text": [
      "/home/abhudia/anaconda3/lib/python3.7/site-packages/tables/path.py:112: NaturalNameWarning: object name is not a valid Python identifier: 'wind velocity X'; it does not match the pattern ``^[a-zA-Z_][a-zA-Z0-9_]*$``; you will not be able to use natural naming to access this object; using ``getattr()`` will still work, though\n",
      "  NaturalNameWarning)\n",
      "/home/abhudia/anaconda3/lib/python3.7/site-packages/tables/path.py:112: NaturalNameWarning: object name is not a valid Python identifier: 'wind velocity Y'; it does not match the pattern ``^[a-zA-Z_][a-zA-Z0-9_]*$``; you will not be able to use natural naming to access this object; using ``getattr()`` will still work, though\n",
      "  NaturalNameWarning)\n"
     ]
    }
   ],
   "source": [
    "# make hdf5 fle for currents\n",
    "h5file = open_file(\"temp/winds.hdf5\", mode=\"w\", title=\"Winds Test file\")\n",
    "\n",
    "times = h5file.create_group(\"/\", 'Time', 'Time')\n",
    "results = h5file.create_group(\"/\", 'Results', 'Results')\n",
    "wind_u = h5file.create_group(results, 'wind velocity X', 'wind velocity X')\n",
    "wind_v = h5file.create_group(results, 'wind velocity Y', 'wind velocity Y')"
   ]
  },
  {
   "cell_type": "code",
   "execution_count": 3,
   "metadata": {},
   "outputs": [],
   "source": [
    "GEM = xr.open_dataset('/results2/MIDOSS/forcing/SalishSeaCast/hrdps/07apr15-16apr15/GEM.nc').isel(time_counter = slice(23,240))"
   ]
  },
  {
   "cell_type": "code",
   "execution_count": 4,
   "metadata": {},
   "outputs": [
    {
     "name": "stderr",
     "output_type": "stream",
     "text": [
      "Loading ... 100% (216 of 216) |#################################|Time:  0:08:03\n"
     ]
    }
   ],
   "source": [
    "GEM = xr.open_dataset('/results2/MIDOSS/forcing/SalishSeaCast/hrdps/07apr15-16apr15/GEM.nc').isel(time_counter = slice(23,240))\n",
    "\n",
    "# lat lon data\n",
    "GEM_grid = xr.open_dataset('https://salishsea.eos.ubc.ca/erddap/griddap/ubcSSaAtmosphereGridV1')\n",
    "NEMO_grid = xr.open_dataset('https://salishsea.eos.ubc.ca/erddap/griddap/ubcSSnBathymetryV17-02')\n",
    "\n",
    "# GEM data coordinates\n",
    "points = np.array([GEM_grid.latitude.values.ravel(), GEM_grid.longitude.values.ravel()-360]).T\n",
    "# NEMO lat lon grids tuple\n",
    "xi = (NEMO_grid.latitude.values, NEMO_grid.longitude.values)\n",
    "\n",
    "\n",
    "# GEM Data\n",
    "\n",
    "GEM_u = GEM.u_wind.values\n",
    "GEM_v = GEM.v_wind.values\n",
    "\n",
    "bar = utilities.statusbar('Loading ...')\n",
    "u_wind = np.expand_dims(griddata(points, GEM_u[0].ravel(), xi, method='cubic'),0)\n",
    "v_wind = np.expand_dims(griddata(points, GEM_v[0].ravel(), xi, method='cubic'),0)\n",
    "for grid in bar(range(1, GEM_u.shape[0])):\n",
    "    interp_u = griddata(points, GEM_u[grid].ravel(), xi, method='cubic')\n",
    "    u_wind = np.vstack((u_wind, np.expand_dims(interp_u,0)))\n",
    "    interp_v = griddata(points, GEM_v[grid].ravel(), xi, method='cubic')\n",
    "    v_wind = np.vstack((v_wind, np.expand_dims(interp_v,0)))\n",
    "u_wind1 = u_wind[...,:,1:897:,1:397].astype('float64')\n",
    "v_wind1 = v_wind[...,:,1:897:,1:397].astype('float64')\n",
    "u_wind2 = np.transpose(u_wind1, [0,2,1])\n",
    "v_wind2 = np.transpose(v_wind1, [0,2,1])"
   ]
  },
  {
   "cell_type": "code",
   "execution_count": 5,
   "metadata": {},
   "outputs": [],
   "source": [
    "u_wind1 = u_wind[...,:,1:897:,1:397].astype('float64')\n",
    "v_wind1 = v_wind[...,:,1:897:,1:397].astype('float64')"
   ]
  },
  {
   "cell_type": "code",
   "execution_count": 6,
   "metadata": {},
   "outputs": [],
   "source": [
    "u_wind2 = np.transpose(u_wind1, [0,2,1])\n",
    "v_wind2 = np.transpose(v_wind1, [0,2,1])"
   ]
  },
  {
   "cell_type": "code",
   "execution_count": null,
   "metadata": {},
   "outputs": [],
   "source": [
    "datelist = GEM.time_counter.values.astype('datetime64[s]').astype(datetime.datetime)\n",
    "datearrays = []\n",
    "filters =  Filters(complevel=4)\n",
    "for date in datelist:\n",
    "    datearrays.append(np.array([date.year, date.month, date.day, date.hour, date.minute, date.second]).astype('float64'))\n",
    "bar = utilities.statusbar('Writing Dates ...')\n",
    "for i in bar(range(len(datearrays))):\n",
    "    time_attr = 'Time_' + ((5 - len(str(i + 1))) * '0') + str(i + 1)\n",
    "    h5file.create_carray(times, f'{time_attr}',obj = datearrays[i],shape=(6,), chunkshape = (6,), filters = Filters)\n",
    "bar = utilities.statusbar('Writing U winds ...')\n",
    "for i in bar(range(u_wind2.shape[0])):\n",
    "    velocity_attr = 'wind velocity X_' + ((5 - len(str(i + 1))) * '0') + str(i + 1)\n",
    "    h5file.create_carray(wind_u, f'{velocity_attr}',obj = u_wind2[i],shape=(396, 896), chunkshape = (396, 896), filters = Filters)\n",
    "bar = utilities.statusbar('Writing Y winds ...')\n",
    "for i in bar(range(v_wind2.shape[0])):\n",
    "    velocity_attr = 'wind velocity Y_' + ((5 - len(str(i + 1))) * '0') + str(i + 1)\n",
    "    h5file.create_carray(wind_v, f'{velocity_attr}',obj = v_wind2[i],shape=(396, 896), chunkshape = (396, 896), filters = Filters)\n",
    "h5file.close()"
   ]
  },
  {
   "cell_type": "markdown",
   "metadata": {},
   "source": [
    "<div id='createcurrents'><a name='Currents'></a><h2>Create currents input file pytables</h2></div>\n",
    "\n",
    "Due to the use of dotted notation in pytables, it doesn't like names with spaces in them and spits out pages of warnings each time these are run. I cleared them ."
   ]
  },
  {
   "cell_type": "code",
   "execution_count": 2,
   "metadata": {},
   "outputs": [],
   "source": [
    "strt = time.time()"
   ]
  },
  {
   "cell_type": "code",
   "execution_count": 3,
   "metadata": {},
   "outputs": [
    {
     "name": "stderr",
     "output_type": "stream",
     "text": [
      "/home/abhudia/anaconda3/lib/python3.7/site-packages/tables/path.py:112: NaturalNameWarning: object name is not a valid Python identifier: 'velocity U'; it does not match the pattern ``^[a-zA-Z_][a-zA-Z0-9_]*$``; you will not be able to use natural naming to access this object; using ``getattr()`` will still work, though\n",
      "  NaturalNameWarning)\n",
      "/home/abhudia/anaconda3/lib/python3.7/site-packages/tables/path.py:112: NaturalNameWarning: object name is not a valid Python identifier: 'velocity V'; it does not match the pattern ``^[a-zA-Z_][a-zA-Z0-9_]*$``; you will not be able to use natural naming to access this object; using ``getattr()`` will still work, though\n",
      "  NaturalNameWarning)\n",
      "/home/abhudia/anaconda3/lib/python3.7/site-packages/tables/path.py:112: NaturalNameWarning: object name is not a valid Python identifier: 'water level'; it does not match the pattern ``^[a-zA-Z_][a-zA-Z0-9_]*$``; you will not be able to use natural naming to access this object; using ``getattr()`` will still work, though\n",
      "  NaturalNameWarning)\n"
     ]
    }
   ],
   "source": [
    "# make hdf5 fle for currents\n",
    "h5file = open_file(\"temp/currents.hdf5\", mode=\"w\", title=\"Currents Test file\")\n",
    "\n",
    "# make tree structure\n",
    "times = h5file.create_group(\"/\", 'Time', '')\n",
    "results = h5file.create_group(\"/\", 'Results', '')\n",
    "velocity_u = h5file.create_group(results, 'velocity U', '')\n",
    "velocity_v = h5file.create_group(results, 'velocity V', '')\n",
    "water_level = h5file.create_group(results, 'water level', '')"
   ]
  },
  {
   "cell_type": "code",
   "execution_count": null,
   "metadata": {},
   "outputs": [],
   "source": [
    "# write in chunks of size 12\n",
    "sliceend = 35\n",
    "slicebegin = 23\n",
    "num_disp = 0\n",
    "count = 0\n",
    "while sliceend <= 191:\n",
    "    U = xr.open_dataset('/results2/MIDOSS/forcing/SalishSeaCast/nowcast-green/07apr15-14apr15/U.nc').isel(time_counter = slice(slicebegin,sliceend))\n",
    "    V = xr.open_dataset('/results2/MIDOSS/forcing/SalishSeaCast/nowcast-green/07apr15-14apr15/V.nc').isel(time_counter = slice(slicebegin,sliceend))\n",
    "    T = xr.open_dataset('/results2/MIDOSS/forcing/SalishSeaCast/nowcast-green/07apr15-14apr15/T.nc').isel(time_counter = slice(slicebegin,sliceend))\n",
    "    datelist = U.time_counter.values.astype('datetime64[s]').astype(datetime.datetime)\n",
    "    # unstagger\n",
    "    unstaggered_U  = viz_tools.unstagger_xarray(U.vozocrtx, 'x').values[...,:,1:897:,1:397]\n",
    "    unstaggered_V  = viz_tools.unstagger_xarray(V.vomecrty, 'y').values[...,:,1:897:,1:397]\n",
    "    unstaggered_T = T.sossheig.values[...,:,1:897:,1:397]\n",
    "    # rotate\n",
    "    current_u, current_v = viz_tools.rotate_vel(unstaggered_U, unstaggered_V)\n",
    "    # clear memory\n",
    "    unstaggered_U, unstaggered_V = 0,0\n",
    "    # transpose grid\n",
    "    current_u = np.transpose(current_u, [0,1,3,2])\n",
    "    current_v = np.transpose(current_v, [0,1,3,2])\n",
    "    unstaggered_T = np.transpose(unstaggered_T, [0,2,1])\n",
    "    # flip by depth dimension\n",
    "    current_u = np.flip(np.nan_to_num(current_u).astype('float64'), axis = 1)\n",
    "    current_v = np.flip(np.nan_to_num(current_v).astype('float64'), axis = 1)\n",
    "    \n",
    "    unstaggered_T = np.nan_to_num(unstaggered_T).astype('float64')\n",
    "    # make list of time arrays\n",
    "    datearrays = []\n",
    "    for date in datelist:\n",
    "        datearrays.append(np.array([date.year, date.month, date.day, date.hour, date.minute, date.second]).astype('float64'))\n",
    "    # write u wind values to hdf5\n",
    "    for i in range(current_u.shape[0]):\n",
    "        velocity_attr = 'velocity U_' + ((5 - len(str(i + 1 + num_disp))) * '0') + str(i + 1 + num_disp)\n",
    "        h5file.create_carray(velocity_u, f'{velocity_attr}',obj = current_u[i],shape=(40, 396, 896), chunkshape = (40, 396, 896))\n",
    "\n",
    "    # write v wind values to hdf5\n",
    "    for i in range(current_v.shape[0]):\n",
    "        velocity_attr = 'velocity V_' + ((5 - len(str(i + 1 + num_disp))) * '0') + str(i + 1 + num_disp)\n",
    "        h5file.create_carray(velocity_v, f'{velocity_attr}',obj = current_v[i],shape=(40, 396, 896), chunkshape = (40, 396, 896))\n",
    "\n",
    "    # write  water level values to hdf5\n",
    "    for i in range(unstaggered_T.shape[0]):\n",
    "        level_attr = 'water level_' + ((5 - len(str(i + 1 + num_disp))) * '0') + str(i + 1 + num_disp)\n",
    "        h5file.create_carray(water_level, f'{level_attr}',obj = unstaggered_T[i],shape=(396, 896), chunkshape = (396, 896))\n",
    "    \n",
    "    # write time values to hdf5\n",
    "    for i in range(len(datearrays)):\n",
    "        time_attr = 'Time_' + ((5 - len(str(i + 1 + num_disp))) * '0') + str(i + 1 + num_disp)\n",
    "        h5file.create_carray(times, f'{time_attr}',obj = datearrays[i],shape=(6,), chunkshape = (6,))\n",
    "    num_disp = num_disp + current_u.shape[0]\n",
    "    slicebegin = sliceend\n",
    "    sliceend = sliceend + 12\n",
    "    count = count + 1\n",
    "    print(count)"
   ]
  },
  {
   "cell_type": "code",
   "execution_count": 5,
   "metadata": {},
   "outputs": [],
   "source": [
    "h5file.close()"
   ]
  },
  {
   "cell_type": "markdown",
   "metadata": {},
   "source": [
    "#### This is cool, but I was not able to figure out how to write the metadata for each grid in pytables. Also, the output files are humungous. Like 30 gigs for somethoing that should be 3 gigs. So I will now check out h5py"
   ]
  },
  {
   "cell_type": "markdown",
   "metadata": {},
   "source": [
    "# Trying with h5py compression"
   ]
  },
  {
   "cell_type": "markdown",
   "metadata": {},
   "source": [
    "<div id='windsh5py'><a name='Winds'></a><h2>Writing winds file h5py</h2></div>"
   ]
  },
  {
   "cell_type": "code",
   "execution_count": 20,
   "metadata": {},
   "outputs": [],
   "source": [
    "f.close()"
   ]
  },
  {
   "cell_type": "code",
   "execution_count": 21,
   "metadata": {},
   "outputs": [],
   "source": [
    "f = h5py.File('winds.hdf5', 'w')"
   ]
  },
  {
   "cell_type": "code",
   "execution_count": 22,
   "metadata": {},
   "outputs": [],
   "source": [
    "results = f.create_group('Results')"
   ]
  },
  {
   "cell_type": "code",
   "execution_count": 23,
   "metadata": {},
   "outputs": [],
   "source": [
    "times = f.create_group('Time')\n",
    "windu = f.create_group('/Results/wind velocity X')\n",
    "windx = f.create_group('/Results/wind velocity Y')"
   ]
  },
  {
   "cell_type": "code",
   "execution_count": 18,
   "metadata": {},
   "outputs": [
    {
     "name": "stderr",
     "output_type": "stream",
     "text": [
      "Loading ... 100% (216 of 216) |#################################|Time:  0:08:02\n"
     ]
    }
   ],
   "source": [
    "GEM = xr.open_dataset('/results2/MIDOSS/forcing/SalishSeaCast/hrdps/07apr15-16apr15/GEM.nc').isel(time_counter = slice(23,240))\n",
    "\n",
    "# lat lon data\n",
    "GEM_grid = xr.open_dataset('https://salishsea.eos.ubc.ca/erddap/griddap/ubcSSaAtmosphereGridV1')\n",
    "NEMO_grid = xr.open_dataset('https://salishsea.eos.ubc.ca/erddap/griddap/ubcSSnBathymetryV17-02')\n",
    "\n",
    "# GEM data coordinates\n",
    "points = np.array([GEM_grid.latitude.values.ravel(), GEM_grid.longitude.values.ravel()-360]).T\n",
    "# NEMO lat lon grids tuple\n",
    "xi = (NEMO_grid.latitude.values, NEMO_grid.longitude.values)\n",
    "\n",
    "\n",
    "# GEM Data\n",
    "\n",
    "GEM_u = GEM.u_wind.values\n",
    "GEM_v = GEM.v_wind.values\n",
    "\n",
    "bar = utilities.statusbar('Loading ...')\n",
    "u_wind = np.expand_dims(griddata(points, GEM_u[0].ravel(), xi, method='cubic'),0)\n",
    "v_wind = np.expand_dims(griddata(points, GEM_v[0].ravel(), xi, method='cubic'),0)\n",
    "for grid in bar(range(1, GEM_u.shape[0])):\n",
    "    interp_u = griddata(points, GEM_u[grid].ravel(), xi, method='cubic')\n",
    "    u_wind = np.vstack((u_wind, np.expand_dims(interp_u,0)))\n",
    "    interp_v = griddata(points, GEM_v[grid].ravel(), xi, method='cubic')\n",
    "    v_wind = np.vstack((v_wind, np.expand_dims(interp_v,0)))\n",
    "u_wind1 = u_wind[...,:,1:897:,1:397].astype('float64')\n",
    "v_wind1 = v_wind[...,:,1:897:,1:397].astype('float64')\n",
    "u_wind2 = np.transpose(u_wind1, [0,2,1])\n",
    "v_wind2 = np.transpose(v_wind1, [0,2,1])"
   ]
  },
  {
   "cell_type": "code",
   "execution_count": 24,
   "metadata": {},
   "outputs": [
    {
     "name": "stderr",
     "output_type": "stream",
     "text": [
      "Writing Dates ... 100% (217 of 217) |###########################|Time:  0:00:00\n",
      "Writing X winds ... 100% (217 of 217) |#########################|Time:  0:00:17\n",
      "Writing Y winds ... 100% (217 of 217) |#########################|Time:  0:00:18\n"
     ]
    }
   ],
   "source": [
    "datelist = GEM.time_counter.values.astype('datetime64[s]').astype(datetime.datetime)\n",
    "datearrays = []\n",
    "for date in datelist:\n",
    "    datearrays.append(np.array([date.year, date.month, date.day, date.hour, date.minute, date.second]).astype('float64'))\n",
    "bar = utilities.statusbar('Writing Dates ...')\n",
    "for i in bar(range(len(datearrays))):\n",
    "    time_attr = 'Time_' + ((5 - len(str(i + 1))) * '0') + str(i + 1)\n",
    "    dset = times.create_dataset(time_attr, shape = (6,), data = datearrays[i],chunks=(6,), compression = 'gzip', compression_opts = 1)\n",
    "    metadata = {'Maximum' : np.array([float(datearrays[i][0])]), 'Minimum' : np.array([-0.]), 'Units' : b'YYYY/MM/DD HH:MM:SS'} # !!!\n",
    "    dset.attrs.update(metadata)\n",
    "    #h5file.create_carray(times, f'{time_attr}',obj = datearrays[i],shape=(6,), chunkshape = (6,))\n",
    "bar = utilities.statusbar('Writing X winds ...')\n",
    "for i in bar(range(u_wind2.shape[0])):\n",
    "    velocity_attr = 'wind velocity X_' + ((5 - len(str(i + 1))) * '0') + str(i + 1)\n",
    "    dset = windu.create_dataset(velocity_attr, shape = (396, 896), data = u_wind2[i],chunks=(396, 896), compression = 'gzip', compression_opts = 1)\n",
    "    metadata = {'FillValue' : np.array([0.]), 'Maximum' : np.array([100.]), 'Minimum' : np.array([-100.]), 'Units' : b'm/s'}\n",
    "    dset.attrs.update(metadata)\n",
    "    #h5file.create_carray(wind_u, f'{velocity_attr}',obj = u_wind2[i],shape=(396, 896), chunkshape = (396, 896))\n",
    "bar = utilities.statusbar('Writing Y winds ...')\n",
    "for i in bar(range(v_wind2.shape[0])):\n",
    "    velocity_attr = 'wind velocity Y_' + ((5 - len(str(i + 1))) * '0') + str(i + 1)\n",
    "    dset =  windx.create_dataset(velocity_attr, shape = (396, 896), data = v_wind2[i],chunks=(396, 896), compression = 'gzip', compression_opts = 1)\n",
    "    metadata = {'FillValue' : np.array([0.]), 'Maximum' : np.array([100.]), 'Minimum' : np.array([-100.]), 'Units' : b'm/s'}\n",
    "    dset.attrs.update(metadata)\n",
    "    #h5file.create_carray(wind_v, f'{velocity_attr}',obj = v_wind2[i],shape=(396, 896), chunkshape = (396, 896))\n",
    "f.close()"
   ]
  },
  {
   "cell_type": "markdown",
   "metadata": {},
   "source": [
    "<div id='currentsh5py'><a name='Winds'></a><h2>Writing currents file h5py</h2></div>\n",
    "\n",
    "This has added metadata like in Shihan's files. Done in smaller chunks as a remnant from h5py code boilerplate"
   ]
  },
  {
   "cell_type": "code",
   "execution_count": 8,
   "metadata": {},
   "outputs": [
    {
     "name": "stderr",
     "output_type": "stream",
     "text": [
      "Writing U ... 100% (12 of 12) |#################################|Time:  0:00:06\n",
      "Writing V ... 100% (12 of 12) |#################################|Time:  0:00:06\n",
      "Writing Water Levels ... 100% (12 of 12) |######################|Time:  0:00:00\n",
      "Writing Dates ... 100% (12 of 12) |#############################|Time:  0:00:00\n"
     ]
    },
    {
     "name": "stdout",
     "output_type": "stream",
     "text": [
      "1\n"
     ]
    },
    {
     "name": "stderr",
     "output_type": "stream",
     "text": [
      "Writing U ... 100% (12 of 12) |#################################|Time:  0:00:06\n",
      "Writing V ... 100% (12 of 12) |#################################|Time:  0:00:06\n",
      "Writing Water Levels ... 100% (12 of 12) |######################|Time:  0:00:00\n",
      "Writing Dates ... 100% (12 of 12) |#############################|Time:  0:00:00\n"
     ]
    },
    {
     "name": "stdout",
     "output_type": "stream",
     "text": [
      "2\n"
     ]
    },
    {
     "name": "stderr",
     "output_type": "stream",
     "text": [
      "Writing U ... 100% (12 of 12) |#################################|Time:  0:00:06\n",
      "Writing V ... 100% (12 of 12) |#################################|Time:  0:00:06\n",
      "Writing Water Levels ... 100% (12 of 12) |######################|Time:  0:00:00\n",
      "Writing Dates ... 100% (12 of 12) |#############################|Time:  0:00:00\n"
     ]
    },
    {
     "name": "stdout",
     "output_type": "stream",
     "text": [
      "3\n"
     ]
    },
    {
     "name": "stderr",
     "output_type": "stream",
     "text": [
      "Writing U ... 100% (12 of 12) |#################################|Time:  0:00:06\n",
      "Writing V ... 100% (12 of 12) |#################################|Time:  0:00:06\n",
      "Writing Water Levels ... 100% (12 of 12) |######################|Time:  0:00:00\n",
      "Writing Dates ... 100% (12 of 12) |#############################|Time:  0:00:00\n"
     ]
    },
    {
     "name": "stdout",
     "output_type": "stream",
     "text": [
      "4\n"
     ]
    },
    {
     "name": "stderr",
     "output_type": "stream",
     "text": [
      "Writing U ... 100% (12 of 12) |#################################|Time:  0:00:06\n",
      "Writing V ... 100% (12 of 12) |#################################|Time:  0:00:06\n",
      "Writing Water Levels ... 100% (12 of 12) |######################|Time:  0:00:00\n",
      "Writing Dates ... 100% (12 of 12) |#############################|Time:  0:00:00\n"
     ]
    },
    {
     "name": "stdout",
     "output_type": "stream",
     "text": [
      "5\n"
     ]
    },
    {
     "name": "stderr",
     "output_type": "stream",
     "text": [
      "Writing U ... 100% (12 of 12) |#################################|Time:  0:00:06\n",
      "Writing V ... 100% (12 of 12) |#################################|Time:  0:00:06\n",
      "Writing Water Levels ... 100% (12 of 12) |######################|Time:  0:00:00\n",
      "Writing Dates ... 100% (12 of 12) |#############################|Time:  0:00:00\n"
     ]
    },
    {
     "name": "stdout",
     "output_type": "stream",
     "text": [
      "6\n"
     ]
    },
    {
     "name": "stderr",
     "output_type": "stream",
     "text": [
      "Writing U ... 100% (12 of 12) |#################################|Time:  0:00:06\n",
      "Writing V ... 100% (12 of 12) |#################################|Time:  0:00:06\n",
      "Writing Water Levels ... 100% (12 of 12) |######################|Time:  0:00:00\n",
      "Writing Dates ... 100% (12 of 12) |#############################|Time:  0:00:00\n"
     ]
    },
    {
     "name": "stdout",
     "output_type": "stream",
     "text": [
      "7\n"
     ]
    },
    {
     "name": "stderr",
     "output_type": "stream",
     "text": [
      "Writing U ... 100% (12 of 12) |#################################|Time:  0:00:06\n",
      "Writing V ... 100% (12 of 12) |#################################|Time:  0:00:06\n",
      "Writing Water Levels ... 100% (12 of 12) |######################|Time:  0:00:00\n",
      "Writing Dates ... 100% (12 of 12) |#############################|Time:  0:00:00\n"
     ]
    },
    {
     "name": "stdout",
     "output_type": "stream",
     "text": [
      "8\n"
     ]
    },
    {
     "name": "stderr",
     "output_type": "stream",
     "text": [
      "Writing U ... 100% (12 of 12) |#################################|Time:  0:00:06\n",
      "Writing V ... 100% (12 of 12) |#################################|Time:  0:00:06\n",
      "Writing Water Levels ... 100% (12 of 12) |######################|Time:  0:00:00\n",
      "Writing Dates ... 100% (12 of 12) |#############################|Time:  0:00:00\n"
     ]
    },
    {
     "name": "stdout",
     "output_type": "stream",
     "text": [
      "9\n"
     ]
    },
    {
     "name": "stderr",
     "output_type": "stream",
     "text": [
      "Writing U ... 100% (12 of 12) |#################################|Time:  0:00:06\n",
      "Writing V ... 100% (12 of 12) |#################################|Time:  0:00:06\n",
      "Writing Water Levels ... 100% (12 of 12) |######################|Time:  0:00:00\n",
      "Writing Dates ... 100% (12 of 12) |#############################|Time:  0:00:00\n"
     ]
    },
    {
     "name": "stdout",
     "output_type": "stream",
     "text": [
      "10\n"
     ]
    },
    {
     "name": "stderr",
     "output_type": "stream",
     "text": [
      "Writing U ... 100% (12 of 12) |#################################|Time:  0:00:06\n",
      "Writing V ... 100% (12 of 12) |#################################|Time:  0:00:06\n",
      "Writing Water Levels ... 100% (12 of 12) |######################|Time:  0:00:00\n",
      "Writing Dates ... 100% (12 of 12) |#############################|Time:  0:00:00\n"
     ]
    },
    {
     "name": "stdout",
     "output_type": "stream",
     "text": [
      "11\n"
     ]
    },
    {
     "name": "stderr",
     "output_type": "stream",
     "text": [
      "Writing U ... 100% (12 of 12) |#################################|Time:  0:00:06\n",
      "Writing V ... 100% (12 of 12) |#################################|Time:  0:00:07\n",
      "Writing Water Levels ... 100% (12 of 12) |######################|Time:  0:00:00\n",
      "Writing Dates ... 100% (12 of 12) |#############################|Time:  0:00:00\n"
     ]
    },
    {
     "name": "stdout",
     "output_type": "stream",
     "text": [
      "12\n"
     ]
    },
    {
     "name": "stderr",
     "output_type": "stream",
     "text": [
      "Writing U ... 100% (12 of 12) |#################################|Time:  0:00:06\n",
      "Writing V ... 100% (12 of 12) |#################################|Time:  0:00:07\n",
      "Writing Water Levels ... 100% (12 of 12) |######################|Time:  0:00:00\n",
      "Writing Dates ... 100% (12 of 12) |#############################|Time:  0:00:00\n"
     ]
    },
    {
     "name": "stdout",
     "output_type": "stream",
     "text": [
      "13\n"
     ]
    },
    {
     "name": "stderr",
     "output_type": "stream",
     "text": [
      "Writing U ... 100% (12 of 12) |#################################|Time:  0:00:06\n",
      "Writing V ... 100% (12 of 12) |#################################|Time:  0:00:06\n",
      "Writing Water Levels ... 100% (12 of 12) |######################|Time:  0:00:01\n",
      "Writing Dates ... 100% (12 of 12) |#############################|Time:  0:00:00\n"
     ]
    },
    {
     "name": "stdout",
     "output_type": "stream",
     "text": [
      "14\n"
     ]
    }
   ],
   "source": [
    "compression_level = 1\n",
    "f = h5py.File('currents.hdf5', 'w')\n",
    "results = f.create_group('Results')\n",
    "times = f.create_group('Time')\n",
    "velocity_u = f.create_group('/Results/velocity U')\n",
    "velocity_v = f.create_group('/Results/velocity V')\n",
    "water_level = f.create_group('/Results/water level')\n",
    "\n",
    "# write in chunks of size 12\n",
    "sliceend = 35\n",
    "slicebegin = 23\n",
    "num_disp = 0\n",
    "count = 0\n",
    "while sliceend <= 191: # 191  # execute one loop for comparison\n",
    "    U = xr.open_dataset('/results2/MIDOSS/forcing/SalishSeaCast/nowcast-green/07apr15-14apr15/U.nc').isel(time_counter = slice(slicebegin,sliceend))\n",
    "    V = xr.open_dataset('/results2/MIDOSS/forcing/SalishSeaCast/nowcast-green/07apr15-14apr15/V.nc').isel(time_counter = slice(slicebegin,sliceend))\n",
    "    T = xr.open_dataset('/results2/MIDOSS/forcing/SalishSeaCast/nowcast-green/07apr15-14apr15/T.nc').isel(time_counter = slice(slicebegin,sliceend))\n",
    "    datelist = U.time_counter.values.astype('datetime64[s]').astype(datetime.datetime)\n",
    "    # unstagger\n",
    "    unstaggered_U  = viz_tools.unstagger_xarray(U.vozocrtx, 'x').values[...,1:897:,1:397]\n",
    "    unstaggered_V  = viz_tools.unstagger_xarray(V.vomecrty, 'y').values[...,1:897:,1:397]\n",
    "    unstaggered_T = T.sossheig.values[...,1:897:,1:397]\n",
    "    # rotate\n",
    "    #current_u, current_v = viz_tools.rotate_vel(unstaggered_U, unstaggered_V)\n",
    "    current_u, current_v = unstaggered_U, unstaggered_V\n",
    "    # clear memory\n",
    "    # unstaggered_U, unstaggered_V = 0,0\n",
    "    # transpose grid\n",
    "    current_u = np.transpose(current_u, [0,1,3,2])\n",
    "    current_v = np.transpose(current_v, [0,1,3,2])\n",
    "    unstaggered_T = np.transpose(unstaggered_T, [0,2,1])\n",
    "    # flip by depth dimension\n",
    "    current_u = np.flip(np.nan_to_num(current_u).astype('float64'), axis = 1)\n",
    "    current_v = np.flip(np.nan_to_num(current_v).astype('float64'), axis = 1)\n",
    "    unstaggered_T = np.nan_to_num(unstaggered_T).astype('float64')\n",
    "    # make list of time arrays\n",
    "    datearrays = []\n",
    "    for date in datelist:\n",
    "        datearrays.append(np.array([date.year, date.month, date.day, date.hour, date.minute, date.second]).astype('float64'))\n",
    "    # write u wind values to hdf5\n",
    "    bar = utilities.statusbar('Writing U ...')\n",
    "    for i in bar(range(current_u.shape[0])):\n",
    "        velocity_attr = 'velocity U_' + ((5 - len(str(i + 1 + num_disp))) * '0') + str(i + 1 + num_disp)\n",
    "        dset = velocity_u.create_dataset(velocity_attr, shape = (40, 396, 896), data = current_u[i],chunks=(40, 396, 896), compression = 'gzip', compression_opts = compression_level)\n",
    "        metadata = {'FillValue' : np.array([0.]), 'Maximum' : np.array([5.]), 'Minimum' : np.array([-5.]), 'Units' : b'm/s'}\n",
    "        dset.attrs.update(metadata)\n",
    "\n",
    "    # write v wind values to hdf5\n",
    "    bar = utilities.statusbar('Writing V ...')\n",
    "    for i in bar(range(current_v.shape[0])):\n",
    "        velocity_attr = 'velocity V_' + ((5 - len(str(i + 1 + num_disp))) * '0') + str(i + 1 + num_disp)\n",
    "        dset = velocity_v.create_dataset(velocity_attr, shape = (40, 396, 896), data = current_v[i],chunks=(40, 396, 896), compression = 'gzip', compression_opts = compression_level)\n",
    "        metadata = {'FillValue' : np.array([0.]), 'Maximum' : np.array([5.]), 'Minimum' : np.array([-5.]), 'Units' : b'm/s'}\n",
    "        dset.attrs.update(metadata)\n",
    "\n",
    "    # write  water level values to hdf5\n",
    "    bar = utilities.statusbar('Writing Water Levels ...')\n",
    "    for i in bar(range(unstaggered_T.shape[0])):\n",
    "        level_attr = 'water level_' + ((5 - len(str(i + 1 + num_disp))) * '0') + str(i + 1 + num_disp)\n",
    "        dset = water_level.create_dataset(level_attr, shape = (396, 896), data = unstaggered_T[i],chunks=(396, 896), compression = 'gzip', compression_opts = compression_level)\n",
    "        metadata = {'FillValue' : np.array([0.]), 'Maximum' : np.array([5.]), 'Minimum' : np.array([-5.]), 'Units' : b'm'}\n",
    "        dset.attrs.update(metadata)\n",
    "\n",
    "    # write time values to hdf5\n",
    "    bar = utilities.statusbar('Writing Dates ...')\n",
    "    for i in bar(range(len(datearrays))):\n",
    "        time_attr = 'Time_' + ((5 - len(str(i + 1 + num_disp))) * '0') + str(i + 1 + num_disp)\n",
    "        dset = times.create_dataset(time_attr, shape = (6,), data = datearrays[i],chunks=(6,), compression = 'gzip', compression_opts = compression_level)\n",
    "        metadata = {'Maximum' : np.array([float(datearrays[i][0])]), 'Minimum' : np.array([-0.]), 'Units' : b'YYYY/MM/DD HH:MM:SS'} # !!!\n",
    "        dset.attrs.update(metadata)\n",
    "        \n",
    "    num_disp = num_disp + current_u.shape[0]\n",
    "    slicebegin = sliceend\n",
    "    sliceend = sliceend + 12\n",
    "    count = count + 1\n",
    "    print(count)\n",
    "f.close()"
   ]
  },
  {
   "cell_type": "markdown",
   "metadata": {},
   "source": [
    "<div id='comparison'><a name='Comparison'></a><h2>Looking at file size and time incentive for different compression levels</h2></div>"
   ]
  },
  {
   "cell_type": "markdown",
   "metadata": {},
   "source": [
    "### Obtained after wrapping cell above in loop. 12 hour chunks were extrapolated to 7 days worth of data. "
   ]
  },
  {
   "cell_type": "code",
   "execution_count": 65,
   "metadata": {},
   "outputs": [],
   "source": [
    "size_mb= []\n",
    "for i in size_compression:\n",
    "    size_mb.append(14* float(i.replace(' MB', '')))"
   ]
  },
  {
   "cell_type": "code",
   "execution_count": 3,
   "metadata": {},
   "outputs": [
    {
     "data": {
      "text/plain": [
       "2016.0"
      ]
     },
     "execution_count": 3,
     "metadata": {},
     "output_type": "execute_result"
    }
   ],
   "source": [
    "a = float(2016)\n",
    "a"
   ]
  },
  {
   "cell_type": "code",
   "execution_count": 70,
   "metadata": {},
   "outputs": [
    {
     "data": {
      "text/plain": [
       "Text(0.5, 1.0, 'Time taken (mins) to make hdf one week vs compression factor')"
      ]
     },
     "execution_count": 70,
     "metadata": {},
     "output_type": "execute_result"
    },
    {
     "data": {
      "image/png": "[encoded data removed]",
      "text/plain": [
       "<Figure size 432x288 with 1 Axes>"
      ]
     },
     "metadata": {
      "needs_background": "light"
     },
     "output_type": "display_data"
    }
   ],
   "source": [
    "plt.plot(range(1,10), time_compression)\n",
    "plt.title('Time taken (mins) to make hdf one week vs compression factor')"
   ]
  },
  {
   "cell_type": "code",
   "execution_count": 71,
   "metadata": {},
   "outputs": [
    {
     "data": {
      "text/plain": [
       "Text(0.5, 1.0, 'Size of output file (MBs) one week vs compression factor')"
      ]
     },
     "execution_count": 71,
     "metadata": {},
     "output_type": "execute_result"
    },
    {
     "data": {
      "image/png": "[encoded data removed]",
      "text/plain": [
       "<Figure size 432x288 with 1 Axes>"
      ]
     },
     "metadata": {
      "needs_background": "light"
     },
     "output_type": "display_data"
    }
   ],
   "source": [
    "plt.plot(range(1,10), size_mb)\n",
    "plt.title('Size of output file (MBs) one week vs compression factor')"
   ]
  }
 ],
 "metadata": {
  "kernelspec": {
   "display_name": "Python 3",
   "language": "python",
   "name": "python3"
  },
  "language_info": {
   "codemirror_mode": {
    "name": "ipython",
    "version": 3
   },
   "file_extension": ".py",
   "mimetype": "text/x-python",
   "name": "python",
   "nbconvert_exporter": "python",
   "pygments_lexer": "ipython3",
   "version": "3.6.8"
  }
 },
 "nbformat": 4,
 "nbformat_minor": 2
}
