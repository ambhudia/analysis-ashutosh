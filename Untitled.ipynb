{
 "cells": [
  {
   "cell_type": "code",
   "execution_count": 2,
   "metadata": {},
   "outputs": [],
   "source": [
    "from tables import *\n",
    "import numpy as np\n",
    "import xarray as xr\n",
    "import matplotlib.pyplot as plt\n",
    "#import os\n",
    "#from datetime import datetime, timedelta\n",
    "#from dateutil.parser import parse\n",
    "#from cmocean import cm\n",
    "from salishsea_tools import utilities\n",
    "from salishsea_tools import viz_tools\n",
    "import pickle\n",
    "import time\n",
    "%matplotlib inline"
   ]
  },
  {
   "cell_type": "code",
   "execution_count": 46,
   "metadata": {},
   "outputs": [],
   "source": [
    "U = xr.open_dataset('/results2/SalishSea/nowcast-green.201806/03feb19/SalishSea_1h_20190203_20190203_grid_U.nc')"
   ]
  },
  {
   "cell_type": "code",
   "execution_count": 47,
   "metadata": {},
   "outputs": [],
   "source": [
    "V = xr.open_dataset('/results2/SalishSea/nowcast-green.201806/03feb19/SalishSea_1h_20190203_20190203_grid_V.nc')"
   ]
  },
  {
   "cell_type": "code",
   "execution_count": 48,
   "metadata": {},
   "outputs": [],
   "source": [
    "unstaggered_U  = viz_tools.unstagger_xarray(viz_tools.unstagger_xarray(viz_tools.unstagger_xarray(U.vozocrtx, 'x'), 'y'), 'depthu')"
   ]
  },
  {
   "cell_type": "code",
   "execution_count": 49,
   "metadata": {},
   "outputs": [],
   "source": [
    "unstaggered_V  = viz_tools.unstagger_xarray(viz_tools.unstagger_xarray(viz_tools.unstagger_xarray(V.vomecrty, 'x'), 'y'), 'depthv')"
   ]
  },
  {
   "cell_type": "code",
   "execution_count": 60,
   "metadata": {},
   "outputs": [],
   "source": [
    "rotatedu, rotatedv = viz_tools.rotate_vel(U, V)"
   ]
  },
  {
   "cell_type": "code",
   "execution_count": 61,
   "metadata": {},
   "outputs": [
    {
     "data": {
      "text/plain": [
       "<xarray.Dataset>\n",
       "Dimensions:               (axis_nbounds: 2, depthu: 40, depthv: 40, nvertex: 4, time_counter: 24, x: 398, y: 898)\n",
       "Coordinates:\n",
       "  * time_counter          (time_counter) datetime64[ns] 2019-02-03T00:30:00 ... 2019-02-03T23:30:00\n",
       "    time_centered         (time_counter) datetime64[ns] 2019-02-03T00:30:00 ... 2019-02-03T23:30:00\n",
       "  * depthu                (depthu) float32 0.5000003 1.5000031 ... 441.4661\n",
       "  * depthv                (depthv) float32 0.5000003 1.5000031 ... 441.4661\n",
       "Dimensions without coordinates: axis_nbounds, nvertex, x, y\n",
       "Data variables:\n",
       "    bounds_lon            (y, x, nvertex) float32 0.0 0.0 0.0 ... 0.0 0.0 0.0\n",
       "    bounds_lat            (y, x, nvertex) float32 0.0 0.0 0.0 ... 0.0 0.0 0.0\n",
       "    area                  (y, x) float32 0.0 0.0 0.0 0.0 0.0 ... 0.0 0.0 0.0 0.0\n",
       "    time_centered_bounds  (time_counter, axis_nbounds) float64 1.465e+09 ... 1.465e+09\n",
       "    time_counter_bounds   (time_counter, axis_nbounds) float64 1.465e+09 ... 1.465e+09"
      ]
     },
     "execution_count": 61,
     "metadata": {},
     "output_type": "execute_result"
    }
   ],
   "source": [
    "rotatedu"
   ]
  },
  {
   "cell_type": "markdown",
   "metadata": {},
   "source": [
    "# making HDF4 files"
   ]
  },
  {
   "cell_type": "code",
   "execution_count": 29,
   "metadata": {},
   "outputs": [],
   "source": [
    "class Particle(IsDescription):\n",
    "    name     = StringCol(16)    # 16-character String\n",
    "    idnumber  = Int64Col()      # Signed 64-bit integer\n",
    "    ADCcount  = UInt16Col()     # Unsigned short integer\n",
    "    TDCcount  = UInt8Col()      # unsigned byte\n",
    "    grid_i    = Int32Col()      # 32-bit integer\n",
    "    grid_j    = Int32Col()      # 32-bit integer\n",
    "    pressure  = Float32Col()    # float  (single-precision)\n",
    "    energy    = Float64Col()    # double (double-precision)"
   ]
  },
  {
   "cell_type": "code",
   "execution_count": 30,
   "metadata": {},
   "outputs": [],
   "source": [
    "h4file = open_file(\"test1.h4\", mode=\"w\", title=\"Test file\")"
   ]
  },
  {
   "cell_type": "code",
   "execution_count": 32,
   "metadata": {},
   "outputs": [],
   "source": [
    "group = h4file.create_group(\"/\", 'detector', 'Detector information')  # / means branching for root object created above"
   ]
  },
  {
   "cell_type": "code",
   "execution_count": 33,
   "metadata": {},
   "outputs": [],
   "source": [
    "table = h4file.create_table(group, 'readout', Particle, \"Readout example\")"
   ]
  },
  {
   "cell_type": "code",
   "execution_count": 37,
   "metadata": {},
   "outputs": [],
   "source": [
    "particle = table.row # pointer"
   ]
  },
  {
   "cell_type": "code",
   "execution_count": 39,
   "metadata": {},
   "outputs": [],
   "source": [
    "# write to table\n",
    "for i in range(10):\n",
    "    particle['name']  = 'Particle: %6d' % (i)\n",
    "    particle['TDCcount'] = i % 256\n",
    "    particle['ADCcount'] = (i * 256) % (1 << 16)\n",
    "    particle['grid_i'] = i\n",
    "    particle['grid_j'] = 10 - i\n",
    "    particle['pressure'] = float(i*i)\n",
    "    particle['energy'] = float(particle['pressure'] ** 4)\n",
    "    particle['idnumber'] = i * (2 ** 34)\n",
    "    # Insert a new particle record\n",
    "    particle.append()"
   ]
  },
  {
   "cell_type": "code",
   "execution_count": 40,
   "metadata": {},
   "outputs": [],
   "source": [
    "# flush to table\n",
    "table.flush()"
   ]
  },
  {
   "cell_type": "code",
   "execution_count": 4,
   "metadata": {},
   "outputs": [],
   "source": [
    "U = xr.open_dataset('/results2/SalishSea/nowcast-green.201806/03feb19/SalishSea_1h_20190203_20190203_grid_U.nc')\n",
    "V = xr.open_dataset('/results2/SalishSea/nowcast-green.201806/03feb19/SalishSea_1h_20190203_20190203_grid_V.nc')\n",
    "U_unst = viz_tools.unstagger_xarray(viz_tools.unstagger_xarray(viz_tools.unstagger_xarray(U.vozocrtx, 'x'), 'y'), 'depthu').values\n",
    "V_unst = viz_tools.unstagger_xarray(viz_tools.unstagger_xarray(viz_tools.unstagger_xarray(V.vomecrty, 'x'), 'y'), 'depthv').values"
   ]
  },
  {
   "cell_type": "code",
   "execution_count": 5,
   "metadata": {},
   "outputs": [],
   "source": [
    "rotatedu, rotatedv = viz_tools.rotate_vel(U_unst, V_unst)"
   ]
  },
  {
   "cell_type": "code",
   "execution_count": 7,
   "metadata": {},
   "outputs": [
    {
     "data": {
      "text/plain": [
       "(24, 40, 898, 398)"
      ]
     },
     "execution_count": 7,
     "metadata": {},
     "output_type": "execute_result"
    }
   ],
   "source": [
    "rotatedu.shape"
   ]
  },
  {
   "cell_type": "code",
   "execution_count": 9,
   "metadata": {},
   "outputs": [
    {
     "data": {
      "text/plain": [
       "<xarray.Dataset>\n",
       "Dimensions:               (axis_nbounds: 2, depthu: 40, nvertex: 4, time_counter: 24, x: 398, y: 898)\n",
       "Coordinates:\n",
       "    nav_lat               (y, x) float32 ...\n",
       "    nav_lon               (y, x) float32 ...\n",
       "  * depthu                (depthu) float32 0.5000003 1.5000031 ... 441.4661\n",
       "    time_centered         (time_counter) datetime64[ns] ...\n",
       "  * time_counter          (time_counter) datetime64[ns] 2019-02-03T00:30:00 ... 2019-02-03T23:30:00\n",
       "Dimensions without coordinates: axis_nbounds, nvertex, x, y\n",
       "Data variables:\n",
       "    bounds_lon            (y, x, nvertex) float32 ...\n",
       "    bounds_lat            (y, x, nvertex) float32 ...\n",
       "    area                  (y, x) float32 ...\n",
       "    depthu_bounds         (depthu, axis_nbounds) float32 ...\n",
       "    vozocrtx              (time_counter, depthu, y, x) float32 ...\n",
       "    time_centered_bounds  (time_counter, axis_nbounds) float64 ...\n",
       "    time_counter_bounds   (time_counter, axis_nbounds) float64 ...\n",
       "Attributes:\n",
       "    name:         SalishSea_1h_20190203_20190203\n",
       "    description:  ocean U grid variables\n",
       "    title:        ocean U grid variables\n",
       "    Conventions:  CF-1.6\n",
       "    timeStamp:    2019-Feb-03 19:13:17 GMT\n",
       "    uuid:         8f877b71-13b5-44c2-b36f-76dbbbdfa879"
      ]
     },
     "execution_count": 9,
     "metadata": {},
     "output_type": "execute_result"
    }
   ],
   "source": [
    "U"
   ]
  },
  {
   "cell_type": "code",
   "execution_count": null,
   "metadata": {},
   "outputs": [],
   "source": []
  }
 ],
 "metadata": {
  "kernelspec": {
   "display_name": "Python 3",
   "language": "python",
   "name": "python3"
  },
  "language_info": {
   "codemirror_mode": {
    "name": "ipython",
    "version": 3
   },
   "file_extension": ".py",
   "mimetype": "text/x-python",
   "name": "python",
   "nbconvert_exporter": "python",
   "pygments_lexer": "ipython3",
   "version": "3.7.1"
  }
 },
 "nbformat": 4,
 "nbformat_minor": 2
}
