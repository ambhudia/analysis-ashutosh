{
 "cells": [
  {
   "cell_type": "markdown",
   "metadata": {
    "toc": "true"
   },
   "source": [
    " # Table of Contents\n",
    "<div class=\"toc\" style=\"margin-top: 1em;\"><ul class=\"toc-item\" id=\"toc-level0\"><li><span><a href=\"http://localhost:8888/notebooks/notebooks/RPN/Untitled.ipynb?kernel_name=conda-env-anaconda3-py#Imports\" data-toc-modified-id=\"Imports-1\"><span class=\"toc-item-num\">1&nbsp;&nbsp;</span>Imports</a></span></li><li><span><a href=\"http://localhost:8888/notebooks/notebooks/RPN/Untitled.ipynb?kernel_name=conda-env-anaconda3-py#Data,-Interpolate-RPN-onto-OPS-grid\" data-toc-modified-id=\"Data,-Interpolate-RPN-onto-OPS-grid-2\"><span class=\"toc-item-num\">2&nbsp;&nbsp;</span>Data, Interpolate RPN onto OPS grid</a></span></li><li><span><a href=\"http://localhost:8888/notebooks/notebooks/RPN/Untitled.ipynb?kernel_name=conda-env-anaconda3-py#OPS-Grid-(where-we-want-the-values)\" data-toc-modified-id=\"OPS-Grid-(where-we-want-the-values)-3\"><span class=\"toc-item-num\">3&nbsp;&nbsp;</span>OPS Grid (where we want the values)</a></span></li><li><span><a href=\"http://localhost:8888/notebooks/notebooks/RPN/Untitled.ipynb?kernel_name=conda-env-anaconda3-py#Make-a-water-mask-(here-based-on-the-temperature)\" data-toc-modified-id=\"Make-a-water-mask-(here-based-on-the-temperature)-4\"><span class=\"toc-item-num\">4&nbsp;&nbsp;</span>Make a water mask (here based on the temperature)</a></span></li><li><span><a href=\"http://localhost:8888/notebooks/notebooks/RPN/Untitled.ipynb?kernel_name=conda-env-anaconda3-py#Set-up-the-fields-to-be-interpolated-and-mask-them\" data-toc-modified-id=\"Set-up-the-fields-to-be-interpolated-and-mask-them-5\"><span class=\"toc-item-num\">5&nbsp;&nbsp;</span>Set up the fields to be interpolated and mask them</a></span></li><li><span><a href=\"http://localhost:8888/notebooks/notebooks/RPN/Untitled.ipynb?kernel_name=conda-env-anaconda3-py#Run-Interpolation-and-Time-it\" data-toc-modified-id=\"Run-Interpolation-and-Time-it-6\"><span class=\"toc-item-num\">6&nbsp;&nbsp;</span>Run Interpolation and Time it</a></span></li></ul></div>"
   ]
  },
  {
   "cell_type": "markdown",
   "metadata": {},
   "source": [
    "# Imports"
   ]
  },
  {
   "cell_type": "code",
   "execution_count": 6,
   "metadata": {
    "collapsed": true
   },
   "outputs": [],
   "source": [
    "import numpy as np\n",
    "from scipy import interpolate\n",
    "import xarray as xr"
   ]
  },
  {
   "cell_type": "markdown",
   "metadata": {},
   "source": [
    "# Data, Interpolate RPN onto OPS grid"
   ]
  },
  {
   "cell_type": "code",
   "execution_count": 11,
   "metadata": {
    "collapsed": true
   },
   "outputs": [],
   "source": [
    "rpndata = xr.open_dataset('/results/forcing/atmospheric/GEM2.5/operational/ops_y2015m11d02.nc')\n",
    "opsdata = xr.open_dataset('/results/forcing/atmospheric/GEM2.5/operational/ops_y2014m11d02.nc')"
   ]
  },
  {
   "cell_type": "markdown",
   "metadata": {},
   "source": [
    "# OPS Grid (where we want the values)"
   ]
  },
  {
   "cell_type": "code",
   "execution_count": 12,
   "metadata": {
    "collapsed": true
   },
   "outputs": [],
   "source": [
    "xnew = opsdata['nav_lon'][:]\n",
    "ynew = opsdata['nav_lat'][:]"
   ]
  },
  {
   "cell_type": "code",
   "execution_count": 14,
   "metadata": {},
   "outputs": [
    {
     "data": {
      "text/plain": [
       "<xarray.Dataset>\n",
       "Dimensions:       (time_counter: 24, x: 256, y: 266)\n",
       "Coordinates:\n",
       "  * time_counter  (time_counter) datetime64[ns] 2015-11-02 ... 2015-11-02T23:00:00\n",
       "  * x             (x) float64 0.0 2.5e+03 5e+03 ... 6.325e+05 6.35e+05 6.375e+05\n",
       "  * y             (y) float64 0.0 2.5e+03 5e+03 ... 6.575e+05 6.6e+05 6.625e+05\n",
       "Data variables:\n",
       "    atmpres       (time_counter, y, x) float32 ...\n",
       "    nav_lat       (y, x) float64 ...\n",
       "    nav_lon       (y, x) float64 ...\n",
       "    precip        (time_counter, y, x) float32 ...\n",
       "    qair          (time_counter, y, x) float32 ...\n",
       "    solar         (time_counter, y, x) float32 ...\n",
       "    tair          (time_counter, y, x) float32 ...\n",
       "    therm_rad     (time_counter, y, x) float32 ...\n",
       "    u_wind        (time_counter, y, x) float32 ...\n",
       "    v_wind        (time_counter, y, x) float32 ...\n",
       "Attributes:\n",
       "    Conventions:          CF-1.0\n",
       "    GRIB2_grid_template:  20\n",
       "    NCO:                  4.4.2\n",
       "    History:              Thu Dec 31 12:27:39 2015: ncatted -O -a time_origin..."
      ]
     },
     "execution_count": 14,
     "metadata": {},
     "output_type": "execute_result"
    }
   ],
   "source": [
    "rpndata"
   ]
  },
  {
   "cell_type": "markdown",
   "metadata": {},
   "source": [
    "# Make a water mask (here based on the temperature)"
   ]
  },
  {
   "cell_type": "code",
   "execution_count": 35,
   "metadata": {
    "collapsed": true
   },
   "outputs": [],
   "source": [
    "TT = rpndata['tair'][0, 0]\n",
    "mymask = TT > 282 - 273.15"
   ]
  },
  {
   "cell_type": "code",
   "execution_count": 39,
   "metadata": {},
   "outputs": [
    {
     "data": {
      "text/plain": [
       "<xarray.DataArray 'u_wind' (time_counter: 24, y: 266, x: 256)>\n",
       "[1634304 values with dtype=float32]\n",
       "Coordinates:\n",
       "  * time_counter  (time_counter) datetime64[ns] 2015-11-02 ... 2015-11-02T23:00:00\n",
       "  * x             (x) float64 0.0 2.5e+03 5e+03 ... 6.325e+05 6.35e+05 6.375e+05\n",
       "  * y             (y) float64 0.0 2.5e+03 5e+03 ... 6.575e+05 6.6e+05 6.625e+05\n",
       "Attributes:\n",
       "    short_name:   UGRD_10maboveground\n",
       "    long_name:    U-Component of Wind\n",
       "    level:        10 m above ground\n",
       "    units:        m/s\n",
       "    coordinates:  longitude latitude"
      ]
     },
     "execution_count": 39,
     "metadata": {},
     "output_type": "execute_result"
    }
   ],
   "source": [
    "rpndata['u_wind']"
   ]
  },
  {
   "cell_type": "markdown",
   "metadata": {},
   "source": [
    "# Set up the fields to be interpolated and mask them"
   ]
  },
  {
   "cell_type": "code",
   "execution_count": 33,
   "metadata": {},
   "outputs": [],
   "source": [
    "allx = np.array(rpndata['nav_lon']).T\n",
    "ally = np.array(rpndata['nav_lat']).T\n",
    "allfield = np.array(rpndata['u_wind'][0, 0])\n",
    "inx = allx[mymask]\n",
    "iny = ally[mymask]\n",
    "points = np.array((inx, iny)).T\n",
    "field = allfield[mymask]"
   ]
  },
  {
   "cell_type": "markdown",
   "metadata": {},
   "source": [
    "# Run Interpolation and Time it"
   ]
  },
  {
   "cell_type": "code",
   "execution_count": 34,
   "metadata": {},
   "outputs": [
    {
     "ename": "ValueError",
     "evalue": "different number of values and points",
     "output_type": "error",
     "traceback": [
      "\u001b[0;31m---------------------------------------------------------------------------\u001b[0m",
      "\u001b[0;31mValueError\u001b[0m                                Traceback (most recent call last)",
      "\u001b[0;32m<timed exec>\u001b[0m in \u001b[0;36m<module>\u001b[0;34m\u001b[0m\n",
      "\u001b[0;32m~/anaconda3/lib/python3.6/site-packages/scipy/interpolate/ndgriddata.py\u001b[0m in \u001b[0;36mgriddata\u001b[0;34m(points, values, xi, method, fill_value, rescale)\u001b[0m\n\u001b[1;32m    220\u001b[0m     \u001b[0;32melif\u001b[0m \u001b[0mmethod\u001b[0m \u001b[0;34m==\u001b[0m \u001b[0;34m'linear'\u001b[0m\u001b[0;34m:\u001b[0m\u001b[0;34m\u001b[0m\u001b[0;34m\u001b[0m\u001b[0m\n\u001b[1;32m    221\u001b[0m         ip = LinearNDInterpolator(points, values, fill_value=fill_value,\n\u001b[0;32m--> 222\u001b[0;31m                                   rescale=rescale)\n\u001b[0m\u001b[1;32m    223\u001b[0m         \u001b[0;32mreturn\u001b[0m \u001b[0mip\u001b[0m\u001b[0;34m(\u001b[0m\u001b[0mxi\u001b[0m\u001b[0;34m)\u001b[0m\u001b[0;34m\u001b[0m\u001b[0;34m\u001b[0m\u001b[0m\n\u001b[1;32m    224\u001b[0m     \u001b[0;32melif\u001b[0m \u001b[0mmethod\u001b[0m \u001b[0;34m==\u001b[0m \u001b[0;34m'cubic'\u001b[0m \u001b[0;32mand\u001b[0m \u001b[0mndim\u001b[0m \u001b[0;34m==\u001b[0m \u001b[0;36m2\u001b[0m\u001b[0;34m:\u001b[0m\u001b[0;34m\u001b[0m\u001b[0;34m\u001b[0m\u001b[0m\n",
      "\u001b[0;32minterpnd.pyx\u001b[0m in \u001b[0;36mscipy.interpolate.interpnd.LinearNDInterpolator.__init__\u001b[0;34m()\u001b[0m\n",
      "\u001b[0;32minterpnd.pyx\u001b[0m in \u001b[0;36mscipy.interpolate.interpnd.NDInterpolatorBase.__init__\u001b[0;34m()\u001b[0m\n",
      "\u001b[0;32minterpnd.pyx\u001b[0m in \u001b[0;36mscipy.interpolate.interpnd._check_init_shape\u001b[0;34m()\u001b[0m\n",
      "\u001b[0;31mValueError\u001b[0m: different number of values and points"
     ]
    }
   ],
   "source": [
    "%%time\n",
    "field_on_ops = interpolate.griddata(points, field, (xnew, ynew))"
   ]
  },
  {
   "cell_type": "code",
   "execution_count": null,
   "metadata": {},
   "outputs": [],
   "source": []
  }
 ],
 "metadata": {
  "kernelspec": {
   "display_name": "Python 3",
   "language": "python",
   "name": "python3"
  },
  "language_info": {
   "codemirror_mode": {
    "name": "ipython",
    "version": 3
   },
   "file_extension": ".py",
   "mimetype": "text/x-python",
   "name": "python",
   "nbconvert_exporter": "python",
   "pygments_lexer": "ipython3",
   "version": "3.6.8"
  },
  "toc": {
   "nav_menu": {},
   "number_sections": true,
   "sideBar": true,
   "skip_h1_title": false,
   "toc_cell": true,
   "toc_position": {},
   "toc_section_display": "block",
   "toc_window_display": false
  }
 },
 "nbformat": 4,
 "nbformat_minor": 2
}
