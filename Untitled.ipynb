{
 "cells": [
  {
   "cell_type": "code",
   "execution_count": 8,
   "metadata": {},
   "outputs": [],
   "source": [
    "import tables\n",
    "import h5py\n",
    "import numpy as np"
   ]
  },
  {
   "cell_type": "code",
   "execution_count": 3,
   "metadata": {},
   "outputs": [],
   "source": [
    "def produce_tree(h5file):\n",
    "    for i in h5file.walk_groups():\n",
    "        print(i)    "
   ]
  },
  {
   "cell_type": "code",
   "execution_count": 2,
   "metadata": {},
   "outputs": [],
   "source": [
    "currents = tables.open_file('/results2/MIDOSS/forcing/SalishSeaCast/MF0/SoG/SOG12117/currents.hdf5')\n",
    "t_vars = tables.open_file('/results2/MIDOSS/forcing/SalishSeaCast/MF0/SoG/SOG12117/t.hdf5')\n",
    "winds = tables.open_file('/results2/MIDOSS/forcing/SalishSeaCast/MF0/SoG/SOG12117/winds.hdf5')\n",
    "ww3 = tables.open_file('/results2/MIDOSS/forcing/SalishSeaCast/MF0/SoG/SOG12117/ww3.hdf5')"
   ]
  },
  {
   "cell_type": "code",
   "execution_count": 4,
   "metadata": {},
   "outputs": [
    {
     "name": "stdout",
     "output_type": "stream",
     "text": [
      "/ (RootGroup) ''\n",
      "/Results (Group) ''\n",
      "/Time (Group) ''\n",
      "/Results/velocity U (Group) ''\n",
      "/Results/velocity V (Group) ''\n",
      "/Results/velocity W (Group) ''\n"
     ]
    }
   ],
   "source": [
    "produce_tree(currents)"
   ]
  },
  {
   "cell_type": "code",
   "execution_count": 5,
   "metadata": {},
   "outputs": [
    {
     "name": "stdout",
     "output_type": "stream",
     "text": [
      "/ (RootGroup) ''\n",
      "/Results (Group) ''\n",
      "/Time (Group) ''\n",
      "/Results/salinity (Group) ''\n",
      "/Results/temperature (Group) ''\n",
      "/Results/water level (Group) ''\n"
     ]
    }
   ],
   "source": [
    "produce_tree(t_vars)"
   ]
  },
  {
   "cell_type": "code",
   "execution_count": 6,
   "metadata": {},
   "outputs": [
    {
     "name": "stdout",
     "output_type": "stream",
     "text": [
      "/ (RootGroup) ''\n",
      "/Results (Group) ''\n",
      "/Time (Group) ''\n",
      "/Results/wind velocity X (Group) ''\n",
      "/Results/wind velocity Y (Group) ''\n"
     ]
    }
   ],
   "source": [
    "produce_tree(winds)"
   ]
  },
  {
   "cell_type": "code",
   "execution_count": 7,
   "metadata": {},
   "outputs": [
    {
     "name": "stdout",
     "output_type": "stream",
     "text": [
      "/ (RootGroup) ''\n",
      "/Results (Group) ''\n",
      "/Time (Group) ''\n",
      "/Results/mean wave period (Group) ''\n",
      "/Results/significant wave height (Group) ''\n",
      "/Results/whitecap coverage (Group) ''\n"
     ]
    }
   ],
   "source": [
    "produce_tree(ww3)"
   ]
  },
  {
   "cell_type": "code",
   "execution_count": 21,
   "metadata": {},
   "outputs": [],
   "source": [
    "def print_time(f, t):\n",
    "    attr = (5-len(str(t))) * \"0\" + str(t)\n",
    "    time = getattr(f.root.Time, f'Time_{attr}')\n",
    "    print(np.asarray(time).astype(int))"
   ]
  },
  {
   "cell_type": "code",
   "execution_count": 22,
   "metadata": {},
   "outputs": [
    {
     "name": "stdout",
     "output_type": "stream",
     "text": [
      "[2017   12    6    4   30    0]\n",
      "[2017   12    6    4   30    0]\n",
      "[2017   12    6    4    0    0]\n"
     ]
    }
   ],
   "source": [
    "print_time(currents, 125)\n",
    "print_time(t_vars, 125)\n",
    "print_time(winds, 125)\n"
   ]
  },
  {
   "cell_type": "code",
   "execution_count": 25,
   "metadata": {},
   "outputs": [
    {
     "name": "stdout",
     "output_type": "stream",
     "text": [
      "[2017   12    4    7   30    0]\n"
     ]
    }
   ],
   "source": [
    "print_time(ww3, 160)"
   ]
  },
  {
   "cell_type": "code",
   "execution_count": 27,
   "metadata": {},
   "outputs": [],
   "source": [
    "import xarray as xr\n",
    "ww3 = xr.open_dataset('/opp/wwatch3/nowcast/01apr18/SoG_ww3_fields_20180401_20180401.nc')"
   ]
  },
  {
   "cell_type": "code",
   "execution_count": 29,
   "metadata": {},
   "outputs": [
    {
     "data": {
      "text/plain": [
       "<xarray.DataArray 'time' (time: 48)>\n",
       "array(['2018-04-01T00:00:00.000000000', '2018-04-01T00:30:00.000000000',\n",
       "       '2018-04-01T01:00:00.000000000', '2018-04-01T01:30:00.000000000',\n",
       "       '2018-04-01T02:00:00.000000000', '2018-04-01T02:30:00.000000000',\n",
       "       '2018-04-01T03:00:00.000000000', '2018-04-01T03:30:00.000000000',\n",
       "       '2018-04-01T04:00:00.000000000', '2018-04-01T04:30:00.000000000',\n",
       "       '2018-04-01T05:00:00.000000000', '2018-04-01T05:30:00.000000000',\n",
       "       '2018-04-01T06:00:00.000000000', '2018-04-01T06:30:00.000000000',\n",
       "       '2018-04-01T07:00:00.000000000', '2018-04-01T07:30:00.000000000',\n",
       "       '2018-04-01T08:00:00.000000000', '2018-04-01T08:30:00.000000000',\n",
       "       '2018-04-01T09:00:00.000000000', '2018-04-01T09:30:00.000000000',\n",
       "       '2018-04-01T10:00:00.000000000', '2018-04-01T10:30:00.000000000',\n",
       "       '2018-04-01T11:00:00.000000000', '2018-04-01T11:30:00.000000000',\n",
       "       '2018-04-01T12:00:00.000000000', '2018-04-01T12:30:00.000000000',\n",
       "       '2018-04-01T13:00:00.000000000', '2018-04-01T13:30:00.000000000',\n",
       "       '2018-04-01T14:00:00.000000000', '2018-04-01T14:30:00.000000000',\n",
       "       '2018-04-01T15:00:00.000000000', '2018-04-01T15:30:00.000000000',\n",
       "       '2018-04-01T16:00:00.000000000', '2018-04-01T16:30:00.000000000',\n",
       "       '2018-04-01T17:00:00.000000000', '2018-04-01T17:30:00.000000000',\n",
       "       '2018-04-01T18:00:00.000000000', '2018-04-01T18:30:00.000000000',\n",
       "       '2018-04-01T19:00:00.000000000', '2018-04-01T19:30:00.000000000',\n",
       "       '2018-04-01T20:00:00.000000000', '2018-04-01T20:30:00.000000000',\n",
       "       '2018-04-01T21:00:00.000000000', '2018-04-01T21:30:00.000000000',\n",
       "       '2018-04-01T22:00:00.000000000', '2018-04-01T22:30:00.000000000',\n",
       "       '2018-04-01T23:00:00.000000000', '2018-04-01T23:30:00.000000000'],\n",
       "      dtype='datetime64[ns]')\n",
       "Coordinates:\n",
       "  * time     (time) datetime64[ns] 2018-04-01 ... 2018-04-01T23:30:00\n",
       "Attributes:\n",
       "    long_name:      julian day (UT)\n",
       "    standard_name:  time\n",
       "    conventions:    relative julian days with decimal part (as parts of the d...\n",
       "    axis:           T"
      ]
     },
     "execution_count": 29,
     "metadata": {},
     "output_type": "execute_result"
    }
   ],
   "source": [
    "ww3.time"
   ]
  },
  {
   "cell_type": "code",
   "execution_count": null,
   "metadata": {},
   "outputs": [],
   "source": []
  }
 ],
 "metadata": {
  "kernelspec": {
   "display_name": "Python 3",
   "language": "python",
   "name": "python3"
  },
  "language_info": {
   "codemirror_mode": {
    "name": "ipython",
    "version": 3
   },
   "file_extension": ".py",
   "mimetype": "text/x-python",
   "name": "python",
   "nbconvert_exporter": "python",
   "pygments_lexer": "ipython3",
   "version": "3.6.8"
  },
  "toc": {
   "nav_menu": {},
   "number_sections": true,
   "sideBar": true,
   "skip_h1_title": false,
   "toc_cell": true,
   "toc_position": {},
   "toc_section_display": "block",
   "toc_window_display": false
  }
 },
 "nbformat": 4,
 "nbformat_minor": 2
}
