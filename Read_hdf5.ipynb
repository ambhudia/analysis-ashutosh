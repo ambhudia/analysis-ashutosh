{
 "cells": [
  {
   "cell_type": "markdown",
   "metadata": {},
   "source": [
    "<h1>This notebook is an exploration of the structure of the forcing files used for MOHID<h1>\n",
    "    <ol>\n",
    "        <li>\n",
    "            <a href=\"#winds\">Winds</a>\n",
    "        </li>\n",
    "        <li>\n",
    "            <a href=\"#currents\">Currents</a>\n",
    "        </li>\n",
    "        <li>\n",
    "            <a href=\"#createwind\">Create Wind Input file Structure</a>\n",
    "        </li>\n",
    "                <li>\n",
    "            <a href=\"#createcurrents\">Create Current Input file Structure</a>\n",
    "        </li>\n",
    "    </ol>"
   ]
  },
  {
   "cell_type": "code",
   "execution_count": 1,
   "metadata": {},
   "outputs": [],
   "source": [
    "import numpy as np\n",
    "from tables import * \n",
    "import xarray as xr\n",
    "import datetime as datetime\n",
    "from salishsea_tools import viz_tools"
   ]
  },
  {
   "cell_type": "markdown",
   "metadata": {},
   "source": [
    "<div id='winds'><a name='Winds'></a><h2>Winds</h2></div>"
   ]
  },
  {
   "cell_type": "code",
   "execution_count": 38,
   "metadata": {},
   "outputs": [
    {
     "name": "stdout",
     "output_type": "stream",
     "text": [
      "/ (RootGroup) ''\n",
      "/Results (Group) ''\n",
      "/Time (Group) ''\n",
      "/Results/wind velocity X (Group) ''\n",
      "/Results/wind velocity Y (Group) ''\n"
     ]
    }
   ],
   "source": [
    "h5wind = open_file('/ocean/abhudia/MEOPAR/analysis-ashutosh/temp/st_georgia_wind.hdf5')\n",
    "for group in h5wind.walk_groups():\n",
    "    print(group)"
   ]
  },
  {
   "cell_type": "markdown",
   "metadata": {},
   "source": [
    "<div id='currents'><a name='Currents'></a><h2>Currents</h2></div>"
   ]
  },
  {
   "cell_type": "code",
   "execution_count": 17,
   "metadata": {},
   "outputs": [
    {
     "name": "stdout",
     "output_type": "stream",
     "text": [
      "/ (RootGroup) ''\n",
      "/Results (Group) ''\n",
      "/Time (Group) ''\n",
      "/Results/velocity U (Group) ''\n",
      "/Results/velocity V (Group) ''\n",
      "/Results/water level (Group) ''\n"
     ]
    }
   ],
   "source": [
    "h5current = open_file('/ocean/abhudia/MEOPAR/analysis-ashutosh/temp/St_georgia.hdf5')\n",
    "for group in h5current.walk_groups():\n",
    "    print(group)"
   ]
  },
  {
   "cell_type": "code",
   "execution_count": 36,
   "metadata": {},
   "outputs": [
    {
     "name": "stdout",
     "output_type": "stream",
     "text": [
      "2015.0\n",
      "4.0\n",
      "14.0\n",
      "22.0\n",
      "30.0\n",
      "0.0\n"
     ]
    }
   ],
   "source": [
    "for time in getattr(h5current.root.Time, 'Time_00168'):\n",
    "    print(time)"
   ]
  },
  {
   "cell_type": "code",
   "execution_count": 23,
   "metadata": {},
   "outputs": [],
   "source": [
    "a = np.asarray(getattr(getattr(h5current.root.Results, 'velocity U'), 'velocity U_00001'))"
   ]
  },
  {
   "cell_type": "code",
   "execution_count": 24,
   "metadata": {},
   "outputs": [
    {
     "data": {
      "text/plain": [
       "(40, 396, 896)"
      ]
     },
     "execution_count": 24,
     "metadata": {},
     "output_type": "execute_result"
    }
   ],
   "source": [
    "a.shape"
   ]
  },
  {
   "cell_type": "code",
   "execution_count": null,
   "metadata": {},
   "outputs": [],
   "source": []
  },
  {
   "cell_type": "markdown",
   "metadata": {},
   "source": [
    "<div id='createwind'><a name='Currents'></a><h2>Create wind input file structure</h2></div>"
   ]
  },
  {
   "cell_type": "code",
   "execution_count": 48,
   "metadata": {},
   "outputs": [
    {
     "data": {
      "text/plain": [
       "/Results/velocity U (Group) ''\n",
       "  children := ['velocity U_00001' (CArray), 'velocity U_00002' (CArray), 'velocity U_00003' (CArray), 'velocity U_00004' (CArray), 'velocity U_00005' (CArray), 'velocity U_00006' (CArray), 'velocity U_00007' (CArray), 'velocity U_00008' (CArray), 'velocity U_00009' (CArray), 'velocity U_00010' (CArray), 'velocity U_00011' (CArray), 'velocity U_00012' (CArray), 'velocity U_00013' (CArray), 'velocity U_00014' (CArray), 'velocity U_00015' (CArray), 'velocity U_00016' (CArray), 'velocity U_00017' (CArray), 'velocity U_00018' (CArray), 'velocity U_00019' (CArray), 'velocity U_00020' (CArray), 'velocity U_00021' (CArray), 'velocity U_00022' (CArray), 'velocity U_00023' (CArray), 'velocity U_00024' (CArray), 'velocity U_00025' (CArray), 'velocity U_00026' (CArray), 'velocity U_00027' (CArray), 'velocity U_00028' (CArray), 'velocity U_00029' (CArray), 'velocity U_00030' (CArray), 'velocity U_00031' (CArray), 'velocity U_00032' (CArray), 'velocity U_00033' (CArray), 'velocity U_00034' (CArray), 'velocity U_00035' (CArray), 'velocity U_00036' (CArray), 'velocity U_00037' (CArray), 'velocity U_00038' (CArray), 'velocity U_00039' (CArray), 'velocity U_00040' (CArray), 'velocity U_00041' (CArray), 'velocity U_00042' (CArray), 'velocity U_00043' (CArray), 'velocity U_00044' (CArray), 'velocity U_00045' (CArray), 'velocity U_00046' (CArray), 'velocity U_00047' (CArray), 'velocity U_00048' (CArray), 'velocity U_00049' (CArray), 'velocity U_00050' (CArray), 'velocity U_00051' (CArray), 'velocity U_00052' (CArray), 'velocity U_00053' (CArray), 'velocity U_00054' (CArray), 'velocity U_00055' (CArray), 'velocity U_00056' (CArray), 'velocity U_00057' (CArray), 'velocity U_00058' (CArray), 'velocity U_00059' (CArray), 'velocity U_00060' (CArray), 'velocity U_00061' (CArray), 'velocity U_00062' (CArray), 'velocity U_00063' (CArray), 'velocity U_00064' (CArray), 'velocity U_00065' (CArray), 'velocity U_00066' (CArray), 'velocity U_00067' (CArray), 'velocity U_00068' (CArray), 'velocity U_00069' (CArray), 'velocity U_00070' (CArray), 'velocity U_00071' (CArray), 'velocity U_00072' (CArray), 'velocity U_00073' (CArray), 'velocity U_00074' (CArray), 'velocity U_00075' (CArray), 'velocity U_00076' (CArray), 'velocity U_00077' (CArray), 'velocity U_00078' (CArray), 'velocity U_00079' (CArray), 'velocity U_00080' (CArray), 'velocity U_00081' (CArray), 'velocity U_00082' (CArray), 'velocity U_00083' (CArray), 'velocity U_00084' (CArray), 'velocity U_00085' (CArray), 'velocity U_00086' (CArray), 'velocity U_00087' (CArray), 'velocity U_00088' (CArray), 'velocity U_00089' (CArray), 'velocity U_00090' (CArray), 'velocity U_00091' (CArray), 'velocity U_00092' (CArray), 'velocity U_00093' (CArray), 'velocity U_00094' (CArray), 'velocity U_00095' (CArray), 'velocity U_00096' (CArray), 'velocity U_00097' (CArray), 'velocity U_00098' (CArray), 'velocity U_00099' (CArray), 'velocity U_00100' (CArray), 'velocity U_00101' (CArray), 'velocity U_00102' (CArray), 'velocity U_00103' (CArray), 'velocity U_00104' (CArray), 'velocity U_00105' (CArray), 'velocity U_00106' (CArray), 'velocity U_00107' (CArray), 'velocity U_00108' (CArray), 'velocity U_00109' (CArray), 'velocity U_00110' (CArray), 'velocity U_00111' (CArray), 'velocity U_00112' (CArray), 'velocity U_00113' (CArray), 'velocity U_00114' (CArray), 'velocity U_00115' (CArray), 'velocity U_00116' (CArray), 'velocity U_00117' (CArray), 'velocity U_00118' (CArray), 'velocity U_00119' (CArray), 'velocity U_00120' (CArray), 'velocity U_00121' (CArray), 'velocity U_00122' (CArray), 'velocity U_00123' (CArray), 'velocity U_00124' (CArray), 'velocity U_00125' (CArray), 'velocity U_00126' (CArray), 'velocity U_00127' (CArray), 'velocity U_00128' (CArray), 'velocity U_00129' (CArray), 'velocity U_00130' (CArray), 'velocity U_00131' (CArray), 'velocity U_00132' (CArray), 'velocity U_00133' (CArray), 'velocity U_00134' (CArray), 'velocity U_00135' (CArray), 'velocity U_00136' (CArray), 'velocity U_00137' (CArray), 'velocity U_00138' (CArray), 'velocity U_00139' (CArray), 'velocity U_00140' (CArray), 'velocity U_00141' (CArray), 'velocity U_00142' (CArray), 'velocity U_00143' (CArray), 'velocity U_00144' (CArray), 'velocity U_00145' (CArray), 'velocity U_00146' (CArray), 'velocity U_00147' (CArray), 'velocity U_00148' (CArray), 'velocity U_00149' (CArray), 'velocity U_00150' (CArray), 'velocity U_00151' (CArray), 'velocity U_00152' (CArray), 'velocity U_00153' (CArray), 'velocity U_00154' (CArray), 'velocity U_00155' (CArray), 'velocity U_00156' (CArray), 'velocity U_00157' (CArray), 'velocity U_00158' (CArray), 'velocity U_00159' (CArray), 'velocity U_00160' (CArray), 'velocity U_00161' (CArray), 'velocity U_00162' (CArray), 'velocity U_00163' (CArray), 'velocity U_00164' (CArray), 'velocity U_00165' (CArray), 'velocity U_00166' (CArray), 'velocity U_00167' (CArray), 'velocity U_00168' (CArray)]"
      ]
     },
     "execution_count": 48,
     "metadata": {},
     "output_type": "execute_result"
    }
   ],
   "source": [
    "# time is stroed in array ([year, month, day, hour, minutes, seconds])\n",
    "\n",
    "getattr(h5current.root.Results, 'velocity U')"
   ]
  },
  {
   "cell_type": "code",
   "execution_count": 21,
   "metadata": {},
   "outputs": [
    {
     "ename": "NameError",
     "evalue": "name 'h5wind' is not defined",
     "output_type": "error",
     "traceback": [
      "\u001b[0;31m---------------------------------------------------------------------------\u001b[0m",
      "\u001b[0;31mNameError\u001b[0m                                 Traceback (most recent call last)",
      "\u001b[0;32m<ipython-input-21-619ff0a2291e>\u001b[0m in \u001b[0;36m<module>\u001b[0;34m\u001b[0m\n\u001b[0;32m----> 1\u001b[0;31m \u001b[0mnp\u001b[0m\u001b[0;34m.\u001b[0m\u001b[0masarray\u001b[0m\u001b[0;34m(\u001b[0m\u001b[0mgetattr\u001b[0m\u001b[0;34m(\u001b[0m\u001b[0mgetattr\u001b[0m\u001b[0;34m(\u001b[0m\u001b[0mh5wind\u001b[0m\u001b[0;34m.\u001b[0m\u001b[0mroot\u001b[0m\u001b[0;34m.\u001b[0m\u001b[0mResults\u001b[0m\u001b[0;34m,\u001b[0m \u001b[0;34m'wind velocity X'\u001b[0m\u001b[0;34m)\u001b[0m\u001b[0;34m,\u001b[0m \u001b[0;34m'wind velocity X_00001'\u001b[0m\u001b[0;34m)\u001b[0m\u001b[0;34m)\u001b[0m\u001b[0;34m\u001b[0m\u001b[0;34m\u001b[0m\u001b[0m\n\u001b[0m",
      "\u001b[0;31mNameError\u001b[0m: name 'h5wind' is not defined"
     ]
    }
   ],
   "source": [
    "getattr(getattr(h5wind.root.Results, 'wind velocity X'), 'wind velocity X_00001')"
   ]
  },
  {
   "cell_type": "code",
   "execution_count": 6,
   "metadata": {},
   "outputs": [],
   "source": [
    "class Wind_X(IsDescription):\n",
    "    array = Float64Atom(shape=(), dflt=0.0)"
   ]
  },
  {
   "cell_type": "code",
   "execution_count": 7,
   "metadata": {},
   "outputs": [],
   "source": [
    "class Wind_Y(IsDescription):\n",
    "    array = Float64Atom(shape=(), dflt=0.0)"
   ]
  },
  {
   "cell_type": "code",
   "execution_count": 8,
   "metadata": {},
   "outputs": [],
   "source": [
    "class Times(IsDescription):\n",
    "    array = Float64Atom(shape=(), dflt=0.0)"
   ]
  },
  {
   "cell_type": "code",
   "execution_count": 9,
   "metadata": {},
   "outputs": [],
   "source": [
    "# create hdf5 file\n",
    "h5file = open_file(\"temp/winds.h5\", mode=\"w\", title=\"Winds Test file\")"
   ]
  },
  {
   "cell_type": "code",
   "execution_count": 10,
   "metadata": {},
   "outputs": [
    {
     "name": "stderr",
     "output_type": "stream",
     "text": [
      "/home/abhudia/anaconda3/lib/python3.7/site-packages/tables/path.py:112: NaturalNameWarning: object name is not a valid Python identifier: 'wind velocity X'; it does not match the pattern ``^[a-zA-Z_][a-zA-Z0-9_]*$``; you will not be able to use natural naming to access this object; using ``getattr()`` will still work, though\n",
      "  NaturalNameWarning)\n",
      "/home/abhudia/anaconda3/lib/python3.7/site-packages/tables/path.py:112: NaturalNameWarning: object name is not a valid Python identifier: 'wind velocity Y'; it does not match the pattern ``^[a-zA-Z_][a-zA-Z0-9_]*$``; you will not be able to use natural naming to access this object; using ``getattr()`` will still work, though\n",
      "  NaturalNameWarning)\n"
     ]
    }
   ],
   "source": [
    "times = h5file.create_group(\"/\", 'Time', 'Time')\n",
    "results = h5file.create_group(\"/\", 'Results', 'Results')\n",
    "wind_u = h5file.create_group(results, 'wind velocity X', 'wind velocity X')\n",
    "wind_v = h5file.create_group(results, 'wind velocity Y', 'wind velocity Y')"
   ]
  },
  {
   "cell_type": "code",
   "execution_count": 44,
   "metadata": {},
   "outputs": [
    {
     "data": {
      "text/plain": [
       "/Time/Time_00001 (CArray(6,), zlib(6)) ''\n",
       "  atom := Float64Atom(shape=(), dflt=0.0)\n",
       "  maindim := 0\n",
       "  flavor := 'numpy'\n",
       "  byteorder := 'little'\n",
       "  chunkshape := (6,)"
      ]
     },
     "execution_count": 44,
     "metadata": {},
     "output_type": "execute_result"
    }
   ],
   "source": [
    "getattr(h5wind.root.Results, ''"
   ]
  },
  {
   "cell_type": "code",
   "execution_count": 12,
   "metadata": {},
   "outputs": [],
   "source": [
    "wind_arr = xr.open_dataset('/results2/MIDOSS/forcing/SalishSeaCast/hrdps/28nov17-05dec17/GEM.nc')"
   ]
  },
  {
   "cell_type": "code",
   "execution_count": 13,
   "metadata": {},
   "outputs": [],
   "source": [
    "u_arr = wind_arr.u_wind.values"
   ]
  },
  {
   "cell_type": "code",
   "execution_count": 14,
   "metadata": {},
   "outputs": [],
   "source": [
    "v_arr = wind_arr.v_wind.values"
   ]
  },
  {
   "cell_type": "code",
   "execution_count": 15,
   "metadata": {},
   "outputs": [
    {
     "data": {
      "text/plain": [
       "(192, 266, 256)"
      ]
     },
     "execution_count": 15,
     "metadata": {},
     "output_type": "execute_result"
    }
   ],
   "source": [
    "u_arr.shape"
   ]
  },
  {
   "cell_type": "code",
   "execution_count": null,
   "metadata": {},
   "outputs": [],
   "source": [
    "# write u wind values ot array\n",
    "for i in range(u_arr.shape[0]):\n",
    "    h5file.create_carray(wind_u, f'{i}',obj = u_arr[i],shape=(266, 256), chunkshape = (266, 256))"
   ]
  },
  {
   "cell_type": "code",
   "execution_count": 17,
   "metadata": {},
   "outputs": [],
   "source": [
    "# write u wind values ot array\n",
    "for i in range(v_arr.shape[0]):\n",
    "    h5file.create_carray(wind_v, f'{i}',obj = v_arr[i],shape=(266, 256), chunkshape = (266, 256))"
   ]
  },
  {
   "cell_type": "code",
   "execution_count": 18,
   "metadata": {},
   "outputs": [
    {
     "name": "stdout",
     "output_type": "stream",
     "text": [
      "/ (RootGroup) 'Winds Test file'\n",
      "/Results (Group) 'Results'\n",
      "/Time (Group) 'Time'\n",
      "/Results/wind velocity X (Group) 'wind velocity X'\n",
      "/Results/wind velocity Y (Group) 'wind velocity Y'\n"
     ]
    }
   ],
   "source": [
    "for group in h5file.walk_groups():\n",
    "    print(group)"
   ]
  },
  {
   "cell_type": "code",
   "execution_count": 29,
   "metadata": {},
   "outputs": [
    {
     "data": {
      "text/plain": [
       "(266, 256)"
      ]
     },
     "execution_count": 29,
     "metadata": {},
     "output_type": "execute_result"
    }
   ],
   "source": [
    "# confirm\n",
    "np.asarray(getattr(getattr(h5file.root.Results, 'wind velocity X'), '0'))"
   ]
  },
  {
   "cell_type": "markdown",
   "metadata": {},
   "source": [
    "<div id='createcurrents'><a name='Currents'></a><h2>Create currents input file structure</h2></div>"
   ]
  },
  {
   "cell_type": "code",
   "execution_count": 2,
   "metadata": {},
   "outputs": [],
   "source": [
    "U = xr.open_dataset('/results2/MIDOSS/forcing/SalishSeaCast/nowcast-green/07apr15-14apr15/U.nc').isel(time_counter = slice(23,24))\n",
    "V = xr.open_dataset('/results2/MIDOSS/forcing/SalishSeaCast/nowcast-green/07apr15-14apr15/V.nc').isel(time_counter = slice(23,24))"
   ]
  },
  {
   "cell_type": "code",
   "execution_count": 8,
   "metadata": {},
   "outputs": [],
   "source": [
    "unstaggered_U  = viz_tools.unstagger_xarray(U.vozocrtx, 'x').values\n",
    "unstaggered_V  = viz_tools.unstagger_xarray(V.vomecrty, 'y').values\n",
    "current_u, current_v = viz_tools.rotate_vel(unstaggered_U, unstaggered_V)\n",
    "datelist = U.time_counter.values.astype('datetime64[s]').astype(datetime.datetime)"
   ]
  },
  {
   "cell_type": "code",
   "execution_count": 5,
   "metadata": {},
   "outputs": [],
   "source": [
    "# list of dates\n",
    "datearrays = []\n",
    "for date in datelist:\n",
    "    datearrays.append(np.array([date.year, date.month, date.day, date.hour, date.minute, date.second]))"
   ]
  },
  {
   "cell_type": "code",
   "execution_count": null,
   "metadata": {},
   "outputs": [],
   "source": [
    "# make hdf5 fle for currents\n",
    "h5file = open_file(\"temp/currents.h5\", mode=\"w\", title=\"Currents Test file\")\n",
    "\n",
    "# make tree structure\n",
    "times = h5file.create_group(\"/\", 'Time', 'Time')\n",
    "results = h5file.create_group(\"/\", 'Results', 'Results')\n",
    "wind_u = h5file.create_group(results, 'velocity U', 'velocity U')\n",
    "wind_v = h5file.create_group(results, 'velocity V', 'velocity V')\n",
    "\n",
    "# write u wind values to array\n",
    "for i in range(current_u.shape[0]):\n",
    "    velocity_attr = 'velocity U_' + ((5 - len(str(i))) * '0') + str(i)\n",
    "    h5file.create_carray(current_u, f'{velocity_attr}',obj = current_u[i],shape=(396, 896), chunkshape = (396, 896))\n",
    "\n",
    "# write v wind values to array\n",
    "for i in range(current_v.shape[0]):\n",
    "    velocity_attr = 'velocity V_' + ((5 - len(str(i))) * '0') + str(i)\n",
    "    h5file.create_carray(current_v, f'{velocity_attr}',obj = current_u[i],shape=(396, 896), chunkshape = (396, 896))\n",
    "    \n",
    "# write time values to array\n",
    "for i in range(len(datearrays)):\n",
    "    time_attr = 'Time_' + ((5 - len(str(i))) * '0') + str(i)\n",
    "    h5file.create_carray(times, f'{time_attr}',obj = datearrays[i],shape=(396, 896), chunkshape = (396, 896))\n",
    "\n",
    "h5file.close()"
   ]
  },
  {
   "cell_type": "code",
   "execution_count": 14,
   "metadata": {},
   "outputs": [
    {
     "ename": "TypeError",
     "evalue": "the shape parameter do not match obj.shape",
     "output_type": "error",
     "traceback": [
      "\u001b[0;31m---------------------------------------------------------------------------\u001b[0m",
      "\u001b[0;31mTypeError\u001b[0m                                 Traceback (most recent call last)",
      "\u001b[0;32m<ipython-input-14-1124491b0140>\u001b[0m in \u001b[0;36m<module>\u001b[0;34m\u001b[0m\n\u001b[1;32m     11\u001b[0m \u001b[0;32mfor\u001b[0m \u001b[0mi\u001b[0m \u001b[0;32min\u001b[0m \u001b[0mrange\u001b[0m\u001b[0;34m(\u001b[0m\u001b[0;36m1\u001b[0m\u001b[0;34m)\u001b[0m\u001b[0;34m:\u001b[0m\u001b[0;34m\u001b[0m\u001b[0;34m\u001b[0m\u001b[0m\n\u001b[1;32m     12\u001b[0m     \u001b[0mvelocity_attr\u001b[0m \u001b[0;34m=\u001b[0m \u001b[0;34m'velocity U_'\u001b[0m \u001b[0;34m+\u001b[0m \u001b[0;34m(\u001b[0m\u001b[0;34m(\u001b[0m\u001b[0;36m5\u001b[0m \u001b[0;34m-\u001b[0m \u001b[0mlen\u001b[0m\u001b[0;34m(\u001b[0m\u001b[0mstr\u001b[0m\u001b[0;34m(\u001b[0m\u001b[0mi\u001b[0m\u001b[0;34m)\u001b[0m\u001b[0;34m)\u001b[0m\u001b[0;34m)\u001b[0m \u001b[0;34m*\u001b[0m \u001b[0;34m'0'\u001b[0m\u001b[0;34m)\u001b[0m \u001b[0;34m+\u001b[0m \u001b[0mstr\u001b[0m\u001b[0;34m(\u001b[0m\u001b[0mi\u001b[0m\u001b[0;34m)\u001b[0m\u001b[0;34m\u001b[0m\u001b[0;34m\u001b[0m\u001b[0m\n\u001b[0;32m---> 13\u001b[0;31m     \u001b[0mh5file\u001b[0m\u001b[0;34m.\u001b[0m\u001b[0mcreate_carray\u001b[0m\u001b[0;34m(\u001b[0m\u001b[0mcurrent_u\u001b[0m\u001b[0;34m,\u001b[0m \u001b[0;34mf'{velocity_attr}'\u001b[0m\u001b[0;34m,\u001b[0m\u001b[0mobj\u001b[0m \u001b[0;34m=\u001b[0m \u001b[0mcurrent_u\u001b[0m\u001b[0;34m[\u001b[0m\u001b[0mi\u001b[0m\u001b[0;34m]\u001b[0m\u001b[0;34m.\u001b[0m\u001b[0mT\u001b[0m\u001b[0;34m,\u001b[0m\u001b[0mshape\u001b[0m\u001b[0;34m=\u001b[0m\u001b[0;34m(\u001b[0m\u001b[0;36m396\u001b[0m\u001b[0;34m,\u001b[0m \u001b[0;36m896\u001b[0m\u001b[0;34m)\u001b[0m\u001b[0;34m,\u001b[0m \u001b[0mchunkshape\u001b[0m \u001b[0;34m=\u001b[0m \u001b[0;34m(\u001b[0m\u001b[0;36m396\u001b[0m\u001b[0;34m,\u001b[0m \u001b[0;36m896\u001b[0m\u001b[0;34m)\u001b[0m\u001b[0;34m)\u001b[0m\u001b[0;34m\u001b[0m\u001b[0;34m\u001b[0m\u001b[0m\n\u001b[0m\u001b[1;32m     14\u001b[0m \u001b[0;34m\u001b[0m\u001b[0m\n\u001b[1;32m     15\u001b[0m \u001b[0;31m# write v wind values to array\u001b[0m\u001b[0;34m\u001b[0m\u001b[0;34m\u001b[0m\u001b[0;34m\u001b[0m\u001b[0m\n",
      "\u001b[0;32m~/anaconda3/lib/python3.7/site-packages/tables/file.py\u001b[0m in \u001b[0;36mcreate_carray\u001b[0;34m(self, where, name, atom, shape, title, filters, chunkshape, byteorder, createparents, obj, track_times)\u001b[0m\n\u001b[1;32m   1258\u001b[0m \u001b[0;34m\u001b[0m\u001b[0m\n\u001b[1;32m   1259\u001b[0m             \u001b[0;32mif\u001b[0m \u001b[0mshape\u001b[0m \u001b[0;32mis\u001b[0m \u001b[0;32mnot\u001b[0m \u001b[0;32mNone\u001b[0m \u001b[0;32mand\u001b[0m \u001b[0mshape\u001b[0m \u001b[0;34m!=\u001b[0m \u001b[0mobj\u001b[0m\u001b[0;34m.\u001b[0m\u001b[0mshape\u001b[0m\u001b[0;34m:\u001b[0m\u001b[0;34m\u001b[0m\u001b[0;34m\u001b[0m\u001b[0m\n\u001b[0;32m-> 1260\u001b[0;31m                 \u001b[0;32mraise\u001b[0m \u001b[0mTypeError\u001b[0m\u001b[0;34m(\u001b[0m\u001b[0;34m'the shape parameter do not match obj.shape'\u001b[0m\u001b[0;34m)\u001b[0m\u001b[0;34m\u001b[0m\u001b[0;34m\u001b[0m\u001b[0m\n\u001b[0m\u001b[1;32m   1261\u001b[0m             \u001b[0;32melse\u001b[0m\u001b[0;34m:\u001b[0m\u001b[0;34m\u001b[0m\u001b[0;34m\u001b[0m\u001b[0m\n\u001b[1;32m   1262\u001b[0m                 \u001b[0mshape\u001b[0m \u001b[0;34m=\u001b[0m \u001b[0mobj\u001b[0m\u001b[0;34m.\u001b[0m\u001b[0mshape\u001b[0m\u001b[0;34m\u001b[0m\u001b[0;34m\u001b[0m\u001b[0m\n",
      "\u001b[0;31mTypeError\u001b[0m: the shape parameter do not match obj.shape"
     ]
    }
   ],
   "source": [
    "####Test by making one input\n",
    "\n",
    "\n",
    "# make hdf5 fle for currents\n",
    "h5file = open_file(\"temp/test1.h5\", mode=\"w\", title=\"Currents Test file\")\n",
    "\n",
    "# make tree structure\n",
    "times = h5file.create_group(\"/\", 'Time', 'Time')\n",
    "results = h5file.create_group(\"/\", 'Results', 'Results')\n",
    "wind_u = h5file.create_group(results, 'velocity U', 'velocity U')\n",
    "wind_v = h5file.create_group(results, 'velocity V', 'velocity V')\n",
    "\n",
    "# write u wind values to array\n",
    "for i in range(1):\n",
    "    velocity_attr = 'velocity U_' + ((5 - len(str(i))) * '0') + str(i)\n",
    "    h5file.create_carray(current_u, f'{velocity_attr}',obj = current_u[i].T,shape=(396, 896), chunkshape = (396, 896))\n",
    "\n",
    "# write v wind values to array\n",
    "for i in range(1):\n",
    "    velocity_attr = 'velocity V_' + ((5 - len(str(i))) * '0') + str(i)\n",
    "    h5file.create_carray(current_v, f'{velocity_attr}',obj = current_u[i].T,shape=(396, 896), chunkshape = (396, 896))\n",
    "    \n",
    "# write time values to array\n",
    "for i in range(1):\n",
    "    time_attr = 'Time_' + ((5 - len(str(i))) * '0') + str(i)\n",
    "    h5file.create_carray(times, f'{time_attr}',obj = datearrays[i].T,shape=(396, 896), chunkshape = (396, 896))\n",
    "\n",
    "h5file.close()"
   ]
  },
  {
   "cell_type": "code",
   "execution_count": 13,
   "metadata": {},
   "outputs": [],
   "source": [
    "h5file.close()"
   ]
  },
  {
   "cell_type": "code",
   "execution_count": 25,
   "metadata": {},
   "outputs": [
    {
     "data": {
      "text/plain": [
       "(40, 396, 896)"
      ]
     },
     "execution_count": 25,
     "metadata": {},
     "output_type": "execute_result"
    }
   ],
   "source": [
    "#  shape of Shihan's Nemo Grid\n",
    "a.shape"
   ]
  },
  {
   "cell_type": "code",
   "execution_count": 26,
   "metadata": {},
   "outputs": [
    {
     "data": {
      "text/plain": [
       "(1, 40, 898, 398)"
      ]
     },
     "execution_count": 26,
     "metadata": {},
     "output_type": "execute_result"
    }
   ],
   "source": [
    "# shape of nemo grid\n",
    "current_u.shape"
   ]
  },
  {
   "cell_type": "code",
   "execution_count": null,
   "metadata": {},
   "outputs": [],
   "source": []
  }
 ],
 "metadata": {
  "kernelspec": {
   "display_name": "Python 3",
   "language": "python",
   "name": "python3"
  },
  "language_info": {
   "codemirror_mode": {
    "name": "ipython",
    "version": 3
   },
   "file_extension": ".py",
   "mimetype": "text/x-python",
   "name": "python",
   "nbconvert_exporter": "python",
   "pygments_lexer": "ipython3",
   "version": "3.7.1"
  }
 },
 "nbformat": 4,
 "nbformat_minor": 2
}
