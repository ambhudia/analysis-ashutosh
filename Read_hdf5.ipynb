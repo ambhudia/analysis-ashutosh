{
 "cells": [
  {
   "cell_type": "markdown",
   "metadata": {},
   "source": [
    "<h1>This notebook is an exploration of the structure of the forcing files used for MOHID<h1>\n",
    "    <ol>\n",
    "        <li>\n",
    "            <a href=\"#winds\">Winds</a>\n",
    "        </li>\n",
    "        <li>\n",
    "            <a href=\"#currents\">Currents</a>\n",
    "        </li>\n",
    "        <li>\n",
    "            <a href=\"#createwind\">Create Wind Input file Structure</a>\n",
    "        </li>\n",
    "    </ol>"
   ]
  },
  {
   "cell_type": "code",
   "execution_count": 46,
   "metadata": {},
   "outputs": [],
   "source": [
    "import numpy as np\n",
    "from tables import * \n",
    "import xarray as xr"
   ]
  },
  {
   "cell_type": "markdown",
   "metadata": {},
   "source": [
    "<div id='winds'><a name='Winds'></a><h2>Winds</h2></div>"
   ]
  },
  {
   "cell_type": "code",
   "execution_count": 5,
   "metadata": {},
   "outputs": [
    {
     "name": "stdout",
     "output_type": "stream",
     "text": [
      "/ (RootGroup) ''\n",
      "/Results (Group) ''\n",
      "/Time (Group) ''\n",
      "/Results/wind velocity X (Group) ''\n",
      "/Results/wind velocity Y (Group) ''\n"
     ]
    }
   ],
   "source": [
    "h5wind = tables.open_file('/ocean/abhudia/MEOPAR/analysis-ashutosh/temp/st_georgia_wind.hdf5')\n",
    "for group in h5wind.walk_groups():\n",
    "    print(group)"
   ]
  },
  {
   "cell_type": "markdown",
   "metadata": {},
   "source": [
    "<div id='currents'><a name='Currents'></a><h2>Currents</h2></div>"
   ]
  },
  {
   "cell_type": "code",
   "execution_count": 6,
   "metadata": {},
   "outputs": [
    {
     "name": "stdout",
     "output_type": "stream",
     "text": [
      "/ (RootGroup) ''\n",
      "/Results (Group) ''\n",
      "/Time (Group) ''\n",
      "/Results/velocity U (Group) ''\n",
      "/Results/velocity V (Group) ''\n",
      "/Results/water level (Group) ''\n"
     ]
    }
   ],
   "source": [
    "h5current = tables.open_file('/ocean/abhudia/MEOPAR/analysis-ashutosh/temp/St_georgia.hdf5')\n",
    "for group in h5current.walk_groups():\n",
    "    print(group)"
   ]
  },
  {
   "cell_type": "markdown",
   "metadata": {},
   "source": [
    "<div id='createwind'><a name='Currents'></a><h2>Create wind input file structure</h2></div>"
   ]
  },
  {
   "cell_type": "code",
   "execution_count": 50,
   "metadata": {},
   "outputs": [
    {
     "data": {
      "text/plain": [
       "/Time/Time_00001 (CArray(6,), zlib(6)) ''\n",
       "  atom := Float64Atom(shape=(), dflt=0.0)\n",
       "  maindim := 0\n",
       "  flavor := 'numpy'\n",
       "  byteorder := 'little'\n",
       "  chunkshape := (6,)"
      ]
     },
     "execution_count": 50,
     "metadata": {},
     "output_type": "execute_result"
    }
   ],
   "source": [
    "h5wind.root.Time.Time_00001"
   ]
  },
  {
   "cell_type": "code",
   "execution_count": 42,
   "metadata": {},
   "outputs": [
    {
     "data": {
      "text/plain": [
       "/Results/wind velocity X/wind velocity X_00001 (CArray(396, 896), zlib(6)) ''\n",
       "  atom := Float64Atom(shape=(), dflt=0.0)\n",
       "  maindim := 0\n",
       "  flavor := 'numpy'\n",
       "  byteorder := 'little'\n",
       "  chunkshape := (396, 896)"
      ]
     },
     "execution_count": 42,
     "metadata": {},
     "output_type": "execute_result"
    }
   ],
   "source": [
    "getattr(getattr(h5wind.root.Results, 'wind velocity X'), 'wind velocity X_00001')"
   ]
  },
  {
   "cell_type": "code",
   "execution_count": 51,
   "metadata": {},
   "outputs": [],
   "source": [
    "class Wind_U(IsDescription):\n",
    "    array = Float64Atom(shape=(), dflt=0.0)"
   ]
  },
  {
   "cell_type": "code",
   "execution_count": 52,
   "metadata": {},
   "outputs": [],
   "source": [
    "class Wind_V(IsDescription):\n",
    "    array = Float64Atom(shape=(), dflt=0.0)"
   ]
  },
  {
   "cell_type": "code",
   "execution_count": 53,
   "metadata": {},
   "outputs": [],
   "source": [
    "class Times(IsDescription):\n",
    "    array = Float64Atom(shape=(), dflt=0.0)"
   ]
  },
  {
   "cell_type": "code",
   "execution_count": null,
   "metadata": {},
   "outputs": [],
   "source": []
  }
 ],
 "metadata": {
  "kernelspec": {
   "display_name": "Python 3",
   "language": "python",
   "name": "python3"
  },
  "language_info": {
   "codemirror_mode": {
    "name": "ipython",
    "version": 3
   },
   "file_extension": ".py",
   "mimetype": "text/x-python",
   "name": "python",
   "nbconvert_exporter": "python",
   "pygments_lexer": "ipython3",
   "version": "3.7.1"
  }
 },
 "nbformat": 4,
 "nbformat_minor": 2
}
