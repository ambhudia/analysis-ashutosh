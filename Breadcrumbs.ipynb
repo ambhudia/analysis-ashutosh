{
 "cells": [
  {
   "cell_type": "markdown",
   "metadata": {},
   "source": [
    "# This notebook describes and directs to notebooks, scripts and other documents I have produced"
   ]
  },
  {
   "cell_type": "markdown",
   "metadata": {},
   "source": [
    "<h2>\n",
    "    <a href = \"https://nbviewer.jupyter.org/urls/bitbucket.org/midoss/analysis-ashutosh/raw/default//wind_climatology_maps.ipynb\">\n",
    "    1. Wind Climatology Maps\n",
    "        </a>\n",
    "</h2>\n",
    "<p>Notebook used for generating the wind climatology maps at the beginning of the term. Heavily refactored for accessibility 18 Apr 2019.\n",
    "    <ul>\n",
    "        <li>Mean, Standard Deviation, Maxima, percentage of days exceeding 5m/s and 10m/s by month computed for each year (2015, 2016, 2017, 2018)</li>\n",
    "        <li>Mean, Standard Deviation, Maxima, percentage of days exceeding 5m/s and 10m/s by month computed for all years (2015, 2016, 2017, 2018)</li>\n",
    "    </ul>\n",
    "</p>\n",
    "<p>Sample output:</p>\n",
    "<a href=\"./breadcrumbs/1_wind_climatology_maps.png\" target=\"new\">\n",
    "    <img src=\"./breadcrumbs/1_wind_climatology_maps.png\" style=\"width:600px\">\n",
    "</a>"
   ]
  },
  {
   "cell_type": "markdown",
   "metadata": {},
   "source": [
    "<h2> Wind speed timeseries </h2>\n",
    "<p>Notebook used for generating the wind speed time series at each of the salmon bank, turn point and strait of Georgia locations.\n",
    "    <ul>\n",
    "        <li>Raw plot of timeseries, Daily average, Running mean and Standard deviation of wind speed by month (for years 2015, 2016, 2017, 2018)</li>\n",
    "    </ul>\n",
    "</p>\n",
    "<p>Sample output:</p>\n",
    "<a href=\"./breadcrumbs/wind_speed_timeseries.png\" target=\"new\">\n",
    "    <img src=\"./breadcrumbs/wind_speed_timeseries.png\" style=\"width:600px\">\n",
    "</a>"
   ]
  },
  {
   "cell_type": "markdown",
   "metadata": {},
   "source": [
    "<h2> explore_pytables_h5py</h2>\n",
    "<p>Exploration of use of pytables and h5py libraries for creating forcing files for MOHID</p>\n",
    "<ul>\n",
    "    <li>Walking the file structure of Shihan's input files to reverse engineer the tree</li>\n",
    "    <li>Creating winds and current input files using pytables. Saw that I couldn't figure out how to write metadata without modifying carray class, but blanched when I saw the output files were 10X larger than they should be e.g. 30GB for a week of SSC output.</li>\n",
    "    <li>Creating winds and current input files using h5py. This method was able to replicate Shihan's input files and solve problems faced when using pytables.</li>\n",
    "    <li>For each compression factor from 1-9, looking at the saving in file size and time taken to create input files using h5py</li>\n",
    "</ul>"
   ]
  },
  {
   "cell_type": "markdown",
   "metadata": {},
   "source": [
    "<h2> Spring/Neap Tide Record </h2>\n",
    "<p>Notebook used for generating plots of spring/neap tide cycles\n",
    "    <ul>\n",
    "        <li>For each of the three chosen locations, plot the spring/neap tide record.\n",
    "            Signal Calculated as: max(tidal_record_for_each_day) - min(tidal_record_for_each_day.\n",
    "            (for years 2015, 2016, 2017, 2018)</li>\n",
    "    </ul>\n",
    "</p>\n",
    "<p>Sample output:</p>\n",
    "<a href=\"./breadcrumbs/SpringNeapTide.png\" target=\"new\">\n",
    "    <img src=\"./breadcrumbs/SpringNeapTide.png\" style=\"width:600px\">\n",
    "</a>"
   ]
  },
  {
   "cell_type": "markdown",
   "metadata": {},
   "source": [
    "<h2> Plots of Stratification Vs Depth </h2>\n",
    "<p>\n",
    "    <ul>\n",
    "        <li>For each of the three chosen locations, plot the stratification vs depth at various times</li>\n",
    "        <li>Used a text input date parser to locate netcdf files on /results2 and extract profiles</li>\n",
    "    </ul>\n",
    "</p>\n",
    "<p>Sample output:</p>\n",
    "<a href=\"./breadcrumbs/stratification_v_depth.png\" target=\"new\">\n",
    "    <img src=\"./breadcrumbs/stratification_v_depth.png\" style=\"width:600px\">\n",
    "</a>"
   ]
  },
  {
   "cell_type": "markdown",
   "metadata": {},
   "source": [
    "<h2> Downscaling winds </h2>\n",
    "<p> Comparing different ways of regridding GEM files for MOHID\n",
    "    <ul>\n",
    "        <li>Use scipy.interpolate.giddata to regrid using nearest neighbout, bilinear and bicubic interpolation</li>\n",
    "        <li>Visualise difference</li>\n",
    "    </ul>\n",
    "</p>\n",
    "<p>Sample output:</p>\n",
    "<a href=\"./breadcrumbs/downscale_winds.png\" target=\"new\">\n",
    "    <img src=\"./breadcrumbs/downscale_winds.png\" style=\"height:500px\">\n",
    "</a>"
   ]
  },
  {
   "cell_type": "markdown",
   "metadata": {},
   "source": [
    "<h2> Plot Rich's Drifter release Location on NEMO grid </h2>\n",
    "<p>\n",
    "    <ul>\n",
    "        <li>Visualise drifter release locations</li>\n",
    "        <p>Sample output:</p>\n",
    "            <a href=\"./breadcrumbs/drifter_release.png\" target=\"new\">\n",
    "                <img src=\"./breadcrumbs/drifter_release.png\" style=\"height:500px\">\n",
    "            </a>\n",
    "        <li>Find drifters within certain radius of input coordinates</li>\n",
    "    </ul>\n",
    "</p>\n",
    "<p>Sample output:</p>\n",
    "    <p>\n",
    "        Radius = 10 km\n",
    "\n",
    "\n",
    "        Drifters within radius 10 km of SoG point:\n",
    "\n",
    "        Index =(276, 265); time (days) = 2014-09-20 05:11:49; distance (km) = 9.968412326014565\n",
    "        Index =(282, 247); time (days) = 2017-02-14 22:03:05; distance (km) = 4.406343047696986\n",
    "        Index =(282, 247); time (days) = 2017-11-28 00:39:44; distance (km) = 4.391117416880188\n",
    "\n",
    "        Drifters within radius 10 km of turn point:\n",
    "\n",
    "        Index =(129, 233); time (days) = 2016-11-01 08:03:12; distance (km) = 7.650155015730338\n",
    "        Index =(148, 243); time (days) = 2017-04-13 17:47:21; distance (km) = 2.744154790298269\n",
    "        Index =(146, 239); time (days) = 2017-05-08 19:56:32; distance (km) = 1.420864404212626\n",
    "        Index =(147, 262); time (days) = 2017-05-12 18:03:13; distance (km) = 9.999106563957708\n",
    "        Index =(147, 262); time (days) = 2017-05-12 18:07:10; distance (km) = 9.733297460085222\n",
    "        Index =(129, 230); time (days) = 2017-09-01 08:17:08; distance (km) = 8.38425604118368\n",
    "        Index =(144, 260); time (days) = 2017-10-07 01:01:34; distance (km) = 8.92364498670166\n",
    "\n",
    "        no drifters found within 10 km of salmon bank\n",
    "</p>\n"
   ]
  },
  {
   "cell_type": "code",
   "execution_count": null,
   "metadata": {},
   "outputs": [],
   "source": []
  }
 ],
 "metadata": {
  "kernelspec": {
   "display_name": "Python 3",
   "language": "python",
   "name": "python3"
  },
  "language_info": {
   "codemirror_mode": {
    "name": "ipython",
    "version": 3
   },
   "file_extension": ".py",
   "mimetype": "text/x-python",
   "name": "python",
   "nbconvert_exporter": "python",
   "pygments_lexer": "ipython3",
   "version": "3.6.8"
  }
 },
 "nbformat": 4,
 "nbformat_minor": 2
}
