{
 "cells": [
  {
   "cell_type": "markdown",
   "metadata": {},
   "source": [
    "# This notebook describes and directs to notebooks, scripts and other documents I have produced"
   ]
  },
  {
   "cell_type": "markdown",
   "metadata": {},
   "source": [
    "<h2>1. Wind Climatology Maps </h2>\n",
    "<p>Notebook used for generating the wind climatology maps at the beginning of the term. Some weird code in there but it's documented and it works.\n",
    "    <ul>\n",
    "        <li>Mean, Standard Deviation, Maxima, percentage of days exceeding 5m/s and 10m/s by month computed for each year (2015, 2016, 2017, 2018)</li>\n",
    "        <li>Mean, Standard Deviation, Maxima, percentage of days exceeding 5m/s and 10m/s by month computed for all years (2015, 2016, 2017, 2018)</li>\n",
    "    </ul>\n",
    "</p>\n",
    "<p>Sample output:</p>\n",
    "<a href=\"./breadcrumbs/1_wind_climatology_maps.png\" target=\"new\">\n",
    "    <img src=\"./breadcrumbs/1_wind_climatology_maps.png\">\n",
    "</a>"
   ]
  },
  {
   "cell_type": "markdown",
   "metadata": {},
   "source": [
    "<h2> Wind speed timeseries </h2>\n",
    "<p>Notebook used for generating the wind speed time series at each of the salmon bank, turn point and strait of Georgia locations.\n",
    "    <ul>\n",
    "        <li>Raw plot of timeseries, Daily average, Running mean and Standard deviation of wind speed by month (for years 2015, 2016, 2017, 2018)</li>\n",
    "    </ul>\n",
    "</p>\n",
    "<p>Sample output:</p>\n",
    "<a href=\"./breadcrumbs/wind_speed_timeseries.png\" target=\"new\">\n",
    "    <img src=\"./breadcrumbs/wind_speed_timeseries.png\" style=\"height:500px\">\n",
    "</a>"
   ]
  },
  {
   "cell_type": "markdown",
   "metadata": {},
   "source": [
    "<h2> explore_pytables_h5py</h2>\n",
    "<p>Exploration of use of pytables and h5py libraries for creating forcing files for MOHID</p>\n",
    "<ul>\n",
    "    <li>Walking the file structure of Shihan's input files to reverse engineer the tree</li>\n",
    "    <li>Creating winds and current input files using pytables. Saw that I couldn't figure out how to write metadata, but blanched when I saw the output files were 10X larger than they should be e.g. 30GB for a week of SSC output.</li>\n",
    "    <li>Creating winds and current input files using h5py. This method was able to replicate Shihan's input files and solve problems face.</li>\n",
    "    <li>For each compression factor from 1-9, looking at the saving in file size and time taken to create input files using h5py</li>\n",
    "</ul>"
   ]
  },
  {
   "cell_type": "code",
   "execution_count": null,
   "metadata": {},
   "outputs": [],
   "source": []
  }
 ],
 "metadata": {
  "kernelspec": {
   "display_name": "Python 3",
   "language": "python",
   "name": "python3"
  },
  "language_info": {
   "codemirror_mode": {
    "name": "ipython",
    "version": 3
   },
   "file_extension": ".py",
   "mimetype": "text/x-python",
   "name": "python",
   "nbconvert_exporter": "python",
   "pygments_lexer": "ipython3",
   "version": "3.6.8"
  }
 },
 "nbformat": 4,
 "nbformat_minor": 2
}
