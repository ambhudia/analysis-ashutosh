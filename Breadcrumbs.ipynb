{
 "cells": [
  {
   "cell_type": "markdown",
   "metadata": {},
   "source": [
    "# This notebook describes and directs to notebooks, scripts and other documents I have produced"
   ]
  },
  {
   "cell_type": "markdown",
   "metadata": {},
   "source": [
    "<h2>1. Wind Climatology Maps </h2>\n",
    "<p>Notebook used for generating the wind climatology maps at the beginning of the term. Some weird code in there but it's documented and it works.\n",
    "    <ul>\n",
    "        <li>Mean, Standard Deviation, Maxima, percentage of days exceeding 5m/s and 10m/s by month computed for each year (2015, 2016, 2017, 2018)</li>\n",
    "        <li>Mean, Standard Deviation, Maxima, percentage of days exceeding 5m/s and 10m/s by month computed for all years (2015, 2016, 2017, 2018)</li>\n",
    "    </ul>\n",
    "</p>\n",
    "<p>Sample output:</p>\n",
    "<a href=\"./breadcrumbs/1_wind_climatology_maps.png\" target=\"new\">\n",
    "    <img src=\"./breadcrumbs/1_wind_climatology_maps.png\">\n",
    "</a>"
   ]
  },
  {
   "cell_type": "markdown",
   "metadata": {},
   "source": [
    "<h2> Wind speed timeseries </h2>\n",
    "<p>Notebook used for generating the wind speed time series at each of the salmon bank, turn point and strait of Georgia locations.\n",
    "    <ul>\n",
    "        <li>Raw plot of timeseries, Daily average, Running mean and Standard deviation of wind speed by month (for years 2015, 2016, 2017, 2018)</li>\n",
    "    </ul>\n",
    "</p>\n",
    "<p>Sample output:</p>\n",
    "<a href=\"./breadcrumbs/wind_speed_timeseries.png\" target=\"new\">\n",
    "    <img src=\"./breadcrumbs/wind_speed_timeseries.png\" style=\"height:500px\">\n",
    "</a>"
   ]
  },
  {
   "cell_type": "code",
   "execution_count": null,
   "metadata": {},
   "outputs": [],
   "source": []
  }
 ],
 "metadata": {
  "kernelspec": {
   "display_name": "Python 3",
   "language": "python",
   "name": "python3"
  },
  "language_info": {
   "codemirror_mode": {
    "name": "ipython",
    "version": 3
   },
   "file_extension": ".py",
   "mimetype": "text/x-python",
   "name": "python",
   "nbconvert_exporter": "python",
   "pygments_lexer": "ipython3",
   "version": "3.6.8"
  }
 },
 "nbformat": 4,
 "nbformat_minor": 2
}
