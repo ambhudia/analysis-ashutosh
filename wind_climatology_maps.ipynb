{
 "cells": [
  {
   "cell_type": "markdown",
   "metadata": {},
   "source": [
    "# Wind Climatology Maps"
   ]
  },
  {
   "cell_type": "code",
   "execution_count": 1,
   "metadata": {},
   "outputs": [],
   "source": [
    "import numpy as np\n",
    "import numpy.ma as ma\n",
    "import matplotlib.pyplot as plt\n",
    "import xarray as xr\n",
    "import cmocean\n",
    "from salishsea_tools import viz_tools\n",
    "from salishsea_tools import geo_tools\n",
    "from salishsea_tools import grid_tools\n",
    "from salishsea_tools import utilities\n",
    "%matplotlib inline\n",
    "speed_cmap = cmocean.cm.speed"
   ]
  },
  {
   "cell_type": "code",
   "execution_count": 2,
   "metadata": {},
   "outputs": [],
   "source": [
    "GEM = xr.open_dataset(\"https://salishsea.eos.ubc.ca/erddap/griddap/ubcSSaAtmosphereGridV1\")  # HDPRC latlon\n",
    "nemo_mask =xr.open_dataset(\"https://salishsea.eos.ubc.ca/erddap/griddap/ubcSSn2DMeshMaskV17-02\") # NEMO land mask\n",
    "nemo_grid = xr.open_dataset(\"https://salishsea.eos.ubc.ca/erddap/griddap/ubcSSnBathymetryV17-02\") # NEMO lat lon\n",
    "winddata = xr.open_dataset(\"https://salishsea.eos.ubc.ca/erddap/griddap/ubcSSaSurfaceAtmosphereFieldsV1\") # Contains wind data"
   ]
  },
  {
   "cell_type": "code",
   "execution_count": 3,
   "metadata": {},
   "outputs": [],
   "source": [
    "wind_u = winddata.u_wind.loc[winddata['time.year'].isin([2015, 2016, 2016, 2017, 2018])]\n",
    "wind_v = winddata.v_wind.loc[winddata['time.year'].isin([2015, 2016, 2016, 2017, 2018])]"
   ]
  },
  {
   "cell_type": "code",
   "execution_count": 4,
   "metadata": {},
   "outputs": [],
   "source": [
    "def build_GEM_mask(grid_GEM, grid_NEMO, mask_NEMO):\n",
    "\n",
    "\n",
    "    # Preallocate\n",
    "    ngrid_GEM = grid_GEM['gridX'].shape[0] * grid_GEM['gridY'].shape[0]\n",
    "    mask_GEM = np.zeros(ngrid_GEM, dtype=int)\n",
    "\n",
    "    # Evaluate each point on GEM grid\n",
    "    bar = utilities.statusbar('Building GEM mask', width=90, maxval=ngrid_GEM)\n",
    "    for index, coords in enumerate(bar(zip(\n",
    "            grid_GEM['longitude'].values.reshape(ngrid_GEM) - 360,\n",
    "            grid_GEM['latitude'].values.reshape(ngrid_GEM),\n",
    "    ))):\n",
    "\n",
    "        j, i = geo_tools.find_closest_model_point(\n",
    "            coords[0], coords[1],\n",
    "            grid_NEMO['longitude'], grid_NEMO['latitude'],\n",
    "        )\n",
    "        if j is np.nan or i is np.nan:\n",
    "            mask_GEM[index] = 0\n",
    "        else:\n",
    "            mask_GEM[index] = mask_NEMO[j, i].values\n",
    "\n",
    "    # Reshape\n",
    "    mask_GEM = mask_GEM.reshape(grid_GEM['longitude'].shape)\n",
    "\n",
    "    return mask_GEM"
   ]
  },
  {
   "cell_type": "code",
   "execution_count": 5,
   "metadata": {},
   "outputs": [
    {
     "name": "stderr",
     "output_type": "stream",
     "text": [
      "Building GEM mask 100% (68096 of 68096) |##################################|Time:  0:07:07\n"
     ]
    }
   ],
   "source": [
    "land_mask = build_GEM_mask(GEM, nemo_grid, nemo_mask.tmaskutil.isel(time=0))"
   ]
  },
  {
   "cell_type": "code",
   "execution_count": 6,
   "metadata": {},
   "outputs": [],
   "source": [
    "def mask_data(data, land_mask = land_mask):\n",
    "    masked_data = ma.masked_array(data, np.logical_not(land_mask))  # mask the data\n",
    "    remove_zero_rows = masked_data[~(masked_data==np.nan).all(1)]   # remove rows with only zero entries\n",
    "    transpose_rows = np.transpose(remove_zero_rows)                 # transpose the resulting array\n",
    "    remove_zero_cols = np.transpose(transpose_rows[~(transpose_rows==np.nan).all(1)])  # remove the column with only zero entries\n",
    "    return remove_zero_cols"
   ]
  },
  {
   "cell_type": "markdown",
   "metadata": {},
   "source": [
    "## By Month"
   ]
  },
  {
   "cell_type": "code",
   "execution_count": 7,
   "metadata": {},
   "outputs": [
    {
     "name": "stdout",
     "output_type": "stream",
     "text": [
      "0\n",
      "1\n",
      "2\n",
      "3\n",
      "4\n",
      "5\n",
      "6\n",
      "7\n",
      "8\n",
      "9\n",
      "10\n",
      "11\n",
      "done\n"
     ]
    }
   ],
   "source": [
    "months = ['January', 'February', 'March', 'April', 'May', 'June', 'July', 'August', 'September', 'October', 'November', 'December']\n",
    "abbr = ['jan', 'feb', 'mar', 'apr', 'may', 'jun', 'july', 'aug', 'sept', 'aug', 'oct' ,'nov' ,'dec']\n",
    "# data sets by month\n",
    "print(0)\n",
    "jan_data = xr.ufuncs.sqrt(wind_u.loc[wind_u['time.month'].isin([1])]**2 + wind_v.loc[wind_v['time.month'].isin([1])]**2)\n",
    "print(1)\n",
    "feb_data = xr.ufuncs.sqrt(wind_u.loc[wind_u['time.month'].isin([2])]**2 + wind_v.loc[wind_v['time.month'].isin([2])]**2)\n",
    "print(2)\n",
    "mar_data = xr.ufuncs.sqrt(wind_u.loc[wind_u['time.month'].isin([3])]**2 + wind_v.loc[wind_v['time.month'].isin([3])]**2)\n",
    "print(3)\n",
    "apr_data = xr.ufuncs.sqrt(wind_u.loc[wind_u['time.month'].isin([4])]**2 + wind_v.loc[wind_v['time.month'].isin([4])]**2)\n",
    "print(4)\n",
    "may_data = xr.ufuncs.sqrt(wind_u.loc[wind_u['time.month'].isin([5])]**2 + wind_v.loc[wind_v['time.month'].isin([5])]**2)\n",
    "print(5)\n",
    "jun_data = xr.ufuncs.sqrt(wind_u.loc[wind_u['time.month'].isin([6])]**2 + wind_v.loc[wind_v['time.month'].isin([6])]**2)\n",
    "print(6)\n",
    "july_data = xr.ufuncs.sqrt(wind_u.loc[wind_u['time.month'].isin([7])]**2 + wind_v.loc[wind_v['time.month'].isin([7])]**2)\n",
    "print(7)\n",
    "aug_data = xr.ufuncs.sqrt(wind_u.loc[wind_u['time.month'].isin([8])]**2 + wind_v.loc[wind_v['time.month'].isin([8])]**2)\n",
    "print(8)\n",
    "sept_data = xr.ufuncs.sqrt(wind_u.loc[wind_u['time.month'].isin([9])]**2 + wind_v.loc[wind_v['time.month'].isin([9])]**2)\n",
    "print(9)\n",
    "oct_data = xr.ufuncs.sqrt(wind_u.loc[wind_u['time.month'].isin([10])]**2 + wind_v.loc[wind_v['time.month'].isin([10])]**2)\n",
    "print(10)\n",
    "nov_data = xr.ufuncs.sqrt(wind_u.loc[wind_u['time.month'].isin([11])]**2 + wind_v.loc[wind_v['time.month'].isin([11])]**2)\n",
    "print(11)\n",
    "dec_data = xr.ufuncs.sqrt(wind_u.loc[wind_u['time.month'].isin([11])]**2 + wind_v.loc[wind_v['time.month'].isin([12])]**2)\n",
    "print('done')"
   ]
  },
  {
   "cell_type": "code",
   "execution_count": null,
   "metadata": {},
   "outputs": [],
   "source": []
  },
  {
   "cell_type": "code",
   "execution_count": 9,
   "metadata": {},
   "outputs": [],
   "source": [
    "jan_data.to_netcdf(path='jan_data.netcdf', mode='w', format=None, group=None, engine=None, encoding=None, unlimited_dims=None, compute=True)\n",
    "feb_data.to_netcdf(path='feb_data.netcdf', mode='w', format=None, group=None, engine=None, encoding=None, unlimited_dims=None, compute=True)\n",
    "mar_data.to_netcdf(path='mar_data.netcdf', mode='w', format=None, group=None, engine=None, encoding=None, unlimited_dims=None, compute=True)\n",
    "apr_data.to_netcdf(path='apr_data.netcdf', mode='w', format=None, group=None, engine=None, encoding=None, unlimited_dims=None, compute=True)\n",
    "may_data.to_netcdf(path='may_data.netcdf', mode='w', format=None, group=None, engine=None, encoding=None, unlimited_dims=None, compute=True)\n",
    "jun_data.to_netcdf(path='jun_data.netcdf', mode='w', format=None, group=None, engine=None, encoding=None, unlimited_dims=None, compute=True)\n",
    "july_data.to_netcdf(path='july_data.netcdf', mode='w', format=None, group=None, engine=None, encoding=None, unlimited_dims=None, compute=True)\n",
    "aug_data.to_netcdf(path='aug_data.netcdf', mode='w', format=None, group=None, engine=None, encoding=None, unlimited_dims=None, compute=True)\n",
    "sept_data.to_netcdf(path='sept_data.netcdf', mode='w', format=None, group=None, engine=None, encoding=None, unlimited_dims=None, compute=True)\n",
    "oct_data.to_netcdf(path='oct_data.netcdf', mode='w', format=None, group=None, engine=None, encoding=None, unlimited_dims=None, compute=True)\n",
    "nov_data.to_netcdf(path='nov_data.netcdf', mode='w', format=None, group=None, engine=None, encoding=None, unlimited_dims=None, compute=True)\n",
    "dec_data.to_netcdf(path='dec_data.netcdf', mode='w', format=None, group=None, engine=None, encoding=None, unlimited_dims=None, compute=True)"
   ]
  },
  {
   "cell_type": "code",
   "execution_count": null,
   "metadata": {},
   "outputs": [],
   "source": []
  },
  {
   "cell_type": "code",
   "execution_count": null,
   "metadata": {},
   "outputs": [],
   "source": []
  },
  {
   "cell_type": "code",
   "execution_count": null,
   "metadata": {},
   "outputs": [],
   "source": []
  }
 ],
 "metadata": {
  "kernelspec": {
   "display_name": "Python 3",
   "language": "python",
   "name": "python3"
  },
  "language_info": {
   "codemirror_mode": {
    "name": "ipython",
    "version": 3
   },
   "file_extension": ".py",
   "mimetype": "text/x-python",
   "name": "python",
   "nbconvert_exporter": "python",
   "pygments_lexer": "ipython3",
   "version": "3.7.1"
  }
 },
 "nbformat": 4,
 "nbformat_minor": 2
}
