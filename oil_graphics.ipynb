{
 "cells": [
  {
   "cell_type": "code",
   "execution_count": 1,
   "metadata": {},
   "outputs": [],
   "source": [
    "import matplotlib.pyplot as plt\n",
    "import matplotlib.animation as animation\n",
    "from matplotlib import gridspec\n",
    "import matplotlib.colors as colors\n",
    "import numpy as np\n",
    "import xarray as xr\n",
    "import h5py\n",
    "from salishsea_tools import viz_tools, utilities\n",
    "import numpy.ma as ma\n",
    "import datetime\n",
    "%matplotlib inline"
   ]
  },
  {
   "cell_type": "code",
   "execution_count": null,
   "metadata": {},
   "outputs": [],
   "source": []
  },
  {
   "cell_type": "markdown",
   "metadata": {},
   "source": [
    "import tools"
   ]
  },
  {
   "cell_type": "markdown",
   "metadata": {},
   "source": [
    "## Need"
   ]
  },
  {
   "cell_type": "markdown",
   "metadata": {},
   "source": [
    "1. Visualise 2D thickness and surface oil concentration with scopes and quivers DONE\n",
    "2. Visualise the concentration with quivers DONE\n",
    "3. Concentration by depth heat map with sea surface height DONE\n",
    "4. White cap coverage and Sea surface height where we have oil DONE"
   ]
  },
  {
   "cell_type": "markdown",
   "metadata": {},
   "source": [
    "### 1. Visualise 2D thickness and surface oil concentration with scopes and quivers"
   ]
  },
  {
   "cell_type": "code",
   "execution_count": 2,
   "metadata": {},
   "outputs": [],
   "source": [
    "# first, develop tools\n",
    "\n",
    "# we need the bounds for visualisation as well as the max for both quantities for normalisation\n",
    "# while we are doing this, we should save the arrays in memory for speed\n",
    "\n",
    "mask = xr.open_dataset('https://salishsea.eos.ubc.ca/erddap/griddap/ubcSSn2DMeshMaskV17-02').tmaskutil.isel(time = 0).values[1:897:,1:397]\n",
    "\n",
    "def plot_params(array, mask_value = 0):\n",
    "    \"\"\"ouput the array bouncding the oil spill area, and return the bounding indices and maximum array value for normalisation\n",
    "    \"\"\"\n",
    "    if len(array.shape) == 3:\n",
    "        z_indices, y_indices, x_indices = np.where(array != mask_value)\n",
    "    else: \n",
    "        y_indices, x_indices = np.where(array != mask_value)\n",
    "    if y_indices.shape[0] == 0:\n",
    "        return False\n",
    "    y_min, y_max = y_indices.min(), y_indices.max()\n",
    "    x_min, x_max = x_indices.min(), x_indices.max()\n",
    "\n",
    "    if len(array.shape) == 3:\n",
    "        array = array[...,:,y_min:y_max, x_min:x_max]\n",
    "    else:\n",
    "        array = array[y_min:y_max, x_min:x_max]\n",
    "    maxval = array.max()\n",
    "    return (array, y_min, y_max, x_min, x_max, maxval)\n",
    "\n",
    "def surface_conc_params(xarray, mask_values = 0):\n",
    "    return plot_params(xarray.OilConcentration_3D.isel(grid_z = 39).values)\n",
    "\n",
    "def thickness_params(xarray, mask_values= 0):\n",
    "    return plot_params(xarray.Thickness_2D.values)\n",
    "\n",
    "def make_scope(array):\n",
    "    if array.sum() != 0:\n",
    "        scope, ys_min, ys_max, xs_min, xs_max, maxval =  plot_params(array)\n",
    "        return (scope, ys_min, ys_max, xs_min, xs_max)\n",
    "    else:\n",
    "        scope = False\n",
    "\n",
    "def current_quivers(file, i, ymin, ymax, xmin, xmax):\n",
    "    \"\"\" produce the required arrays for producing current quivers over the oil spill region \n",
    "    \"\"\"\n",
    "    i = i + 1\n",
    "    attr = (5 - len(str(i))) * \"0\" + str(i)\n",
    "    current_u = file['Results']['velocity U'][f'velocity U_{attr}'][39][xmin:xmax, ymin:ymax]\n",
    "    current_v = file['Results']['velocity V'][f'velocity V_{attr}'][39][xmin:xmax, ymin:ymax]\n",
    "    return current_u.T, current_v.T\n",
    "\n",
    "def ssh(file, i, ymin, ymax, xmin, xmax):\n",
    "    \"\"\" produce the required arrays for sea surface height\n",
    "    \"\"\"\n",
    "    i = i + 1\n",
    "    attr = (5 - len(str(i))) * \"0\" + str(i)\n",
    "    sossheig = file['Results']['water level'][f'water level_{attr}'][xmin:xmax, ymin:ymax]\n",
    "    return sossheig.T\n",
    "\n",
    "def wcc(file, i, ymin, ymax, xmin, xmax):\n",
    "    \"\"\" produce the required arrays for whitecap coverage\n",
    "    \"\"\"\n",
    "    i = i + 1\n",
    "    attr = (5 - len(str(i))) * \"0\" + str(i)\n",
    "    whitecap = file['Results']['whitecap coverage'][f'whitecap coverage_{attr}'][xmin:xmax, ymin:ymax]\n",
    "    return whitecap.T\n",
    "\n",
    "def produce_mask(yshape, xshape):\n",
    "    mask = np.ones([yshape,xshape])\n",
    "    interval = 5\n",
    "    for i in range(int(yshape/interval)):\n",
    "        for j in range(int(xshape/interval)):\n",
    "            mask[i*interval][j*interval] = 0\n",
    "\n",
    "def wind_quivers(file, i, ymin, ymax, xmin, xmax):\n",
    "    \"\"\" produce the required arrays for producing wind quivers over the oil spill region \n",
    "    \"\"\"\n",
    "    i = i+1\n",
    "    attr = (5 - len(str(i))) * \"0\" + str(i)\n",
    "    wind_u = file['Results']['wind velocity X'][f'wind velocity X_{attr}'][xmin:xmax, ymin:ymax]\n",
    "    wind_v = file['Results']['wind velocity Y'][f'wind velocity Y_{attr}'][xmin:xmax, ymin:ymax]\n",
    "    return wind_u.T, wind_v.T\n",
    "\n",
    "def when_to_start_rendering(first_time, h5file):\n",
    "    \"\"\"produce the index of the time from which to start reading the input files relative\n",
    "       to the start time from the output Lagrangian.nc file\n",
    "    \"\"\"\n",
    "    first_time = first_time.astype('datetime64[s]').astype(datetime.datetime)\n",
    "    # go through the timestamps until you get to the one that is concurrent or just ahead of this one\n",
    "    times =  h5file['Time']\n",
    "    for i, key in enumerate(times.keys()):\n",
    "        yr, mo, day, hr, mins, s = np.asarray(times[key]).astype(int)\n",
    "        timestamp = datetime.datetime(yr, mo, day, hr, mins,s)\n",
    "        delta = (first_time - timestamp).total_seconds()\n",
    "        if  delta <= 0:\n",
    "            # if there is more than an hour of difference, there is a problem\n",
    "            if delta < (60*60):\n",
    "                return False\n",
    "            else:\n",
    "                return i\n",
    "        else:\n",
    "            continue\n",
    "    return False"
   ]
  },
  {
   "cell_type": "code",
   "execution_count": 8,
   "metadata": {},
   "outputs": [
    {
     "data": {
      "text/plain": [
       "'# construct a 3d array\\ntest_arr = np.zeros([898,398,500])\\n# get random indices\\nfrom random import randint, random\\nx_indices = np.asarray([randint(0,897) for i in range(100)])\\ny_indices = np.asarray([randint(0,398) for i in range(100)])\\nz_indices = np.asarray([randint(0,499) for i in range(100)])\\nprint(x_indices.min(), y_indices.min(), z_indices.min())\\nprint(x_indices.max(), y_indices.max(), z_indices.max())\\nrandom_numbers = []\\nfor i in range(100):\\n    random_number = random()\\n    test_arr[x_indices[i]][y_indices[i]][z_indices[i]] = random_number\\n    random_numbers.append(random_number)\\nrandom_numbers = np.asarray(random_numbers)\\nprint(random_numbers.max())\\nplot_params(test_arr)'"
      ]
     },
     "execution_count": 8,
     "metadata": {},
     "output_type": "execute_result"
    }
   ],
   "source": [
    "\"\"\"# construct a 3d array\n",
    "test_arr = np.zeros([898,398,500])\n",
    "# get random indices\n",
    "from random import randint, random\n",
    "x_indices = np.asarray([randint(0,897) for i in range(100)])\n",
    "y_indices = np.asarray([randint(0,398) for i in range(100)])\n",
    "z_indices = np.asarray([randint(0,499) for i in range(100)])\n",
    "print(x_indices.min(), y_indices.min(), z_indices.min())\n",
    "print(x_indices.max(), y_indices.max(), z_indices.max())\n",
    "random_numbers = []\n",
    "for i in range(100):\n",
    "    random_number = random()\n",
    "    test_arr[x_indices[i]][y_indices[i]][z_indices[i]] = random_number\n",
    "    random_numbers.append(random_number)\n",
    "random_numbers = np.asarray(random_numbers)\n",
    "print(random_numbers.max())\n",
    "plot_params(test_arr)\"\"\"\n",
    "\n"
   ]
  },
  {
   "cell_type": "code",
   "execution_count": 11,
   "metadata": {},
   "outputs": [],
   "source": [
    "def plot_thick_conc(xr_path, currents_path, winds_path, outfile_path, mask = mask):\n",
    "    # load the netcdf file\n",
    "    xarray = xr.open_dataset(xr_path)\n",
    "    # all of the times\n",
    "    time_values = xarray.time.values\n",
    "    \n",
    "    currents = h5py.File(currents_path)\n",
    "    winds = h5py.File(winds_path)\n",
    "    first_time = time_values[0]\n",
    "    \n",
    "    # make sure you only plot the corrent currents and winds\n",
    "    currents_start = when_to_start_rendering(first_time, currents)\n",
    "    winds_start = when_to_start_rendering(first_time, winds)\n",
    "    \n",
    "    # check that you have the correct files before you get to the time consuming bits\n",
    "    assert (currents_start is not False), \"Check that you are using correct currents input file\"\n",
    "    assert (winds_start is not False), \"Check that you are using the correct winds input file\"\n",
    "    \n",
    "    # get the plotting parameters for 2D oil thickness\n",
    "    thickness_param = thickness_params(xarray)\n",
    "    assert (thickness_param is not False), 'NO OIL THICKNESS FOUND'\n",
    "    t_array, t_y_min, t_y_max, t_x_min, t_x_max, t_maxval = thickness_param\n",
    "    \n",
    "    # get the plotting parameters for suface concentration\n",
    "    surface_conc_param = surface_conc_params(xarray)\n",
    "    assert (surface_conc_param is not False), 'NO SURFACE OIL CONCENTRATION FOUND'\n",
    "    c_array, c_y_min, c_y_max, c_x_min, c_x_max, c_maxval = surface_conc_param\n",
    "    \n",
    "    # land masks\n",
    "    t_mask = mask[t_y_min: t_y_max, t_x_min: t_x_max] # mask for oil thickness\n",
    "    c_mask = mask[c_y_min: c_y_max, c_x_min: c_x_max] # mask for oil surface concentration   \n",
    "    \n",
    "    t_q_mask = produce_mask(t_y_max-t_y_min, t_x_max-t_x_min) # mask out every fifth quiver along each axis for thickness\n",
    "    c_q_mask = produce_mask(c_y_max-c_y_min, c_x_max-c_x_min) # mask out every fifth quiver along each axis for concentration\n",
    "    \n",
    "    def update_frame(t, \n",
    "                     t_array = t_array, t_y_min = t_y_min, t_y_max = t_y_max, t_x_min = t_x_min, t_x_max = t_x_max, t_maxval = t_maxval,\n",
    "                     c_array = c_array, c_y_min = c_y_min, c_y_max = c_y_max, c_x_min = c_x_min, c_x_max = c_x_max, c_maxval = c_maxval,\n",
    "                     times = time_values, t_mask = t_mask, c_mask = c_mask, t_q_mask = t_q_mask, c_q_mask = c_q_mask,\n",
    "                     current = currents, wind = winds, currents_start = currents_start, winds_start = winds_start\n",
    "                    ):\n",
    "        # set up the subplot layout\n",
    "        grid = plt.GridSpec(2,3)\n",
    "        # !----------------------------------------------------------------------------------------------------------------------------\n",
    "        # plot the surface oil thickness\n",
    "        ax = plt.subplot(grid[0:,0])\n",
    "        thickness = t_array[t]\n",
    "        # get whatever should be in the scope\n",
    "        scope_result = make_scope(thickness)\n",
    "        if scope_result is (False or None):\n",
    "            scope = False\n",
    "        else:\n",
    "            scope, ys_min, ys_max, xs_min, xs_max = scope_result\n",
    "        \n",
    "        # for the horizontal markers on the colorbar\n",
    "        thickmin, thickmax = thickness.min(), thickness.max()\n",
    "        # mask out the zeros\n",
    "        condlist = [thickness == 0, thickness != 0]\n",
    "        choicelist = [np.nan, thickness]\n",
    "        thickness = np.select(condlist, choicelist)\n",
    "        \n",
    "        # plot full region normalised to log scale\n",
    "        plt.pcolormesh(thickness, \n",
    "                       animated = True,\n",
    "                       norm=colors.LogNorm(vmin=0.0001, vmax=t_maxval),\n",
    "                       vmin = 0.0001,\n",
    "                       vmax = t_maxval,\n",
    "                       cmap = 'inferno')\n",
    "        \n",
    "        # plot the scope boundaries\n",
    "        if scope is not False:\n",
    "            plt.hlines(ys_max, xmin = xs_min, xmax = xs_max, colors = 'Green')\n",
    "            plt.hlines(ys_min, xmin = xs_min, xmax = xs_max, colors = 'Green')\n",
    "            plt.vlines(xs_max, ymin = ys_min, ymax = ys_max, colors = 'Green')\n",
    "            plt.vlines(xs_min, ymin = ys_min, ymax = ys_max, colors = 'Green')\n",
    "        \n",
    "        # plot colorbar normalised to log scale, with current min and max thicknesses\n",
    "        cbar = plt.colorbar(plt.pcolormesh(np.meshgrid(np.array([0.0001, t_maxval])),\n",
    "                                           norm=colors.LogNorm(vmin=0.0001, vmax=t_maxval),\n",
    "                                           cmap = 'inferno'))\n",
    "        cbar.ax.get_yaxis().labelpad = 10\n",
    "        cbar.ax.set_ylabel('Oil thickness (microns)', rotation=270)\n",
    "        cbar.ax.hlines(thickmax, xmin =  0, xmax = 150, colors = 'Red')\n",
    "        cbar.ax.hlines(thickmin, xmin =  0, xmax = 150, colors = 'Blue')\n",
    "        # plot the land mask and coastline\n",
    "        plt.contourf(t_mask, levels = [-0.1, 0.1], colors = 'Burlywood')\n",
    "        plt.contour(t_mask, levels = [-0.1, 0.1], colors = 'k')        \n",
    "        # thickness limits readouts\n",
    "        plt.title(f'max thickness {thickmax}\\nmin thickness {thickmin}')\n",
    "        # plot current quivers\n",
    "        U, V = current_quivers(current, t + currents_start, t_y_min, t_y_max, t_x_min, t_x_max)\n",
    "        # mask out everything but every nth quiver\n",
    "        U_ma, V_ma = ma.array(U, mask = t_q_mask), ma.array(V, mask = t_q_mask)\n",
    "        currentq = plt.quiver(U_ma, V_ma, scale = 20, width = 0.003)\n",
    "        plt.quiverkey(currentq, 1.13, 1.92, 1, label = 'Current (1 m/s)', transform=ax.transAxes)\n",
    "        u, v = wind_quivers(wind, t + winds_start, t_y_min, t_y_max, t_x_min, t_x_max)\n",
    "        u,v = np.average(u), np.average(v)\n",
    "        windq = plt.quiver(10, t_y_max - t_y_min - 10, u, v, scale = 20, color = 'Red')\n",
    "        plt.quiverkey(windq, 1.13,1.8, 5, label = 'Wind (5 m/s)', transform=ax.transAxes)\n",
    "        \n",
    "        viz_tools.set_aspect(ax)\n",
    "        \n",
    "        # !-----------------------------------------------------------------------------------------------------------------------------\n",
    "        # plot the 2D thickness scope\n",
    "        ax = plt.subplot(grid[0, 2])\n",
    "        if scope is False:\n",
    "            plt.cla()\n",
    "            plt.xticks([])\n",
    "            plt.yticks([])\n",
    "        else:\n",
    "            # mask out the scope contants, plot land mask and coastline\n",
    "            condlist = [scope == 0, scope != 0]\n",
    "            choicelist = [np.nan, scope]\n",
    "            plt.pcolormesh(np.select(condlist, choicelist),\n",
    "                           animated = True,\n",
    "                           norm=colors.LogNorm(vmin=0.0001, vmax=t_maxval),\n",
    "                           vmin = 0.0001,\n",
    "                           vmax = t_maxval,\n",
    "                           cmap = 'inferno')\n",
    "            scope_mask = t_mask[ys_min:ys_max, xs_min:xs_max]\n",
    "            plt.contourf(scope_mask,\n",
    "                         levels = [-0.1, 0.1],\n",
    "                         colors = 'Burlywood')\n",
    "            plt.contour(scope_mask,\n",
    "                        levels = [-0.1, 0.1],\n",
    "                        colors = 'k')\n",
    "            # plot the quivers\n",
    "            U, V = U_ma[ys_min:ys_max, xs_min:xs_max],V_ma[ys_min:ys_max, xs_min:xs_max]\n",
    "            plt.quiver(U,V , scale = 20 ,width = 0.003, headwidth = 3)\n",
    "            \n",
    "            # remove axis ticks\n",
    "            plt.xticks([])\n",
    "            plt.yticks([])\n",
    "            plt.title('Oil Thickness Scope')\n",
    "        # !----------------------------------------------------------------------------------------------------------------------------\n",
    "        ax = plt.subplot(grid[0:,1])\n",
    "        concentration = c_array[t]\n",
    "        # get whatever should be in the scope\n",
    "        scope_result = make_scope(concentration)\n",
    "        if scope_result is (False or None):\n",
    "            scope = False\n",
    "        else:\n",
    "            scope, ys_min, ys_max, xs_min, xs_max = scope_result  \n",
    "        \n",
    "        # for the horizontal markers on the colorbar\n",
    "        concmin, concmax = concentration.min(), concentration.max()\n",
    "        \n",
    "        # mask out the zeros\n",
    "        condlist = [concentration == 0, concentration != 0]\n",
    "        choicelist = [np.nan, concentration]\n",
    "        concentration = np.select(condlist, choicelist)\n",
    "\n",
    "        # plot full region normalised to log scale\n",
    "        plt.pcolormesh(concentration, \n",
    "                       animated = True,\n",
    "                       norm=colors.LogNorm(vmin=0.0001, vmax=c_maxval),\n",
    "                       vmin = 0.0001,\n",
    "                       vmax = c_maxval,\n",
    "                       cmap = 'inferno')\n",
    "        # plot the scope boundaries\n",
    "        if scope is not False:\n",
    "            plt.hlines(ys_max, xmin = xs_min, xmax = xs_max, colors = 'Green')\n",
    "            plt.hlines(ys_min, xmin = xs_min, xmax = xs_max, colors = 'Green')\n",
    "            plt.vlines(xs_max, ymin = ys_min, ymax = ys_max, colors = 'Green')\n",
    "            plt.vlines(xs_min, ymin = ys_min, ymax = ys_max, colors = 'Green')\n",
    "            \n",
    "        # plot colorbar normalised to log scale, with current min and max concentrations\n",
    "        cbar = plt.colorbar(plt.pcolormesh(np.meshgrid(np.array([0.0001, c_maxval])),\n",
    "                                           norm=colors.LogNorm(vmin=0.0001, vmax=c_maxval),\n",
    "                                           cmap = 'inferno'))\n",
    "        cbar.ax.get_yaxis().labelpad = 10\n",
    "        cbar.ax.set_ylabel('Oil concentration (ppm)', rotation=270)\n",
    "        cbar.ax.hlines(concmax, xmin =  0, xmax = 300, colors = 'Red')\n",
    "        cbar.ax.hlines(concmin, xmin =  0, xmax = 300, colors = 'Blue')\n",
    "        # plot the land mask and coastline\n",
    "        plt.contourf(c_mask, levels = [-0.1, 0.1], colors = 'Burlywood')\n",
    "        plt.contour(c_mask, levels = [-0.1, 0.1], colors = 'k')        \n",
    "        # thickness limits readouts\n",
    "        plt.title(f'max concentration {concmax}\\nmin concentration {concmin}')\n",
    "        # plot current quivers\n",
    "        U, V = current_quivers(current, t + currents_start, c_y_min, c_y_max, c_x_min, c_x_max)\n",
    "        # mask out everything but every nth quiver\n",
    "        U_ma, V_ma = ma.array(U, mask = c_q_mask), ma.array(V, mask = c_q_mask)\n",
    "        currentq = plt.quiver(U_ma, V_ma, scale = 20, width = 0.003)\n",
    "        plt.quiverkey(currentq, 1.13, 1.92, 1, label = 'Current (1 m/s)', transform=ax.transAxes)\n",
    "        \n",
    "        u, v = wind_quivers(wind, t + winds_start, c_y_min, c_y_max, c_x_min, c_x_max)\n",
    "        u,v = np.average(u), np.average(v)\n",
    "        windq = plt.quiver(10, c_y_max - c_y_min - 10, u, v, scale = 20, color = 'Red')\n",
    "        plt.quiverkey(windq, 1.13,1.8, 5, label = 'Wind (5 m/s)', transform=ax.transAxes)\n",
    "        \n",
    "        viz_tools.set_aspect(ax)        \n",
    "        \n",
    "        # !------------------------------------------------------------------------------------------------------------------------------\n",
    "        ax = plt.subplot(grid[1,2])\n",
    "        if scope is False:\n",
    "            plt.cla()\n",
    "            plt.xticks([])\n",
    "            plt.yticks([])\n",
    "        else:\n",
    "            # mask out the scope contants, plot land mask and coastline\n",
    "            condlist = [scope == 0, scope != 0]\n",
    "            choicelist = [np.nan, scope]\n",
    "            plt.pcolormesh(np.select(condlist, choicelist),\n",
    "                           animated = True,\n",
    "                           norm=colors.LogNorm(vmin=0.0001, vmax=c_maxval),\n",
    "                           vmin = 0.0001,\n",
    "                           vmax = c_maxval,\n",
    "                           cmap = 'inferno')\n",
    "            scope_mask = c_mask[ys_min:ys_max, xs_min:xs_max]\n",
    "            plt.contourf(scope_mask,\n",
    "                         levels = [-0.1, 0.1],\n",
    "                         colors = 'Burlywood')\n",
    "            plt.contour(scope_mask,\n",
    "                        levels = [-0.1, 0.1],\n",
    "                        colors = 'k')\n",
    "            # plot the quivers\n",
    "            U, V = U_ma[ys_min:ys_max, xs_min:xs_max],V_ma[ys_min:ys_max, xs_min:xs_max]\n",
    "            plt.quiver(U,V , scale = 20 ,width = 0.003, headwidth = 3)\n",
    "            \n",
    "            # remove axis ticks\n",
    "            plt.xticks([])\n",
    "            plt.yticks([])\n",
    "            plt.title('Oil Concentration Scope')\n",
    "        #plt.tight_layout()\n",
    "        plt.suptitle(times[t])\n",
    "        # !----------------------------------------------------------------------------------------------------------------------------\n",
    "    fig = plt.figure(figsize = (16,9))\n",
    "    ani = animation.FuncAnimation(plt.gcf(), update_frame, range(time_values.shape[0]))\n",
    "    ani.save(outfile_path, writer = animation.FFMpegWriter(), dpi = 100)"
   ]
  },
  {
   "cell_type": "code",
   "execution_count": 12,
   "metadata": {},
   "outputs": [
    {
     "ename": "AssertionError",
     "evalue": "Check that you are using correct currents input file",
     "output_type": "error",
     "traceback": [
      "\u001b[0;31m---------------------------------------------------------------------------\u001b[0m",
      "\u001b[0;31mAssertionError\u001b[0m                            Traceback (most recent call last)",
      "\u001b[0;32m<ipython-input-12-717d0f1cec16>\u001b[0m in \u001b[0;36m<module>\u001b[0;34m\u001b[0m\n\u001b[1;32m      2\u001b[0m                 \u001b[0;34m'/home/abhudia/viz_test/forcing/currents.hdf5'\u001b[0m\u001b[0;34m,\u001b[0m\u001b[0;34m\u001b[0m\u001b[0;34m\u001b[0m\u001b[0m\n\u001b[1;32m      3\u001b[0m                 \u001b[0;34m'/home/abhudia/viz_test/forcing/winds.hdf5'\u001b[0m\u001b[0;34m,\u001b[0m\u001b[0;34m\u001b[0m\u001b[0;34m\u001b[0m\u001b[0m\n\u001b[0;32m----> 4\u001b[0;31m                 '/home/abhudia/current_u/test.mp4')\n\u001b[0m",
      "\u001b[0;32m<ipython-input-11-80edb7b42c1b>\u001b[0m in \u001b[0;36mplot_thick_conc\u001b[0;34m(xr_path, currents_path, winds_path, outfile_path, mask)\u001b[0m\n\u001b[1;32m     14\u001b[0m \u001b[0;34m\u001b[0m\u001b[0m\n\u001b[1;32m     15\u001b[0m     \u001b[0;31m# check that you have the correct files before you get to the time consuming bits\u001b[0m\u001b[0;34m\u001b[0m\u001b[0;34m\u001b[0m\u001b[0;34m\u001b[0m\u001b[0m\n\u001b[0;32m---> 16\u001b[0;31m     \u001b[0;32massert\u001b[0m \u001b[0;34m(\u001b[0m\u001b[0mcurrents_start\u001b[0m \u001b[0;32mis\u001b[0m \u001b[0;32mnot\u001b[0m \u001b[0;32mFalse\u001b[0m\u001b[0;34m)\u001b[0m\u001b[0;34m,\u001b[0m \u001b[0;34m\"Check that you are using correct currents input file\"\u001b[0m\u001b[0;34m\u001b[0m\u001b[0;34m\u001b[0m\u001b[0m\n\u001b[0m\u001b[1;32m     17\u001b[0m     \u001b[0;32massert\u001b[0m \u001b[0;34m(\u001b[0m\u001b[0mwinds_start\u001b[0m \u001b[0;32mis\u001b[0m \u001b[0;32mnot\u001b[0m \u001b[0;32mFalse\u001b[0m\u001b[0;34m)\u001b[0m\u001b[0;34m,\u001b[0m \u001b[0;34m\"Check that you are using the correct winds input file\"\u001b[0m\u001b[0;34m\u001b[0m\u001b[0;34m\u001b[0m\u001b[0m\n\u001b[1;32m     18\u001b[0m \u001b[0;34m\u001b[0m\u001b[0m\n",
      "\u001b[0;31mAssertionError\u001b[0m: Check that you are using correct currents input file"
     ]
    }
   ],
   "source": [
    "plot_thick_conc('/home/abhudia/viz_test/vvl/Lagrangian_SOGa_01dec17_MF0_1000m3_7days_unrotated_smalldt_vvl.nc',\n",
    "                '/home/abhudia/viz_test/forcing/currents.hdf5',\n",
    "                '/home/abhudia/viz_test/forcing/winds.hdf5',\n",
    "                '/home/abhudia/current_u/test.mp4')"
   ]
  },
  {
   "cell_type": "code",
   "execution_count": null,
   "metadata": {},
   "outputs": [],
   "source": []
  },
  {
   "cell_type": "code",
   "execution_count": 13,
   "metadata": {},
   "outputs": [
    {
     "data": {
      "text/plain": [
       "<xarray.Dataset>\n",
       "Dimensions:              (grid_x: 396, grid_y: 896, grid_z: 40, time: 484)\n",
       "Coordinates:\n",
       "  * time                 (time) datetime64[ns] 2017-12-01T05:30:00 ... 2017-12-07T22:30:00\n",
       "  * grid_y               (grid_y) int16 0 1 2 3 4 5 ... 890 891 892 893 894 895\n",
       "  * grid_x               (grid_x) int16 0 1 2 3 4 5 ... 390 391 392 393 394 395\n",
       "  * grid_z               (grid_z) int16 0 1 2 3 4 5 6 7 ... 33 34 35 36 37 38 39\n",
       "Data variables:\n",
       "    OilConcentration_2D  (time, grid_y, grid_x) float64 ...\n",
       "    Thickness_2D         (time, grid_y, grid_x) float64 ...\n",
       "    Dissolution_3D       (time, grid_z, grid_y, grid_x) float64 ...\n",
       "    OilConcentration_3D  (time, grid_z, grid_y, grid_x) float64 ...\n",
       "    Beaching_Time        (grid_y, grid_x) datetime64[ns] ...\n",
       "    Oil_Arrival_Time     (grid_y, grid_x) datetime64[ns] ...\n",
       "Attributes:\n",
       "    nco_openmp_thread_number:   1\n",
       "    history:                    Mon Apr  1 19:28:48 2019: ncks -4 -L4 -A /loc...\n",
       "    NCO:                        4.6.6\n",
       "    history_of_appended_files:  Mon Apr  1 19:28:48 2019: Appended file /loca..."
      ]
     },
     "execution_count": 13,
     "metadata": {},
     "output_type": "execute_result"
    }
   ],
   "source": [
    "xr.open_dataset('/home/abhudia/viz_test/vvl/Lagrangian_SOGa_01dec17_MF0_1000m3_7days_unrotated_smalldt_vvl.nc')"
   ]
  },
  {
   "cell_type": "code",
   "execution_count": 11,
   "metadata": {},
   "outputs": [],
   "source": [
    "# find the wcc and ssh at the oil spill locations\n",
    "def plot_thickness_with_ssh(xr_path, sea_level, ww3, currents_path, winds, output, mask = mask):\n",
    "    # load the netcdf file\n",
    "    xarray = xr.open_dataset(xr_path)\n",
    "    # get the plotting parameters for 2D oil thickness\n",
    "    thickness_param = thickness_params(xarray)\n",
    "    assert (thickness_param is not False), 'NO OIL THICKNESS FOUND'\n",
    "    t_array, t_y_min, t_y_max, t_x_min, t_x_max, t_maxval = thickness_param\n",
    "    \n",
    "    time_values = xarray.time.values\n",
    "    # read only the times from the input files that correspond to the timestamp in the netcdf file. \n",
    "    first_time = time+valjues[0]\n",
    "    # land mask\n",
    "    t_mask = mask[t_y_min: t_y_max, t_x_min: t_x_max] # mask for oil thickness\n",
    "    \n",
    "    currents = h5py.File(currents_path)\n",
    "    winds = h5py.File(winds)\n",
    "    t_q_mask = produce_mask(t_y_max-t_y_min, t_x_max-t_x_min)\n",
    "    sea_level = h5py.File(sea_level)\n",
    "    ww3 = h5py.File(ww3)\n",
    "    avg_norm, avg_abnorm = [],[]\n",
    "    savg_norm, savg_abnorm = [],[]\n",
    "    time_norm, time_abnorm = [],[]\n",
    "    tref_sea_level = when_to_start_rendering(first_time, sea_level)\n",
    "    t_ref_ww3 = when_to_start_rendering(first_time, ww3)\n",
    "    for t in range(time_values.shape[0]):\n",
    "        thickness = t_array[t]\n",
    "\n",
    "        sossheig = ssh(sea_level, tref_sea_level+t, t_y_min, t_y_max, t_x_min, t_x_max)\n",
    "        condlist = [t_mask == 0, t_mask == 1]\n",
    "        choicelist = [np.nan, sossheig]\n",
    "        sossheig = np.select(condlist, choicelist)\n",
    "        try:\n",
    "            whitecap = wcc(ww3, 2*(tref_ww3+t), t_y_min, t_y_max, t_x_min, t_x_max)\n",
    "            condlist = [t_mask == 0, t_mask == 1]\n",
    "            choicelist = [np.nan, whitecap]\n",
    "            whitecap = np.select(condlist, choicelist)\n",
    "        except KeyError:\n",
    "            break\n",
    "        \n",
    "        if thickness.sum() == 0:\n",
    "            # then we just get an average across the domain of the oil spill\n",
    "            avg_sossheig = np.nanmean(sossheig)\n",
    "            avg_whitecap = np.nanmean(whitecap)\n",
    "            avg_abnorm.append(avg_soss)\n",
    "            savg_abnorm.append(avg_wcc)\n",
    "            time_abnorm.append(time_values[t])\n",
    "        else:\n",
    "            indices = np.where(thickness != 0)\n",
    "            avg_sossheig = np.nanmean(sossheig[indices])\n",
    "            avg_whitecap = np.nanmean(whitecap[indices])\n",
    "            avg_norm.append(avg_soss)\n",
    "            savg_norm.append(avg_wcc)\n",
    "            time_norm.append(time_values[t])\n",
    "\n",
    "\n",
    "    max_ylim = max([max(avg_norm), max(avg_abnorm)])\n",
    "    min_ylim = min([min(avg_norm), min(avg_abnorm)])\n",
    "    smax_ylim = max([max(savg_norm), max(savg_abnorm)])\n",
    "    smin_ylim = min([min(savg_norm), min(savg_abnorm)])\n",
    "    \n",
    "    def update_frame(t, \n",
    "                     t_array = t_array, t_y_min = t_y_min, t_y_max = t_y_max, t_x_min = t_x_min, t_x_max = t_x_max, t_maxval = t_maxval,\n",
    "                     times = time_values, t_mask = t_mask, t_q_mask = t_q_mask,\n",
    "                     avg_norm = avg_norm, min_norm = min_norm, max_norm = max_norm,\n",
    "                     avg_abnorm = avg_abnorm, min_abnorm = min_abnorm, max_abnorm = max_abnorm, \n",
    "                     max_ylim = max_ylim, min_ylim = min_ylim,\n",
    "                     smax_ylim = smax_ylim, smin_ylim = smin_ylim,\n",
    "                     current = currents, wind = winds, tim_norm = time_norm, time_abnorm = time_abnorm\n",
    "                    ):\n",
    "        # !----------------------------------------------------------------------------------------------------------------------------\n",
    "        grid = plt.GridSpec(2,3)\n",
    "        ax = plt.subplot(grid[0:,0])\n",
    "        # plot the surface oil thickness\n",
    "        thickness = t_array[t]\n",
    "        # for the horizontal markers on the colorbar\n",
    "        thickmin, thickmax = thickness.min(), thickness.max()\n",
    "        # mask out the zeros\n",
    "        condlist = [thickness == 0, thickness != 0]\n",
    "        choicelist = [np.nan, thickness]\n",
    "        thickness = np.select(condlist, choicelist)\n",
    "        \n",
    "        # plot full region normalised to log scale\n",
    "        plt.pcolormesh(thickness, \n",
    "                       animated = True,\n",
    "                       norm=colors.LogNorm(vmin=0.0001, vmax=t_maxval),\n",
    "                       vmin = 0.0001,\n",
    "                       vmax = t_maxval,\n",
    "                       cmap = 'inferno')\n",
    "            \n",
    "        # plot colorbar normalised to log scale, with current min and max thicknesses\n",
    "        cbar = plt.colorbar(plt.pcolormesh(np.meshgrid(np.array([0.0001, t_maxval])),\n",
    "                                           norm=colors.LogNorm(vmin=0.0001, vmax=t_maxval),\n",
    "                                           cmap = 'inferno'))\n",
    "        cbar.ax.get_yaxis().labelpad = 10\n",
    "        cbar.ax.set_ylabel('Oil thickness (microns)', rotation=270)\n",
    "        cbar.ax.hlines(thickmax, xmin =  0, xmax = 150, colors = 'Red')\n",
    "        cbar.ax.hlines(thickmin, xmin =  0, xmax = 150, colors = 'Blue')\n",
    "        # plot the land mask and coastline\n",
    "        plt.contourf(t_mask, levels = [-0.1, 0.1], colors = 'Burlywood')\n",
    "        plt.contour(t_mask, levels = [-0.1, 0.1], colors = 'k')        \n",
    "        # thickness limits readouts\n",
    "        plt.title(f'max thickness {thickmax}\\nmin thickness {thickmin}')\n",
    "        # plot current quivers\n",
    "        U, V = current_quivers(current, t, t_y_min, t_y_max, t_x_min, t_x_max)\n",
    "        # mask out everything but every nth quiver\n",
    "        U_ma, V_ma = ma.array(U, mask = t_q_mask), ma.array(V, mask = t_q_mask)\n",
    "        currentq = plt.quiver(U_ma, V_ma, scale = 20, width = 0.003)\n",
    "        plt.quiverkey(currentq, 1.13, 1.92, 1, label = 'Current (1 m/s)', transform=ax.transAxes)\n",
    "        u, v = wind_quivers(wind, t, t_y_min, t_y_max, t_x_min, t_x_max)\n",
    "        u,v = np.average(u), np.average(v)\n",
    "        windq = plt.quiver(10, t_y_max - t_y_min - 10, u, v, scale = 20, color = 'Red')\n",
    "        plt.quiverkey(windq, 1.13,1.8, 5, label = 'Wind (5 m/s)', transform=ax.transAxes)\n",
    "        \n",
    "        viz_tools.set_aspect(ax)\n",
    "        \n",
    "        # !-----------------------------------------------------------------------------------------------------------------------------\n",
    "        # plot the ssh\n",
    "        ax1 = plt.subplot(grid[0,1:])\n",
    "        plt.plot(time_norm, avg_norm, 'b-', label = 'average sossheig w/ oil')\n",
    "        plt.plot(time_abnorm, avg_abnorm, 'r-', label = 'average sossheig w/o oil')\n",
    "        ax1.set_xlim(xmin = times[0], xmax = times[-1])\n",
    "        ax1.axvline(x = times[t], ymin = min_ylim,ymax = max_ylim)\n",
    "        plt.legend()\n",
    "        plt.title('Sea surface height (m)')\n",
    "\n",
    "        # !----------------------------------------------------------------------------------------------------------------------------\n",
    "        ax2 = plt.subplot(grid[1, 1:])\n",
    "        plt.plot(time_norm, savg_norm, 'b-', label = 'average whitecap coverage w/ oil')\n",
    "        plt.plot(time_abnorm, savg_abnorm, 'r-', label = 'average whitecap coverage w/o oil')\n",
    "        ax2.set_xlim(xmin = times[0], xmax = times[-1])\n",
    "        ax2.axvline(x = times[t], ymin = smin_ylim,ymax = smax_ylim)\n",
    "        plt.legend()\n",
    "        plt.title('Whitecap Coverage (m)')\n",
    "        \n",
    "        print(t)\n",
    "        # !----------------------------------------------------------------------------------------------------------------------------\n",
    "    fig = plt.figure(figsize = (16,9))\n",
    "    ani = animation.FuncAnimation(plt.gcf(), update_frame, range(time_values.shape[0]))\n",
    "    ani.save(output, writer = animation.FFMpegWriter(), dpi = 100)"
   ]
  },
  {
   "cell_type": "code",
   "execution_count": null,
   "metadata": {},
   "outputs": [],
   "source": [
    "plot_thickness_with_ssh('/home/abhudia/viz_test/oil.nc',\n",
    "                        '/home/abhudia/viz_test/t.hdf5',\n",
    "                        '/home/abhudia/viz_test/ww3.hdf5',\n",
    "                        '/home/abhudia/viz_test/curr.hdf5',\n",
    "                        '/home/abhudia/viz_test/winds.hdf5',\n",
    "                        '/home/abhudia/viz_test/thick_ssh.mp4')"
   ]
  },
  {
   "cell_type": "code",
   "execution_count": 26,
   "metadata": {},
   "outputs": [],
   "source": [
    "import datetime"
   ]
  },
  {
   "cell_type": "code",
   "execution_count": 29,
   "metadata": {},
   "outputs": [
    {
     "data": {
      "text/plain": [
       "datetime.datetime(2017, 12, 1, 5, 30)"
      ]
     },
     "execution_count": 29,
     "metadata": {},
     "output_type": "execute_result"
    }
   ],
   "source": [
    "xr.open_dataset('/home/abhudia/viz_test/oil.nc').time[0].values.astype('datetime64[s]').astype(datetime.datetime)"
   ]
  },
  {
   "cell_type": "code",
   "execution_count": 21,
   "metadata": {},
   "outputs": [
    {
     "data": {
      "text/plain": [
       "(40,)"
      ]
     },
     "execution_count": 21,
     "metadata": {},
     "output_type": "execute_result"
    }
   ],
   "source": [
    "np.sum(np.sum(oil.OilConcentration_3D.isel(time = 0).values, axis = 1), axis = 1).shape"
   ]
  },
  {
   "cell_type": "code",
   "execution_count": 3,
   "metadata": {},
   "outputs": [],
   "source": [
    "def conc_heatmap(oilpath):\n",
    "    oil = xr.open_dataset(oilpath)\n",
    "    ## concentration by depth heat map\n",
    "    # go through entire record and create array\n",
    "    # first, find the number of time stamps\n",
    "    time_values = oil.time.values\n",
    "    number_steps = time_values.shape[0]\n",
    "    conc_heatmap = np.zeros([40,number_steps])\n",
    "    bar = utilities.statusbar('Loading...')\n",
    "    for t in bar(range(number_steps)):\n",
    "        # sum along x and y axes to get concentration at each depth\n",
    "        conc_vals = np.sum(np.sum(oil.OilConcentration_3D.isel(time = t).values, axis = 1), axis = 1)\n",
    "        # add this to the heatmap array\n",
    "        conc_heatmap[:,t] = conc_vals\n",
    "    # cut out the useless bits\n",
    "    conc_heatmap = conc_heatmap[~(conc_heatmap==0).all(1)]\n",
    "    # get the limits\n",
    "    condlist = [conc_heatmap == 0, conc_heatmap != 0]\n",
    "    choicelist = [np.nan, conc_heatmap]\n",
    "    conc_heatmap = np.select(condlist, choicelist)\n",
    "    vmax, vmin = np.nanmax(conc_heatmap), np.nanmin(conc_heatmap)\n",
    "    # get the corresponding depth values\n",
    "    depths = conc_heatmap.shape[0]\n",
    "    depth = np.flip(np.array([0.      ,   1.000001,   2.000006,   3.000019,   4.000047,   5.000104,\n",
    "                      6.000217,   7.000441,   8.000879,   9.001736,  10.003407,  11.006662,\n",
    "                      12.013008,  13.025366,  14.049429,  15.096255,  16.187304,  17.364035,\n",
    "                      18.705973,  20.363474,  22.613064,  25.937412,  31.101034,  39.11886 ,\n",
    "                      50.963238,  67.05207 ,  86.96747 , 109.73707 , 134.34593 , 160.02956 ,\n",
    "                      186.30528 , 212.89656 , 239.65305 , 266.4952  , 293.3816  , 320.29077 ,\n",
    "                      347.2116  , 374.1385  , 401.06845 , 428.      ])[1:depths+1])\n",
    "    # now make the plot\n",
    "    fig = plt.figure(figsize = (15,15))\n",
    "    #  normaise on log10 scale\n",
    "    plt.pcolormesh(conc_heatmap,\n",
    "                   animated = True,\n",
    "                   norm=colors.LogNorm(vmin=vmin, vmax=vmax),\n",
    "                   vmin = vmin,\n",
    "                   vmax = vmax,\n",
    "                   cmap = 'inferno')\n",
    "    plt.yticks(range(depths), depth)\n",
    "    plt.xticks(np.arange(0, number_steps, 24), time_values[::24], rotation='vertical')\n",
    "    # plot colorbar normalised to log scale, with current min and max thicknesses\n",
    "    plt.colorbar()\n",
    "    plt.title('Oil Concentration (ppm)')\n",
    "    plt.ylabel('Depth (m)')"
   ]
  },
  {
   "cell_type": "code",
   "execution_count": 4,
   "metadata": {},
   "outputs": [
    {
     "name": "stderr",
     "output_type": "stream",
     "text": [
      "Loading... 100% (484 of 484) |##################################|Time:  0:02:01\n"
     ]
    },
    {
     "ename": "ValueError",
     "evalue": "zero-size array to reduction operation fmax which has no identity",
     "output_type": "error",
     "traceback": [
      "\u001b[0;31m---------------------------------------------------------------------------\u001b[0m",
      "\u001b[0;31mValueError\u001b[0m                                Traceback (most recent call last)",
      "\u001b[0;32m<ipython-input-4-ef35b8dcf221>\u001b[0m in \u001b[0;36m<module>\u001b[0;34m\u001b[0m\n\u001b[0;32m----> 1\u001b[0;31m \u001b[0mconc_heatmap\u001b[0m\u001b[0;34m(\u001b[0m\u001b[0;34m'/home/abhudia/viz_test/vvl/Lagrangian_SOGa_01dec17_MF0_1000m3_7days_unrotated_smalldt_vvl.nc'\u001b[0m\u001b[0;34m)\u001b[0m\u001b[0;34m\u001b[0m\u001b[0;34m\u001b[0m\u001b[0m\n\u001b[0m",
      "\u001b[0;32m<ipython-input-3-d1a3bcec6413>\u001b[0m in \u001b[0;36mconc_heatmap\u001b[0;34m(oilpath)\u001b[0m\n\u001b[1;32m     19\u001b[0m     \u001b[0mchoicelist\u001b[0m \u001b[0;34m=\u001b[0m \u001b[0;34m[\u001b[0m\u001b[0mnp\u001b[0m\u001b[0;34m.\u001b[0m\u001b[0mnan\u001b[0m\u001b[0;34m,\u001b[0m \u001b[0mconc_heatmap\u001b[0m\u001b[0;34m]\u001b[0m\u001b[0;34m\u001b[0m\u001b[0;34m\u001b[0m\u001b[0m\n\u001b[1;32m     20\u001b[0m     \u001b[0mconc_heatmap\u001b[0m \u001b[0;34m=\u001b[0m \u001b[0mnp\u001b[0m\u001b[0;34m.\u001b[0m\u001b[0mselect\u001b[0m\u001b[0;34m(\u001b[0m\u001b[0mcondlist\u001b[0m\u001b[0;34m,\u001b[0m \u001b[0mchoicelist\u001b[0m\u001b[0;34m)\u001b[0m\u001b[0;34m\u001b[0m\u001b[0;34m\u001b[0m\u001b[0m\n\u001b[0;32m---> 21\u001b[0;31m     \u001b[0mvmax\u001b[0m\u001b[0;34m,\u001b[0m \u001b[0mvmin\u001b[0m \u001b[0;34m=\u001b[0m \u001b[0mnp\u001b[0m\u001b[0;34m.\u001b[0m\u001b[0mnanmax\u001b[0m\u001b[0;34m(\u001b[0m\u001b[0mconc_heatmap\u001b[0m\u001b[0;34m)\u001b[0m\u001b[0;34m,\u001b[0m \u001b[0mnp\u001b[0m\u001b[0;34m.\u001b[0m\u001b[0mnanmin\u001b[0m\u001b[0;34m(\u001b[0m\u001b[0mconc_heatmap\u001b[0m\u001b[0;34m)\u001b[0m\u001b[0;34m\u001b[0m\u001b[0;34m\u001b[0m\u001b[0m\n\u001b[0m\u001b[1;32m     22\u001b[0m     \u001b[0;31m# get the corresponding depth values\u001b[0m\u001b[0;34m\u001b[0m\u001b[0;34m\u001b[0m\u001b[0;34m\u001b[0m\u001b[0m\n\u001b[1;32m     23\u001b[0m     \u001b[0mdepths\u001b[0m \u001b[0;34m=\u001b[0m \u001b[0mconc_heatmap\u001b[0m\u001b[0;34m.\u001b[0m\u001b[0mshape\u001b[0m\u001b[0;34m[\u001b[0m\u001b[0;36m0\u001b[0m\u001b[0;34m]\u001b[0m\u001b[0;34m\u001b[0m\u001b[0;34m\u001b[0m\u001b[0m\n",
      "\u001b[0;32m~/anaconda3/lib/python3.6/site-packages/numpy/lib/nanfunctions.py\u001b[0m in \u001b[0;36mnanmax\u001b[0;34m(a, axis, out, keepdims)\u001b[0m\n\u001b[1;32m    387\u001b[0m         \u001b[0;31m# Fast, but not safe for subclasses of ndarray, or object arrays,\u001b[0m\u001b[0;34m\u001b[0m\u001b[0;34m\u001b[0m\u001b[0;34m\u001b[0m\u001b[0m\n\u001b[1;32m    388\u001b[0m         \u001b[0;31m# which do not implement isnan (gh-9009), or fmax correctly (gh-8975)\u001b[0m\u001b[0;34m\u001b[0m\u001b[0;34m\u001b[0m\u001b[0;34m\u001b[0m\u001b[0m\n\u001b[0;32m--> 389\u001b[0;31m         \u001b[0mres\u001b[0m \u001b[0;34m=\u001b[0m \u001b[0mnp\u001b[0m\u001b[0;34m.\u001b[0m\u001b[0mfmax\u001b[0m\u001b[0;34m.\u001b[0m\u001b[0mreduce\u001b[0m\u001b[0;34m(\u001b[0m\u001b[0ma\u001b[0m\u001b[0;34m,\u001b[0m \u001b[0maxis\u001b[0m\u001b[0;34m=\u001b[0m\u001b[0maxis\u001b[0m\u001b[0;34m,\u001b[0m \u001b[0mout\u001b[0m\u001b[0;34m=\u001b[0m\u001b[0mout\u001b[0m\u001b[0;34m,\u001b[0m \u001b[0;34m**\u001b[0m\u001b[0mkwargs\u001b[0m\u001b[0;34m)\u001b[0m\u001b[0;34m\u001b[0m\u001b[0;34m\u001b[0m\u001b[0m\n\u001b[0m\u001b[1;32m    390\u001b[0m         \u001b[0;32mif\u001b[0m \u001b[0mnp\u001b[0m\u001b[0;34m.\u001b[0m\u001b[0misnan\u001b[0m\u001b[0;34m(\u001b[0m\u001b[0mres\u001b[0m\u001b[0;34m)\u001b[0m\u001b[0;34m.\u001b[0m\u001b[0many\u001b[0m\u001b[0;34m(\u001b[0m\u001b[0;34m)\u001b[0m\u001b[0;34m:\u001b[0m\u001b[0;34m\u001b[0m\u001b[0;34m\u001b[0m\u001b[0m\n\u001b[1;32m    391\u001b[0m             \u001b[0mwarnings\u001b[0m\u001b[0;34m.\u001b[0m\u001b[0mwarn\u001b[0m\u001b[0;34m(\u001b[0m\u001b[0;34m\"All-NaN slice encountered\"\u001b[0m\u001b[0;34m,\u001b[0m \u001b[0mRuntimeWarning\u001b[0m\u001b[0;34m,\u001b[0m \u001b[0mstacklevel\u001b[0m\u001b[0;34m=\u001b[0m\u001b[0;36m2\u001b[0m\u001b[0;34m)\u001b[0m\u001b[0;34m\u001b[0m\u001b[0;34m\u001b[0m\u001b[0m\n",
      "\u001b[0;31mValueError\u001b[0m: zero-size array to reduction operation fmax which has no identity"
     ]
    }
   ],
   "source": [
    "conc_heatmap('/home/abhudia/viz_test/vvl/Lagrangian_SOGa_01dec17_MF0_1000m3_7days_unrotated_smalldt_vvl.nc')"
   ]
  },
  {
   "cell_type": "code",
   "execution_count": 38,
   "metadata": {},
   "outputs": [],
   "source": []
  },
  {
   "cell_type": "code",
   "execution_count": 32,
   "metadata": {},
   "outputs": [
    {
     "data": {
      "text/plain": [
       "KeysView(<HDF5 group \"/Time\" (168 members)>)"
      ]
     },
     "execution_count": 32,
     "metadata": {},
     "output_type": "execute_result"
    }
   ],
   "source": [
    "h5file['Time'].keys()"
   ]
  },
  {
   "cell_type": "code",
   "execution_count": 40,
   "metadata": {},
   "outputs": [
    {
     "data": {
      "text/plain": [
       "6"
      ]
     },
     "execution_count": 40,
     "metadata": {},
     "output_type": "execute_result"
    }
   ],
   "source": [
    "first_time = xr.open_dataset('/home/abhudia/viz_test/oil.nc').time.isel(time = 0).values\n",
    "h5file = h5py.File('/home/abhudia/viz_test/winds.hdf5')\n",
    "when_to_start_rendering(first_time, h5file)"
   ]
  },
  {
   "cell_type": "code",
   "execution_count": 72,
   "metadata": {},
   "outputs": [
    {
     "name": "stdout",
     "output_type": "stream",
     "text": [
      "/ (RootGroup) ''\n",
      "/Grid (Group) ''\n",
      "/Results (Group) ''\n",
      "/Time (Group) ''\n",
      "/Results/Group_1 (Group) ''\n",
      "/Results/Number (Group) ''\n",
      "/Results/OilSpill (Group) ''\n",
      "/Results/Percentage Contaminated (Group) ''\n",
      "/Results/OilSpill/Beached (Group) ''\n",
      "/Results/OilSpill/Data_2D (Group) ''\n",
      "/Results/OilSpill/Data_3D (Group) ''\n",
      "/Results/OilSpill/Freazed (Group) ''\n",
      "/Results/OilSpill/Latitude (Group) ''\n",
      "/Results/OilSpill/Latitude average (Group) ''\n",
      "/Results/OilSpill/Longitude (Group) ''\n",
      "/Results/OilSpill/Longitude average (Group) ''\n",
      "/Results/OilSpill/Model ID (Group) ''\n",
      "/Results/OilSpill/Origin ID (Group) ''\n",
      "/Results/OilSpill/Particle State (Group) ''\n",
      "/Results/OilSpill/Surface State (Group) ''\n",
      "/Results/OilSpill/Thickness (Group) ''\n",
      "/Results/OilSpill/Volume (Group) ''\n",
      "/Results/OilSpill/X Pos (Group) ''\n",
      "/Results/OilSpill/Y Pos (Group) ''\n",
      "/Results/OilSpill/Z Pos (Group) ''\n",
      "/Results/OilSpill/oil (Group) ''\n",
      "/Results/OilSpill/Data_3D/Dissolution_3D (Group) ''\n",
      "/Results/OilSpill/Data_3D/OilConcentration_3D (Group) ''\n",
      "/Results/OilSpill/Data_2D/Beaching Time (Group) ''\n",
      "/Results/OilSpill/Data_2D/Oil Arrival Time (Group) ''\n",
      "/Results/OilSpill/Data_2D/OilConcentration_2D (Group) ''\n",
      "/Results/OilSpill/Data_2D/Thickness_2D (Group) ''\n",
      "/Results/Group_1/Data_1D (Group) ''\n",
      "/Results/Group_1/Data_1D/Beached (Group) ''\n",
      "/Results/Group_1/Data_1D/Latitude (Group) ''\n",
      "/Results/Group_1/Data_1D/Latitude average (Group) ''\n",
      "/Results/Group_1/Data_1D/Longitude (Group) ''\n",
      "/Results/Group_1/Data_1D/Longitude average (Group) ''\n",
      "/Results/Group_1/Data_1D/Model ID (Group) ''\n",
      "/Results/Group_1/Data_1D/Origin ID (Group) ''\n",
      "/Results/Group_1/Data_1D/Particle State (Group) ''\n",
      "/Results/Group_1/Data_1D/Surface State (Group) ''\n",
      "/Results/Group_1/Data_1D/Thickness (Group) ''\n",
      "/Results/Group_1/Data_1D/Volume (Group) ''\n",
      "/Results/Group_1/Data_1D/X Pos (Group) ''\n",
      "/Results/Group_1/Data_1D/Y Pos (Group) ''\n",
      "/Results/Group_1/Data_1D/Z Pos (Group) ''\n",
      "/Results/Group_1/Data_1D/oil (Group) ''\n",
      "/Grid/OpenPoints (Group) ''\n",
      "/Grid/VerticalZ (Group) ''\n"
     ]
    }
   ],
   "source": [
    "import tables\n",
    "f = tables.open_file('/home/abhudia/viz_test/Lagrangian_SOGa_01dec17_MF0_1000m3_7days_hi_test.hdf5')\n",
    "for i in f.walk_groups():\n",
    "    print(i)"
   ]
  },
  {
   "cell_type": "code",
   "execution_count": 73,
   "metadata": {},
   "outputs": [],
   "source": [
    "f = h5py.File('/home/abhudia/viz_test/Lagrangian_SOGa_01dec17_MF0_1000m3_7days_hi_test.hdf5')"
   ]
  },
  {
   "cell_type": "code",
   "execution_count": 78,
   "metadata": {},
   "outputs": [],
   "source": [
    "a = np.asarray(f['Grid']['VerticalZ']['Vertical_00001'])"
   ]
  },
  {
   "cell_type": "code",
   "execution_count": 84,
   "metadata": {},
   "outputs": [
    {
     "data": {
      "text/plain": [
       "<matplotlib.colorbar.Colorbar at 0x7fefffce6be0>"
      ]
     },
     "execution_count": 84,
     "metadata": {},
     "output_type": "execute_result"
    },
    {
     "data": {
      "image/png": "[encoded data removed]",
      "text/plain": [
       "<Figure size 432x288 with 2 Axes>"
      ]
     },
     "metadata": {
      "needs_background": "light"
     },
     "output_type": "display_data"
    }
   ],
   "source": [
    "plt.pcolormesh(a[39]-a[30])\n",
    "plt.colorbar()"
   ]
  },
  {
   "cell_type": "code",
   "execution_count": 6,
   "metadata": {},
   "outputs": [],
   "source": [
    "from random import randint"
   ]
  },
  {
   "cell_type": "code",
   "execution_count": 13,
   "metadata": {},
   "outputs": [],
   "source": [
    "a = np.reshape(np.asarray([randint(0,1) for i in range(100)]),[10,10])"
   ]
  },
  {
   "cell_type": "code",
   "execution_count": 20,
   "metadata": {},
   "outputs": [
    {
     "data": {
      "text/plain": [
       "array([[1]])"
      ]
     },
     "execution_count": 20,
     "metadata": {},
     "output_type": "execute_result"
    }
   ],
   "source": [
    "a[2:3, 2:3]"
   ]
  },
  {
   "cell_type": "code",
   "execution_count": 25,
   "metadata": {},
   "outputs": [],
   "source": [
    "a[2:4, 1:3]= np.array([[2,2],[2,2]])"
   ]
  },
  {
   "cell_type": "code",
   "execution_count": 26,
   "metadata": {},
   "outputs": [
    {
     "data": {
      "text/plain": [
       "array([[1, 0, 1, 1, 1, 1, 0, 0, 1, 1],\n",
       "       [0, 0, 0, 0, 1, 1, 0, 1, 0, 0],\n",
       "       [0, 2, 2, 1, 1, 1, 0, 1, 0, 1],\n",
       "       [0, 2, 2, 0, 0, 1, 1, 0, 1, 0],\n",
       "       [1, 1, 1, 0, 1, 0, 0, 1, 1, 1],\n",
       "       [1, 1, 0, 0, 0, 0, 0, 0, 1, 0],\n",
       "       [1, 0, 1, 1, 1, 0, 1, 1, 0, 1],\n",
       "       [1, 0, 0, 1, 1, 0, 0, 1, 1, 0],\n",
       "       [1, 0, 0, 0, 0, 1, 1, 1, 0, 1],\n",
       "       [1, 1, 0, 0, 1, 1, 1, 0, 0, 0]])"
      ]
     },
     "execution_count": 26,
     "metadata": {},
     "output_type": "execute_result"
    }
   ],
   "source": [
    "a"
   ]
  },
  {
   "cell_type": "code",
   "execution_count": null,
   "metadata": {},
   "outputs": [],
   "source": []
  }
 ],
 "metadata": {
  "kernelspec": {
   "display_name": "Python 3",
   "language": "python",
   "name": "python3"
  },
  "language_info": {
   "codemirror_mode": {
    "name": "ipython",
    "version": 3
   },
   "file_extension": ".py",
   "mimetype": "text/x-python",
   "name": "python",
   "nbconvert_exporter": "python",
   "pygments_lexer": "ipython3",
   "version": "3.6.8"
  }
 },
 "nbformat": 4,
 "nbformat_minor": 2
}
