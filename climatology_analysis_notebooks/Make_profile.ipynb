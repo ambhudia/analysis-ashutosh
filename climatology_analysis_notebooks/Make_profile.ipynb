{
 "cells": [
  {
   "cell_type": "markdown",
   "metadata": {},
   "source": [
    "# This notebook provides a recipe for creating netcdf files of profiles by looping through the files on in /results2, /results, /opp\n",
    "- It has been heavily generalised to provide a general recipe for making the profiles, rather than providing explicit functions that do the job.\n",
    "- I would estimate that it would take about an hour to concatenate a year's worth of data. Consider a multiprocessing.py approach to creating multiple profiles on a queue. "
   ]
  },
  {
   "cell_type": "code",
   "execution_count": 1,
   "metadata": {},
   "outputs": [],
   "source": [
    "import xarray as xr\n",
    "import numpy as np\n",
    "from dateutil.parser import parse\n",
    "# import the file path location from the forcing_paths.py script\n",
    "import importlib.util\n",
    "spec = importlib.util.spec_from_file_location(\"forcing_paths.py\", \"/ocean/abhudia/MEOPAR/analysis-ashutosh/scripts/make-hdf5/forcing_paths.py\")\n",
    "paths = importlib.util.module_from_spec(spec)\n",
    "spec.loader.exec_module(paths)"
   ]
  },
  {
   "cell_type": "markdown",
   "metadata": {},
   "source": [
    "#### Get a list of the files to loop through using the functions in the forcing_paths.py script\n",
    "\n",
    "#### For the timestart, timeend positional arguments, pass a datetime.datetime object natively or simply use parse\n",
    "\n",
    "#### for SSC profiles, the filetype argument is 'grid_U', 'grid_V', 'grid_W', 'grid_T' for U, W, V T parameters respectively; e.g. for U files, \n",
    "```python\n",
    "paths.salishseacast_paths(timestart = parse('1 Jan 2015'), timeend = parse('3 jan 2015'), path = '/results2/SalishSea/nowcast-green.201806/', filetype = 'grid_U')\n",
    "```\n",
    "#### for WaveWatch files, \n",
    "```python\n",
    "paths.ww3_paths(timestart = parse('1 Jan 2015'), timeend = parse('3 jan 2015'), path = '/opp/wwatch3/nowcast/')\n",
    "```\n",
    "#### for HRDPS files,\n",
    "```python\n",
    "paths.hrdps_paths(timestart = parse('1 Jan 2015'), timeend = parse('3 jan 2015'), path = '/results/forcing/atmospheric/GEM2.5/operational/')\n",
    "```"
   ]
  },
  {
   "cell_type": "markdown",
   "metadata": {},
   "source": [
    "## Let's Step through creating time profiles of surface U current"
   ]
  },
  {
   "cell_type": "code",
   "execution_count": 21,
   "metadata": {},
   "outputs": [],
   "source": [
    "U_paths = paths.salishseacast_paths(parse('1 Jan 2015'), parse('3 jan 2015'), '/results2/SalishSea/nowcast-green.201806/', 'grid_U')"
   ]
  },
  {
   "cell_type": "markdown",
   "metadata": {},
   "source": [
    "### From analysis-ashutosh/climatology_analysis_notebooks/Pick grid points.ipynb, we have the locations of the three points chosen as: ((y,x) order)"
   ]
  },
  {
   "cell_type": "code",
   "execution_count": 5,
   "metadata": {},
   "outputs": [],
   "source": [
    "SB=(np.array([256]), np.array([268]))\n",
    "TP=(np.array([343]), np.array([250]))\n",
    "SoG=(np.array([474]), np.array([252]))"
   ]
  },
  {
   "cell_type": "markdown",
   "metadata": {},
   "source": [
    "### Loop through the list of files and create a netcdf file of the profile"
   ]
  },
  {
   "cell_type": "code",
   "execution_count": 37,
   "metadata": {},
   "outputs": [],
   "source": [
    "first = True\n",
    "for file_path in U_paths:\n",
    "    f = xr.open_dataset(file_path).isel(depthu = 0).vozocrtx\n",
    "    sog_now = f.isel(y = 256, x = 268)\n",
    "    if first is True:\n",
    "        sog = sog_now\n",
    "        first = False\n",
    "    else:\n",
    "        sog = xr.concat((sog, sog_now), dim = 'time_counter')\n",
    "# finally, stitch them together and turn the profile into a netcdf file\n",
    "current_u = xr.Dataset({'SoG': sog})\n",
    "current_u.to_netcdf('current_u_sog_example.nc', format = 'NETCDF4',engine = 'netcdf4')"
   ]
  },
  {
   "cell_type": "code",
   "execution_count": 2,
   "metadata": {},
   "outputs": [
    {
     "data": {
      "text/plain": [
       "<xarray.Dataset>\n",
       "Dimensions:        (time_counter: 72)\n",
       "Coordinates:\n",
       "    nav_lat        float32 ...\n",
       "    nav_lon        float32 ...\n",
       "    depthu         float32 ...\n",
       "    time_centered  (time_counter) datetime64[ns] ...\n",
       "  * time_counter   (time_counter) datetime64[ns] 2015-01-01T00:30:00 ... 2015-01-03T23:30:00\n",
       "Data variables:\n",
       "    SoG            (time_counter) float32 ..."
      ]
     },
     "execution_count": 2,
     "metadata": {},
     "output_type": "execute_result"
    }
   ],
   "source": [
    "# loading the netcdf file containing the profile\n",
    "xr.open_dataset('current_u_sog_example.nc')"
   ]
  },
  {
   "cell_type": "code",
   "execution_count": null,
   "metadata": {},
   "outputs": [],
   "source": []
  }
 ],
 "metadata": {
  "kernelspec": {
   "display_name": "Python 3",
   "language": "python",
   "name": "python3"
  },
  "language_info": {
   "codemirror_mode": {
    "name": "ipython",
    "version": 3
   },
   "file_extension": ".py",
   "mimetype": "text/x-python",
   "name": "python",
   "nbconvert_exporter": "python",
   "pygments_lexer": "ipython3",
   "version": "3.6.8"
  }
 },
 "nbformat": 4,
 "nbformat_minor": 2
}
