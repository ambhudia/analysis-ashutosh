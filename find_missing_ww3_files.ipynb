{
 "cells": [
  {
   "cell_type": "markdown",
   "metadata": {},
   "source": [
    "# Find Missing Wave Watch Files"
   ]
  },
  {
   "cell_type": "code",
   "execution_count": 2,
   "metadata": {},
   "outputs": [],
   "source": [
    "import os\n",
    "import numpy as np\n",
    "from datetime import datetime, timedelta\n",
    "from dateutil.parser import parse\n",
    "\n",
    "def ww3_paths(timestart, timeend, ww3_path='/opp/wwatch3/nowcast/', return_not_available=True):\n",
    "    \"\"\"Generate Wave Watch 3 input files paths\n",
    "\n",
    "    :arg timestart: date from when to start concatenating\n",
    "    :type string: :py:class:'str'\n",
    "\n",
    "    :arg timeend: date at which to stop concatenating\n",
    "    :type string: :py:class:'str'\n",
    "\n",
    "    :arg ww3_path: optional, path of input files\n",
    "    :type string: :py:class:'str'\n",
    "\n",
    "    arg return_not_activated: Optional bool. When True, it will return a list of missing files\n",
    "    :type boolean: :py:class:'bool'\n",
    "\n",
    "    :returns wave_files: list of file path strings\n",
    "    :rtype: :py:class:`list'\n",
    "\n",
    "    \"\"\"\n",
    "    # generate list of dates from daterange given\n",
    "    months = {1: 'jan', 2: 'feb', 3: 'mar', 4: 'apr', 5 : 'may', 6: 'jun', 7: 'jul', 8: 'aug', 9 : 'sep', 10: 'oct', 11 :'nov',12: 'dec'}\n",
    "    daterange = [parse(t) for t in [timestart, timeend]]\n",
    "    # append all filename strings within daterange to list\n",
    "    wave_files = []\n",
    "    for day in range(np.diff(daterange)[0].days):\n",
    "        datestamp = daterange[0] + timedelta(days=day)\n",
    "        datestr2 = datestamp.strftime('%Y%m%d').lower()\n",
    "        monthnm = months[datestamp.month]\n",
    "        day = datestamp.day\n",
    "        if day < 10:\n",
    "            day = f'0{str(day)}'\n",
    "        year = str(datestamp.year)[2:4]\n",
    "        wave_path = f'{ww3_path}{day}{monthnm}{year}/SoG_ww3_fields_{datestr2}_{datestr2}.nc'\n",
    "        if return_not_available is False:\n",
    "            assert(os.path.exists(wave_path)), f'File {wave_path} not found. Check Directory and/or Date Range.'\n",
    "            wave_files.append(wave_path)\n",
    "        else:\n",
    "            if not os.path.exists(wave_path):\n",
    "                wave_files.append(wave_path)\n",
    "    return wave_files"
   ]
  },
  {
   "cell_type": "code",
   "execution_count": 10,
   "metadata": {},
   "outputs": [
    {
     "data": {
      "text/plain": [
       "['/opp/wwatch3/nowcast/20mar15/SoG_ww3_fields_20150320_20150320.nc',\n",
       " '/opp/wwatch3/nowcast/21mar15/SoG_ww3_fields_20150321_20150321.nc',\n",
       " '/opp/wwatch3/nowcast/22mar15/SoG_ww3_fields_20150322_20150322.nc',\n",
       " '/opp/wwatch3/nowcast/23mar15/SoG_ww3_fields_20150323_20150323.nc',\n",
       " '/opp/wwatch3/nowcast/24mar15/SoG_ww3_fields_20150324_20150324.nc',\n",
       " '/opp/wwatch3/nowcast/25mar15/SoG_ww3_fields_20150325_20150325.nc',\n",
       " '/opp/wwatch3/nowcast/26mar15/SoG_ww3_fields_20150326_20150326.nc',\n",
       " '/opp/wwatch3/nowcast/27mar15/SoG_ww3_fields_20150327_20150327.nc',\n",
       " '/opp/wwatch3/nowcast/28mar15/SoG_ww3_fields_20150328_20150328.nc',\n",
       " '/opp/wwatch3/nowcast/29mar15/SoG_ww3_fields_20150329_20150329.nc',\n",
       " '/opp/wwatch3/nowcast/30mar15/SoG_ww3_fields_20150330_20150330.nc',\n",
       " '/opp/wwatch3/nowcast/31mar15/SoG_ww3_fields_20150331_20150331.nc',\n",
       " '/opp/wwatch3/nowcast/01apr15/SoG_ww3_fields_20150401_20150401.nc',\n",
       " '/opp/wwatch3/nowcast/02apr15/SoG_ww3_fields_20150402_20150402.nc',\n",
       " '/opp/wwatch3/nowcast/03apr15/SoG_ww3_fields_20150403_20150403.nc',\n",
       " '/opp/wwatch3/nowcast/04apr15/SoG_ww3_fields_20150404_20150404.nc']"
      ]
     },
     "execution_count": 10,
     "metadata": {},
     "output_type": "execute_result"
    }
   ],
   "source": [
    "ww3_paths('20 mar 2015', '05 Apr 2015') # SB032015_14"
   ]
  },
  {
   "cell_type": "code",
   "execution_count": 11,
   "metadata": {},
   "outputs": [
    {
     "data": {
      "text/plain": [
       "['/opp/wwatch3/nowcast/16nov17/SoG_ww3_fields_20171116_20171116.nc']"
      ]
     },
     "execution_count": 11,
     "metadata": {},
     "output_type": "execute_result"
    }
   ],
   "source": [
    "ww3_paths('15 Nov 2017', '1 Dec 2017') # SB111517_7"
   ]
  },
  {
   "cell_type": "code",
   "execution_count": 9,
   "metadata": {},
   "outputs": [
    {
     "data": {
      "text/plain": [
       "['/opp/wwatch3/nowcast/10may15/SoG_ww3_fields_20150510_20150510.nc',\n",
       " '/opp/wwatch3/nowcast/11may15/SoG_ww3_fields_20150511_20150511.nc',\n",
       " '/opp/wwatch3/nowcast/12may15/SoG_ww3_fields_20150512_20150512.nc',\n",
       " '/opp/wwatch3/nowcast/13may15/SoG_ww3_fields_20150513_20150513.nc',\n",
       " '/opp/wwatch3/nowcast/14may15/SoG_ww3_fields_20150514_20150514.nc',\n",
       " '/opp/wwatch3/nowcast/15may15/SoG_ww3_fields_20150515_20150515.nc',\n",
       " '/opp/wwatch3/nowcast/16may15/SoG_ww3_fields_20150516_20150516.nc',\n",
       " '/opp/wwatch3/nowcast/17may15/SoG_ww3_fields_20150517_20150517.nc']"
      ]
     },
     "execution_count": 9,
     "metadata": {},
     "output_type": "execute_result"
    }
   ],
   "source": [
    "ww3_paths('10 May 2015', '18 May 2015') # TP051015_7"
   ]
  },
  {
   "cell_type": "code",
   "execution_count": 12,
   "metadata": {},
   "outputs": [
    {
     "data": {
      "text/plain": [
       "['/opp/wwatch3/nowcast/02dec15/SoG_ww3_fields_20151202_20151202.nc',\n",
       " '/opp/wwatch3/nowcast/03dec15/SoG_ww3_fields_20151203_20151203.nc',\n",
       " '/opp/wwatch3/nowcast/04dec15/SoG_ww3_fields_20151204_20151204.nc',\n",
       " '/opp/wwatch3/nowcast/05dec15/SoG_ww3_fields_20151205_20151205.nc',\n",
       " '/opp/wwatch3/nowcast/06dec15/SoG_ww3_fields_20151206_20151206.nc',\n",
       " '/opp/wwatch3/nowcast/07dec15/SoG_ww3_fields_20151207_20151207.nc',\n",
       " '/opp/wwatch3/nowcast/08dec15/SoG_ww3_fields_20151208_20151208.nc',\n",
       " '/opp/wwatch3/nowcast/09dec15/SoG_ww3_fields_20151209_20151209.nc',\n",
       " '/opp/wwatch3/nowcast/10dec15/SoG_ww3_fields_20151210_20151210.nc',\n",
       " '/opp/wwatch3/nowcast/11dec15/SoG_ww3_fields_20151211_20151211.nc',\n",
       " '/opp/wwatch3/nowcast/12dec15/SoG_ww3_fields_20151212_20151212.nc',\n",
       " '/opp/wwatch3/nowcast/13dec15/SoG_ww3_fields_20151213_20151213.nc',\n",
       " '/opp/wwatch3/nowcast/14dec15/SoG_ww3_fields_20151214_20151214.nc',\n",
       " '/opp/wwatch3/nowcast/15dec15/SoG_ww3_fields_20151215_20151215.nc']"
      ]
     },
     "execution_count": 12,
     "metadata": {},
     "output_type": "execute_result"
    }
   ],
   "source": [
    "ww3_paths('2 Dec 2015', '16 Dec 2015') # TP120215_14"
   ]
  },
  {
   "cell_type": "code",
   "execution_count": 13,
   "metadata": {},
   "outputs": [
    {
     "data": {
      "text/plain": [
       "['/opp/wwatch3/nowcast/07oct16/SoG_ww3_fields_20161007_20161007.nc',\n",
       " '/opp/wwatch3/nowcast/08oct16/SoG_ww3_fields_20161008_20161008.nc',\n",
       " '/opp/wwatch3/nowcast/09oct16/SoG_ww3_fields_20161009_20161009.nc',\n",
       " '/opp/wwatch3/nowcast/10oct16/SoG_ww3_fields_20161010_20161010.nc',\n",
       " '/opp/wwatch3/nowcast/11oct16/SoG_ww3_fields_20161011_20161011.nc',\n",
       " '/opp/wwatch3/nowcast/12oct16/SoG_ww3_fields_20161012_20161012.nc',\n",
       " '/opp/wwatch3/nowcast/13oct16/SoG_ww3_fields_20161013_20161013.nc',\n",
       " '/opp/wwatch3/nowcast/14oct16/SoG_ww3_fields_20161014_20161014.nc']"
      ]
     },
     "execution_count": 13,
     "metadata": {},
     "output_type": "execute_result"
    }
   ],
   "source": [
    "ww3_paths('7 Oct 2016', '15 Oct 2016') # TP100716_7"
   ]
  },
  {
   "cell_type": "code",
   "execution_count": 14,
   "metadata": {},
   "outputs": [
    {
     "data": {
      "text/plain": [
       "['/opp/wwatch3/nowcast/07mar17/SoG_ww3_fields_20170307_20170307.nc',\n",
       " '/opp/wwatch3/nowcast/08mar17/SoG_ww3_fields_20170308_20170308.nc',\n",
       " '/opp/wwatch3/nowcast/09mar17/SoG_ww3_fields_20170309_20170309.nc',\n",
       " '/opp/wwatch3/nowcast/10mar17/SoG_ww3_fields_20170310_20170310.nc',\n",
       " '/opp/wwatch3/nowcast/11mar17/SoG_ww3_fields_20170311_20170311.nc',\n",
       " '/opp/wwatch3/nowcast/12mar17/SoG_ww3_fields_20170312_20170312.nc',\n",
       " '/opp/wwatch3/nowcast/13mar17/SoG_ww3_fields_20170313_20170313.nc',\n",
       " '/opp/wwatch3/nowcast/14mar17/SoG_ww3_fields_20170314_20170314.nc']"
      ]
     },
     "execution_count": 14,
     "metadata": {},
     "output_type": "execute_result"
    }
   ],
   "source": [
    "ww3_paths('7 Mar 2017', '15 Mar 2017')  # TP030717_7"
   ]
  },
  {
   "cell_type": "code",
   "execution_count": 18,
   "metadata": {},
   "outputs": [
    {
     "data": {
      "text/plain": [
       "['/opp/wwatch3/nowcast/05jun15/SoG_ww3_fields_20150605_20150605.nc',\n",
       " '/opp/wwatch3/nowcast/06jun15/SoG_ww3_fields_20150606_20150606.nc',\n",
       " '/opp/wwatch3/nowcast/07jun15/SoG_ww3_fields_20150607_20150607.nc',\n",
       " '/opp/wwatch3/nowcast/08jun15/SoG_ww3_fields_20150608_20150608.nc',\n",
       " '/opp/wwatch3/nowcast/09jun15/SoG_ww3_fields_20150609_20150609.nc',\n",
       " '/opp/wwatch3/nowcast/10jun15/SoG_ww3_fields_20150610_20150610.nc',\n",
       " '/opp/wwatch3/nowcast/11jun15/SoG_ww3_fields_20150611_20150611.nc',\n",
       " '/opp/wwatch3/nowcast/12jun15/SoG_ww3_fields_20150612_20150612.nc',\n",
       " '/opp/wwatch3/nowcast/13jun15/SoG_ww3_fields_20150613_20150613.nc',\n",
       " '/opp/wwatch3/nowcast/14jun15/SoG_ww3_fields_20150614_20150614.nc']"
      ]
     },
     "execution_count": 18,
     "metadata": {},
     "output_type": "execute_result"
    }
   ],
   "source": [
    "ww3_paths('5 June 2015', '15 june 2015') # SOG060515_7"
   ]
  },
  {
   "cell_type": "code",
   "execution_count": 22,
   "metadata": {},
   "outputs": [
    {
     "data": {
      "text/plain": [
       "['/opp/wwatch3/nowcast/25jun16/SoG_ww3_fields_20160625_20160625.nc',\n",
       " '/opp/wwatch3/nowcast/26jun16/SoG_ww3_fields_20160626_20160626.nc',\n",
       " '/opp/wwatch3/nowcast/27jun16/SoG_ww3_fields_20160627_20160627.nc',\n",
       " '/opp/wwatch3/nowcast/28jun16/SoG_ww3_fields_20160628_20160628.nc',\n",
       " '/opp/wwatch3/nowcast/29jun16/SoG_ww3_fields_20160629_20160629.nc',\n",
       " '/opp/wwatch3/nowcast/30jun16/SoG_ww3_fields_20160630_20160630.nc',\n",
       " '/opp/wwatch3/nowcast/01jul16/SoG_ww3_fields_20160701_20160701.nc',\n",
       " '/opp/wwatch3/nowcast/02jul16/SoG_ww3_fields_20160702_20160702.nc',\n",
       " '/opp/wwatch3/nowcast/03jul16/SoG_ww3_fields_20160703_20160703.nc',\n",
       " '/opp/wwatch3/nowcast/04jul16/SoG_ww3_fields_20160704_20160704.nc',\n",
       " '/opp/wwatch3/nowcast/05jul16/SoG_ww3_fields_20160705_20160705.nc']"
      ]
     },
     "execution_count": 22,
     "metadata": {},
     "output_type": "execute_result"
    }
   ],
   "source": [
    "ww3_paths('25 June 2016', '6 July 2016') # SOG062515_14"
   ]
  },
  {
   "cell_type": "code",
   "execution_count": 23,
   "metadata": {},
   "outputs": [
    {
     "data": {
      "text/plain": [
       "['/opp/wwatch3/nowcast/15jul16/SoG_ww3_fields_20160715_20160715.nc',\n",
       " '/opp/wwatch3/nowcast/16jul16/SoG_ww3_fields_20160716_20160716.nc',\n",
       " '/opp/wwatch3/nowcast/17jul16/SoG_ww3_fields_20160717_20160717.nc',\n",
       " '/opp/wwatch3/nowcast/18jul16/SoG_ww3_fields_20160718_20160718.nc',\n",
       " '/opp/wwatch3/nowcast/19jul16/SoG_ww3_fields_20160719_20160719.nc',\n",
       " '/opp/wwatch3/nowcast/20jul16/SoG_ww3_fields_20160720_20160720.nc',\n",
       " '/opp/wwatch3/nowcast/21jul16/SoG_ww3_fields_20160721_20160721.nc',\n",
       " '/opp/wwatch3/nowcast/22jul16/SoG_ww3_fields_20160722_20160722.nc',\n",
       " '/opp/wwatch3/nowcast/23jul16/SoG_ww3_fields_20160723_20160723.nc',\n",
       " '/opp/wwatch3/nowcast/24jul16/SoG_ww3_fields_20160724_20160724.nc',\n",
       " '/opp/wwatch3/nowcast/25jul16/SoG_ww3_fields_20160725_20160725.nc']"
      ]
     },
     "execution_count": 23,
     "metadata": {},
     "output_type": "execute_result"
    }
   ],
   "source": [
    "ww3_paths('15 July 2016', '26 July 2016') # SOG071516_7"
   ]
  }
 ],
 "metadata": {
  "kernelspec": {
   "display_name": "Python 3",
   "language": "python",
   "name": "python3"
  },
  "language_info": {
   "codemirror_mode": {
    "name": "ipython",
    "version": 3
   },
   "file_extension": ".py",
   "mimetype": "text/x-python",
   "name": "python",
   "nbconvert_exporter": "python",
   "pygments_lexer": "ipython3",
   "version": "3.6.8"
  }
 },
 "nbformat": 4,
 "nbformat_minor": 2
}
