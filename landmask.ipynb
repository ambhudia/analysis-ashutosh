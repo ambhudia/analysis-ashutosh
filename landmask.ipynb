{
 "cells": [
  {
   "cell_type": "markdown",
   "metadata": {},
   "source": [
    "# Land Mask"
   ]
  },
  {
   "cell_type": "code",
   "execution_count": 29,
   "metadata": {},
   "outputs": [],
   "source": [
    "import numpy as np\n",
    "import matplotlib.pyplot as plt\n",
    "import xarray as xr\n",
    "import cmocean\n",
    "from salishsea_tools import viz_tools\n",
    "from salishsea_tools import geo_tools\n",
    "from salishsea_tools import grid_tools\n",
    "from salishsea_tools import utilities\n",
    "%matplotlib inline"
   ]
  },
  {
   "cell_type": "code",
   "execution_count": 18,
   "metadata": {},
   "outputs": [],
   "source": [
    "GEM = xr.open_dataset(\"https://salishsea.eos.ubc.ca/erddap/griddap/ubcSSaAtmosphereGridV1\")  # HDPRC latlon\n",
    "nemo_mask =xr.open_dataset(\"https://salishsea.eos.ubc.ca/erddap/griddap/ubcSSn2DMeshMaskV17-02\") # NEMO land mask\n",
    "nemo_grid = xr.open_dataset(\"https://salishsea.eos.ubc.ca/erddap/griddap/ubcSSnBathymetryV17-02\") # NEMO lat lon"
   ]
  },
  {
   "cell_type": "code",
   "execution_count": 135,
   "metadata": {},
   "outputs": [],
   "source": [
    "winddata = xr.open_dataset(\"https://salishsea.eos.ubc.ca/erddap/griddap/ubcSSaSurfaceAtmosphereFieldsV1\") # Contains wind data"
   ]
  },
  {
   "cell_type": "code",
   "execution_count": 42,
   "metadata": {},
   "outputs": [],
   "source": [
    "def build_GEM_mask(grid_GEM, grid_NEMO, mask_NEMO):\n",
    "\n",
    "\n",
    "    # Preallocate\n",
    "    ngrid_GEM = grid_GEM['gridX'].shape[0] * grid_GEM['gridY'].shape[0]\n",
    "    mask_GEM = np.zeros(ngrid_GEM, dtype=int)\n",
    "\n",
    "    # Evaluate each point on GEM grid\n",
    "    bar = utilities.statusbar('Building GEM mask', width=90, maxval=ngrid_GEM)\n",
    "    for index, coords in enumerate(bar(zip(\n",
    "            grid_GEM['longitude'].values.reshape(ngrid_GEM) - 360,\n",
    "            grid_GEM['latitude'].values.reshape(ngrid_GEM),\n",
    "    ))):\n",
    "\n",
    "        j, i = geo_tools.find_closest_model_point(\n",
    "            coords[0], coords[1],\n",
    "            grid_NEMO['longitude'], grid_NEMO['latitude'],\n",
    "        )\n",
    "        if j is np.nan or i is np.nan:\n",
    "            mask_GEM[index] = 0\n",
    "        else:\n",
    "            mask_GEM[index] = mask_NEMO[j, i].values\n",
    "\n",
    "    # Reshape\n",
    "    mask_GEM = mask_GEM.reshape(grid_GEM['longitude'].shape)\n",
    "\n",
    "    return mask_GEM"
   ]
  },
  {
   "cell_type": "code",
   "execution_count": 94,
   "metadata": {},
   "outputs": [
    {
     "name": "stderr",
     "output_type": "stream",
     "text": [
      "Building GEM mask 100% (68096 of 68096) |##################################|Time:  0:04:15\n"
     ]
    }
   ],
   "source": [
    "land_mask = build_GEM_mask(GEM, nemo_grid, nemo_mask.tmaskutil.isel(time=0))"
   ]
  },
  {
   "cell_type": "code",
   "execution_count": 117,
   "metadata": {},
   "outputs": [],
   "source": [
    "def mask_data(data): # Attempt at creating mask function\n",
    "    return data.where(land_mask == 0, drop = True)"
   ]
  },
  {
   "cell_type": "code",
   "execution_count": 136,
   "metadata": {},
   "outputs": [],
   "source": [
    "masked_wind_data = winddata.u_wind.isel(time=0) * land_mask  # Example of masked data"
   ]
  },
  {
   "cell_type": "code",
   "execution_count": 137,
   "metadata": {},
   "outputs": [
    {
     "data": {
      "text/plain": [
       "<matplotlib.collections.QuadMesh at 0x7f883271f940>"
      ]
     },
     "execution_count": 137,
     "metadata": {},
     "output_type": "execute_result"
    },
    {
     "data": {
      "image/png": "[encoded data removed]",
      "text/plain": [
       "<Figure size 432x288 with 1 Axes>"
      ]
     },
     "metadata": {
      "needs_background": "light"
     },
     "output_type": "display_data"
    }
   ],
   "source": [
    "plt.pcolormesh(masked_wind_data, cmap = 'RdBu') # plot of example masked data"
   ]
  },
  {
   "cell_type": "code",
   "execution_count": null,
   "metadata": {},
   "outputs": [],
   "source": []
  }
 ],
 "metadata": {
  "kernelspec": {
   "display_name": "Python 3",
   "language": "python",
   "name": "python3"
  },
  "language_info": {
   "codemirror_mode": {
    "name": "ipython",
    "version": 3
   },
   "file_extension": ".py",
   "mimetype": "text/x-python",
   "name": "python",
   "nbconvert_exporter": "python",
   "pygments_lexer": "ipython3",
   "version": "3.7.1"
  }
 },
 "nbformat": 4,
 "nbformat_minor": 2
}
