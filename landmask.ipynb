{
 "cells": [
  {
   "cell_type": "markdown",
   "metadata": {},
   "source": [
    "# Land Mask"
   ]
  },
  {
   "cell_type": "code",
   "execution_count": 138,
   "metadata": {},
   "outputs": [],
   "source": [
    "import numpy as np\n",
    "import numpy.ma as ma\n",
    "import matplotlib.pyplot as plt\n",
    "import xarray as xr\n",
    "import cmocean\n",
    "from salishsea_tools import viz_tools\n",
    "from salishsea_tools import geo_tools\n",
    "from salishsea_tools import grid_tools\n",
    "from salishsea_tools import utilities\n",
    "%matplotlib inline\n",
    "speed_cmap = cmocean.cm.speed"
   ]
  },
  {
   "cell_type": "code",
   "execution_count": 18,
   "metadata": {},
   "outputs": [],
   "source": [
    "GEM = xr.open_dataset(\"https://salishsea.eos.ubc.ca/erddap/griddap/ubcSSaAtmosphereGridV1\")  # HDPRC latlon\n",
    "nemo_mask =xr.open_dataset(\"https://salishsea.eos.ubc.ca/erddap/griddap/ubcSSn2DMeshMaskV17-02\") # NEMO land mask\n",
    "nemo_grid = xr.open_dataset(\"https://salishsea.eos.ubc.ca/erddap/griddap/ubcSSnBathymetryV17-02\") # NEMO lat lon"
   ]
  },
  {
   "cell_type": "code",
   "execution_count": 135,
   "metadata": {},
   "outputs": [],
   "source": [
    "winddata = xr.open_dataset(\"https://salishsea.eos.ubc.ca/erddap/griddap/ubcSSaSurfaceAtmosphereFieldsV1\") # Contains wind data"
   ]
  },
  {
   "cell_type": "code",
   "execution_count": 42,
   "metadata": {},
   "outputs": [],
   "source": [
    "def build_GEM_mask(grid_GEM, grid_NEMO, mask_NEMO):\n",
    "\n",
    "\n",
    "    # Preallocate\n",
    "    ngrid_GEM = grid_GEM['gridX'].shape[0] * grid_GEM['gridY'].shape[0]\n",
    "    mask_GEM = np.zeros(ngrid_GEM, dtype=int)\n",
    "\n",
    "    # Evaluate each point on GEM grid\n",
    "    bar = utilities.statusbar('Building GEM mask', width=90, maxval=ngrid_GEM)\n",
    "    for index, coords in enumerate(bar(zip(\n",
    "            grid_GEM['longitude'].values.reshape(ngrid_GEM) - 360,\n",
    "            grid_GEM['latitude'].values.reshape(ngrid_GEM),\n",
    "    ))):\n",
    "\n",
    "        j, i = geo_tools.find_closest_model_point(\n",
    "            coords[0], coords[1],\n",
    "            grid_NEMO['longitude'], grid_NEMO['latitude'],\n",
    "        )\n",
    "        if j is np.nan or i is np.nan:\n",
    "            mask_GEM[index] = 0\n",
    "        else:\n",
    "            mask_GEM[index] = mask_NEMO[j, i].values\n",
    "\n",
    "    # Reshape\n",
    "    mask_GEM = mask_GEM.reshape(grid_GEM['longitude'].shape)\n",
    "\n",
    "    return mask_GEM"
   ]
  },
  {
   "cell_type": "code",
   "execution_count": 94,
   "metadata": {},
   "outputs": [
    {
     "name": "stderr",
     "output_type": "stream",
     "text": [
      "Building GEM mask 100% (68096 of 68096) |##################################|Time:  0:04:15\n"
     ]
    }
   ],
   "source": [
    "land_mask = build_GEM_mask(GEM, nemo_grid, nemo_mask.tmaskutil.isel(time=0))"
   ]
  },
  {
   "cell_type": "code",
   "execution_count": 216,
   "metadata": {},
   "outputs": [],
   "source": [
    "def mask_data(data, land_mask = land_mask):\n",
    "    masked_data = ma.masked_array(data, np.logical_not(land_mask))\n",
    "    remove_zero_rows = masked_data[~(masked_data==np.nan).all(1)]\n",
    "    transpose_rows = np.transpose(remove_zeros)\n",
    "    remove_zero_cols = np.transpose(transpose[~(transpose==np.nan).all(1)])\n",
    "    return remove_zero_cols"
   ]
  },
  {
   "cell_type": "code",
   "execution_count": 218,
   "metadata": {},
   "outputs": [],
   "source": [
    "time_0_wind = mask_data(winddata.u_wind.isel(time=0).values)"
   ]
  },
  {
   "cell_type": "code",
   "execution_count": 220,
   "metadata": {},
   "outputs": [
    {
     "name": "stderr",
     "output_type": "stream",
     "text": [
      "/home/abhudia/anaconda3/lib/python3.7/site-packages/matplotlib/axes/_base.py:1334: MatplotlibDeprecationWarning: \n",
      "box-forced\n",
      "  \"2.2\", \"box-forced\", obj_type=\"keyword argument\")\n"
     ]
    },
    {
     "data": {
      "text/plain": [
       "1.1363636363636362"
      ]
     },
     "execution_count": 220,
     "metadata": {},
     "output_type": "execute_result"
    },
    {
     "data": {
      "image/png": "[encoded data removed]",
      "text/plain": [
       "<Figure size 432x288 with 1 Axes>"
      ]
     },
     "metadata": {
      "needs_background": "light"
     },
     "output_type": "display_data"
    }
   ],
   "source": [
    "# plot with forced aspect ratio\n",
    "fig, ax = plt.subplots(1,1)\n",
    "ax.pcolormesh(time_0_wind)\n",
    "viz_tools.set_aspect(ax)"
   ]
  },
  {
   "cell_type": "code",
   "execution_count": 221,
   "metadata": {},
   "outputs": [
    {
     "data": {
      "text/plain": [
       "<xarray.Dataset>\n",
       "Dimensions:    (gridX: 256, gridY: 266, time: 37896)\n",
       "Coordinates:\n",
       "  * time       (time) datetime64[ns] 2014-09-12 ... 2019-01-07T23:00:00\n",
       "  * gridY      (gridY) float64 0.0 2.5e+03 5e+03 ... 6.575e+05 6.6e+05 6.625e+05\n",
       "  * gridX      (gridX) float64 0.0 2.5e+03 5e+03 ... 6.35e+05 6.375e+05\n",
       "Data variables:\n",
       "    atmpres    (time, gridY, gridX) float32 ...\n",
       "    precip     (time, gridY, gridX) float32 ...\n",
       "    qair       (time, gridY, gridX) float32 ...\n",
       "    solar      (time, gridY, gridX) float32 ...\n",
       "    tair       (time, gridY, gridX) float32 ...\n",
       "    therm_rad  (time, gridY, gridX) float32 ...\n",
       "    u_wind     (time, gridY, gridX) float32 ...\n",
       "    v_wind     (time, gridY, gridX) float32 ...\n",
       "Attributes:\n",
       "    acknowledgement:           MEOPAR, ONC, Compute Canada, Environment Canada\n",
       "    cdm_data_type:             Grid\n",
       "    Conventions:               CF-1.6, COARDS, ACDD-1.3\n",
       "    coverage_content_type:     modelResult\n",
       "    creator_email:             sallen@eos.ubc.ca\n",
       "    creator_name:              Salish Sea MEOPAR Project Contributors\n",
       "    creator_url:               https://salishsea-meopar-docs.readthedocs.io/\n",
       "    drawLandMask:              over\n",
       "    GRIB2_grid_template:       20\n",
       "    history:                   Thu Mar 10 10:11:37 2016: ncks -4 -L4 -O /resu...\n",
       "    infoUrl:                   https://salishsea-meopar-docs.readthedocs.io/e...\n",
       "    institution:               UBC EOAS\n",
       "    institution_fullname:      Earth, Ocean & Atmospheric Sciences, Universit...\n",
       "    keywords:                  atmosphere, atmospheric, atmpres, Earth Scienc...\n",
       "    keywords_vocabulary:       GCMD Science Keywords\n",
       "    license:                   The Salish Sea MEOPAR NEMO model results are c...\n",
       "    NCO:                       4.4.2\n",
       "    project:                   Salish Sea MEOPAR NEMO Model\n",
       "    sourceUrl:                 (local files)\n",
       "    standard_name_vocabulary:  CF Standard Name Table v29\n",
       "    summary:                   HRDPS, Salish Sea, Atmospheric Forcing Fields,...\n",
       "    testOutOfDate:             now-12hours\n",
       "    time_coverage_end:         2019-01-07T23:00:00Z\n",
       "    time_coverage_start:       2014-09-12T00:00:00Z\n",
       "    title:                     HRDPS, Salish Sea, Atmospheric Forcing Fields,..."
      ]
     },
     "execution_count": 221,
     "metadata": {},
     "output_type": "execute_result"
    }
   ],
   "source": [
    "winddata"
   ]
  },
  {
   "cell_type": "markdown",
   "metadata": {},
   "source": [
    "# December winds"
   ]
  },
  {
   "cell_type": "code",
   "execution_count": null,
   "metadata": {},
   "outputs": [],
   "source": [
    "dec_data_u = winddata.u_wind.loc[winddata['time.month'].isin([12])]\n",
    "dec_data_v = winddata.v_wind.loc[winddata['time.month'].isin([12])]\n",
    "dec_wind_mag = xr.ufuncs.sqrt(dec_data_u**2+dec_data_v**2)"
   ]
  },
  {
   "cell_type": "markdown",
   "metadata": {},
   "source": [
    "## Mean winds"
   ]
  },
  {
   "cell_type": "code",
   "execution_count": null,
   "metadata": {},
   "outputs": [],
   "source": [
    "mean_dec = mask_data(dec_wind_mag.mean(dim='time').values)\n",
    "fig, ax = plt.subplots(1,1)\n",
    "cf = ax.pcolormesh(mean_dec, cmap = speed_cmap)\n",
    "viz_tools.set_aspect(ax)\n",
    "fig.colorbar(cf, ax=ax)\n",
    "plt.title('Mean December wind speeds 2014-2018 (m/s)')\n",
    "plt.xlabel('X')\n",
    "plt.ylabel('Y')"
   ]
  },
  {
   "cell_type": "markdown",
   "metadata": {},
   "source": [
    "## Standard Deviation"
   ]
  },
  {
   "cell_type": "code",
   "execution_count": null,
   "metadata": {},
   "outputs": [],
   "source": [
    "stddev_dec = mask_data(dec_wind_mag.std(dim='time').values)\n",
    "plt.pcolormesh(stddev_dec, cmap = speed_cmap)\n",
    "plt.colorbar()\n",
    "plt.title('Standard Deviation of December wind speeds 2014-2018 (m/s)')\n",
    "plt.xlabel('X')\n",
    "plt.ylabel('Y')"
   ]
  },
  {
   "cell_type": "markdown",
   "metadata": {},
   "source": [
    "## Maximum winds"
   ]
  },
  {
   "cell_type": "code",
   "execution_count": null,
   "metadata": {},
   "outputs": [],
   "source": [
    "max_dec = mask_data(dec_wind_mag.max(dim='time').values)\n",
    "plt.pcolormesh(max_dec, cmap = speed_cmap)\n",
    "plt.colorbar()\n",
    "plt.title('Maxima of December wind speeds 2014-2018 (m/s)')\n",
    "plt.xlabel('X')\n",
    "plt.ylabel('Y')"
   ]
  },
  {
   "cell_type": "markdown",
   "metadata": {},
   "source": [
    "# March winds"
   ]
  },
  {
   "cell_type": "code",
   "execution_count": null,
   "metadata": {},
   "outputs": [],
   "source": [
    "mar_data_u = winddata.u_wind.loc[winddata['time.month'].isin([3])]\n",
    "mar_data_v = winddata.v_wind.loc[winddata['time.month'].isin([3])]\n",
    "mar_wind_mag = xr.ufuncs.sqrt(mar_data_u**2+mar_data_v**2)"
   ]
  },
  {
   "cell_type": "markdown",
   "metadata": {},
   "source": [
    "## Mean Winds"
   ]
  },
  {
   "cell_type": "code",
   "execution_count": null,
   "metadata": {},
   "outputs": [],
   "source": [
    "mean_mar = mask_data(mar_wind_mag.mean(dim='time').values)\n",
    "plt.pcolormesh(mean_mar, cmap = speed_cmap)\n",
    "plt.colorbar()\n",
    "plt.title('Mean March wind speeds 2014-2018 (m/s)')\n",
    "plt.xlabel('X')\n",
    "plt.ylabel('Y')"
   ]
  },
  {
   "cell_type": "markdown",
   "metadata": {},
   "source": [
    "## Standard Deviation"
   ]
  },
  {
   "cell_type": "code",
   "execution_count": null,
   "metadata": {},
   "outputs": [],
   "source": [
    "stddev_mar = mask_data(mar_wind_mag.std(dim='time').values)\n",
    "plt.pcolormesh(stddev_mar, cmap = speed_cmap)\n",
    "plt.colorbar()\n",
    "plt.title('Standard Deviation of March wind speeds 2014-2018 (m/s)')\n",
    "plt.xlabel('X')\n",
    "plt.ylabel('Y')"
   ]
  },
  {
   "cell_type": "markdown",
   "metadata": {},
   "source": [
    "## Maximum Winds"
   ]
  },
  {
   "cell_type": "code",
   "execution_count": null,
   "metadata": {},
   "outputs": [],
   "source": [
    "max_mar = mask_data(mar_wind_mag.max(dim='time').values)\n",
    "plt.pcolormesh(max_mar, cmap = speed_cmap)\n",
    "plt.colorbar()\n",
    "plt.title('Maxima of March wind speeds 2014-2018 (m/s)')\n",
    "plt.xlabel('X')\n",
    "plt.ylabel('Y')"
   ]
  },
  {
   "cell_type": "markdown",
   "metadata": {},
   "source": [
    "# June Winds"
   ]
  },
  {
   "cell_type": "code",
   "execution_count": null,
   "metadata": {},
   "outputs": [],
   "source": [
    "june_data_u = winddata.u_wind.loc[winddata['time.month'].isin([6])]\n",
    "june_data_v = winddata.v_wind.loc[winddata['time.month'].isin([6])]\n",
    "june_wind_mag = xr.ufuncs.sqrt(june_data_u**2+june_data_v**2)"
   ]
  },
  {
   "cell_type": "code",
   "execution_count": null,
   "metadata": {},
   "outputs": [],
   "source": [
    "mean_june = mask_data(june_wind_mag.mean(dim='time').values)\n",
    "plt.pcolormesh(mean_june, cmap = speed_cmap)\n",
    "plt.colorbar()\n",
    "plt.title('Mean June wind speeds 2014-2018 (m/s)')\n",
    "plt.xlabel('X')\n",
    "plt.ylabel('Y')"
   ]
  },
  {
   "cell_type": "code",
   "execution_count": null,
   "metadata": {},
   "outputs": [],
   "source": [
    "stddev_june = mask_data(june_wind_mag.std(dim='time').values)\n",
    "plt.pcolormesh(stddev_june, cmap = speed_cmap)\n",
    "plt.colorbar()\n",
    "plt.title('Standard Deviation of June wind speeds 2014-2018 (m/s)')\n",
    "plt.xlabel('X')\n",
    "plt.ylabel('Y')"
   ]
  },
  {
   "cell_type": "code",
   "execution_count": null,
   "metadata": {},
   "outputs": [],
   "source": [
    "max_june = mask_data(june_wind_mag.max(dim='time').values)\n",
    "plt.pcolormesh(max_june, cmap = speed_cmap)\n",
    "plt.colorbar()\n",
    "plt.title('Maxima of June wind speeds 2014-2018 (m/s)')\n",
    "plt.xlabel('X')\n",
    "plt.ylabel('Y')"
   ]
  },
  {
   "cell_type": "markdown",
   "metadata": {},
   "source": [
    "# September winds"
   ]
  },
  {
   "cell_type": "code",
   "execution_count": null,
   "metadata": {},
   "outputs": [],
   "source": [
    "sept_data_u = winddata.u_wind.loc[winddata['time.month'].isin([9])]\n",
    "sept_data_v = winddata.v_wind.loc[winddata['time.month'].isin([9])]\n",
    "sept_wind_mag = xr.ufuncs.sqrt(sept_data_u**2+sept_data_v**2)"
   ]
  },
  {
   "cell_type": "code",
   "execution_count": null,
   "metadata": {},
   "outputs": [],
   "source": [
    "mean_sept= mask_data(sept_wind_mag.mean(dim='time').values)\n",
    "plt.pcolormesh(mean_sept, cmap = speed_cmap)\n",
    "plt.colorbar()\n",
    "plt.title('Mean September wind speeds 2014-2018 (m/s)')\n",
    "plt.xlabel('X')\n",
    "plt.ylabel('Y')"
   ]
  },
  {
   "cell_type": "code",
   "execution_count": null,
   "metadata": {},
   "outputs": [],
   "source": [
    "stddev_sept= mask_data(sept_wind_mag.std(dim='time').values)\n",
    "plt.pcolormesh(stddev_sept, cmap = speed_cmap)\n",
    "plt.colorbar()\n",
    "plt.title('Standard Deviation of September wind speeds 2014-2018 (m/s)')\n",
    "plt.xlabel('X')\n",
    "plt.ylabel('Y')"
   ]
  },
  {
   "cell_type": "code",
   "execution_count": null,
   "metadata": {},
   "outputs": [],
   "source": [
    "max_sept= mask_data(sept_wind_mag.max(dim='time').values)\n",
    "plt.pcolormesh(max_sept, cmap = speed_cmap)\n",
    "plt.colorbar()\n",
    "plt.title('Maxima of September wind speeds 2014-2018 (m/s)')\n",
    "plt.xlabel('X')\n",
    "plt.ylabel('Y')"
   ]
  },
  {
   "cell_type": "markdown",
   "metadata": {},
   "source": [
    "# All Winds"
   ]
  },
  {
   "cell_type": "code",
   "execution_count": null,
   "metadata": {},
   "outputs": [],
   "source": []
  }
 ],
 "metadata": {
  "kernelspec": {
   "display_name": "Python 3",
   "language": "python",
   "name": "python3"
  },
  "language_info": {
   "codemirror_mode": {
    "name": "ipython",
    "version": 3
   },
   "file_extension": ".py",
   "mimetype": "text/x-python",
   "name": "python",
   "nbconvert_exporter": "python",
   "pygments_lexer": "ipython3",
   "version": "3.7.1"
  }
 },
 "nbformat": 4,
 "nbformat_minor": 2
}
