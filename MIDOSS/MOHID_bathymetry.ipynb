{
 "cells": [
  {
   "cell_type": "markdown",
   "metadata": {},
   "source": [
    "# Make MOHID bathymetry file"
   ]
  },
  {
   "cell_type": "code",
   "execution_count": 1,
   "metadata": {},
   "outputs": [],
   "source": [
    "import numpy as np\n",
    "import xarray as xr"
   ]
  },
  {
   "cell_type": "code",
   "execution_count": 2,
   "metadata": {},
   "outputs": [],
   "source": [
    "grid = xr.open_dataset('https://salishsea.eos.ubc.ca/erddap/griddap/ubcSSn2DMeshMaskV17-02')\n",
    "bathymetry = xr.open_dataset('AfterNEMOBathy201702.nc').Bathymetry.values[1:897, 1:397]"
   ]
  },
  {
   "cell_type": "code",
   "execution_count": 3,
   "metadata": {},
   "outputs": [],
   "source": [
    "condlist = [bathymetry == 0, bathymetry != 0]\n",
    "choicelist = [-99, bathymetry]\n",
    "bathymetry = np.select(condlist, choicelist)"
   ]
  },
  {
   "cell_type": "code",
   "execution_count": 4,
   "metadata": {},
   "outputs": [],
   "source": [
    "left = bathymetry[...,0]\n",
    "condlist = [left == -99, left != -99]\n",
    "choicelist = [-99, 0]\n",
    "bathymetry[...,0] = np.select(condlist, choicelist)\n",
    "\n",
    "right = bathymetry[...,-1]\n",
    "condlist = [right == -99, right != -99]\n",
    "choicelist = [-99, 0]\n",
    "bathymetry[...,-1] = np.select(condlist, choicelist)\n",
    "\n",
    "top = bathymetry[0]\n",
    "condlist = [top == -99, top != -99]\n",
    "choicelist = [-99, 0]\n",
    "bathymetry[0] = np.select(condlist, choicelist)\n",
    "\n",
    "bottom = bathymetry[-1]\n",
    "condlist = [bottom == -99, bottom != -99]\n",
    "choicelist = [-99, 0]\n",
    "bathymetry[-1] = np.select(condlist, choicelist)"
   ]
  },
  {
   "cell_type": "code",
   "execution_count": 5,
   "metadata": {},
   "outputs": [],
   "source": [
    "u = grid.gphiu.isel(time = 0).values\n",
    "u_roll = np.roll(u,shift = -1, axis = 0)\n",
    "unstaggered_u = ((u + u_roll)/2)[0:897, 1:398]"
   ]
  },
  {
   "cell_type": "code",
   "execution_count": 6,
   "metadata": {},
   "outputs": [],
   "source": [
    "v = grid.glamv.isel(time = 0).values \n",
    "v_roll = np.roll(v,shift = -1, axis = 1)\n",
    "unstaggered_v = ((v + v_roll)/2)[0:897, 0:397]"
   ]
  },
  {
   "cell_type": "markdown",
   "metadata": {},
   "source": [
    "## confirm"
   ]
  },
  {
   "cell_type": "code",
   "execution_count": 7,
   "metadata": {},
   "outputs": [],
   "source": [
    "a = np.array([[1,2,3],\n",
    "              [4,5,6],\n",
    "              [7,8,9]])\n",
    "a_roll = np.roll(a,shift = -1, axis = 0)\n",
    "unstagerred_a = ((a + a_roll)/2)[0:2, 1:3]"
   ]
  },
  {
   "cell_type": "code",
   "execution_count": 8,
   "metadata": {},
   "outputs": [],
   "source": [
    "assert((unstagerred_a == np.array([[3.5, 4.5],[6.5, 7.5]])).all())"
   ]
  },
  {
   "cell_type": "code",
   "execution_count": 9,
   "metadata": {},
   "outputs": [],
   "source": [
    "b = np.array([[1,2,3],\n",
    "              [4,5,6],\n",
    "              [7,8,9]])\n",
    "b_roll = np.roll(b,shift = -1, axis = 1)\n",
    "unstagerred_b = ((b + b_roll)/2)[0:2, 0:2]"
   ]
  },
  {
   "cell_type": "code",
   "execution_count": 10,
   "metadata": {},
   "outputs": [],
   "source": [
    "assert((unstagerred_b == np.array([[1.5, 2.5],[4.5, 5.5]])).all())"
   ]
  },
  {
   "cell_type": "markdown",
   "metadata": {},
   "source": [
    "## write to file"
   ]
  },
  {
   "cell_type": "code",
   "execution_count": 135,
   "metadata": {},
   "outputs": [],
   "source": [
    "bathy = open('Bathymetry.dat', 'wt')\n",
    "\n",
    "bathy.write('ILB_IUB : 1 896\\n')\n",
    "bathy.write('JLB_JUB : 1 396\\n')\n",
    "bathy.write('COORD_TIP : 4\\n')\n",
    "bathy.write(f'ORIGIN : {unstaggered_v[0][0]} {unstaggered_u[0][0]}\\n')\n",
    "bathy.write('GRID_ANGLE : 0\\n')\n",
    "bathy.write('LATITUDE : 0\\n')\n",
    "bathy.write('LONGITUDE: 0\\n')\n",
    "bathy.write('FILL_VALUE : -99\\n')\n",
    "bathy.write('<CornersXY>\\n')\n",
    "for i in range(897):\n",
    "    for j in range(397):\n",
    "        bathy.write(f'{unstaggered_v[i][j]} {unstaggered_u[i][j]}\\n')\n",
    "bathy.write('<BeginGridData2D>\\n')\n",
    "for i in range(896):\n",
    "    for j in range(396):\n",
    "        bathy.write(f'{bathymetry[i][j]}\\n')\n",
    "bathy.write('<EndGridData2D>\\n')\n",
    "bathy.close()"
   ]
  },
  {
   "cell_type": "code",
   "execution_count": null,
   "metadata": {},
   "outputs": [],
   "source": []
  }
 ],
 "metadata": {
  "kernelspec": {
   "display_name": "Python 3",
   "language": "python",
   "name": "python3"
  },
  "language_info": {
   "codemirror_mode": {
    "name": "ipython",
    "version": 3
   },
   "file_extension": ".py",
   "mimetype": "text/x-python",
   "name": "python",
   "nbconvert_exporter": "python",
   "pygments_lexer": "ipython3",
   "version": "3.6.8"
  }
 },
 "nbformat": 4,
 "nbformat_minor": 2
}
