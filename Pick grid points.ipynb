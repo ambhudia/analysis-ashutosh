{
 "cells": [
  {
   "cell_type": "code",
   "execution_count": 17,
   "metadata": {},
   "outputs": [],
   "source": [
    "import numpy as np\n",
    "import numpy.ma as ma\n",
    "import matplotlib.pyplot as plt\n",
    "import xarray as xr\n",
    "import pickle\n",
    "import time\n",
    "import datetime\n",
    "from salishsea_tools import viz_tools\n",
    "#%matplotlib inline\n",
    "%matplotlib qt"
   ]
  },
  {
   "cell_type": "code",
   "execution_count": 18,
   "metadata": {},
   "outputs": [],
   "source": [
    "grid = xr.open_dataset(\"https://salishsea.eos.ubc.ca/erddap/griddap/ubcSSnBathymetryV17-02\").sel(gridX = slice(10, 364), gridY = slice(200, 739))"
   ]
  },
  {
   "cell_type": "code",
   "execution_count": 19,
   "metadata": {},
   "outputs": [],
   "source": [
    "nemo_mask =xr.open_dataset(\"https://salishsea.eos.ubc.ca/erddap/griddap/ubcSSn2DMeshMaskV17-02\").tmaskutil.sel(gridX = slice(10, 364), gridY = slice(200, 739)) "
   ]
  },
  {
   "cell_type": "code",
   "execution_count": 20,
   "metadata": {},
   "outputs": [],
   "source": [
    "lat = grid.latitude\n",
    "lon = grid.longitude"
   ]
  },
  {
   "cell_type": "code",
   "execution_count": 27,
   "metadata": {},
   "outputs": [
    {
     "data": {
      "text/plain": [
       "<matplotlib.legend.Legend at 0x7f78b1f41208>"
      ]
     },
     "execution_count": 27,
     "metadata": {},
     "output_type": "execute_result"
    }
   ],
   "source": [
    "plt.cla()\n",
    "fig = plt.figure(figsize = (20,20))\n",
    "ax = plt.subplot(111)\n",
    "ax.contour(nemo_mask.isel(time=0).values, levels=[-1,1], colors= \"k\")\n",
    "viz_tools.set_aspect(ax)\n",
    "ax.plot([258],[56],\"1\", label=\"Salmon Bank\")\n",
    "ax.plot([240], [143], \"2\", label = 'Turn Point')\n",
    "ax.plot([242], [274], \"3\", label = 'Strait of Georgia')\n",
    "ax.legend()"
   ]
  },
  {
   "cell_type": "code",
   "execution_count": 6,
   "metadata": {},
   "outputs": [],
   "source": [
    "mask_array = nemo_mask.isel(time=0).values"
   ]
  },
  {
   "cell_type": "code",
   "execution_count": 207,
   "metadata": {},
   "outputs": [],
   "source": [
    "salmon_lat = lat.values[56][258]\n",
    "turn_lat = lat.values[138][237]\n",
    "sog_lat = lat.values[274][242]\n",
    "salmon_lon = lon.values[56][258]\n",
    "turn_lon = lon.values[138][237]\n",
    "sog_lon = lon.values[274][242]"
   ]
  },
  {
   "cell_type": "code",
   "execution_count": 208,
   "metadata": {},
   "outputs": [],
   "source": [
    "salmon_coords = (salmon_lat, salmon_lon)\n",
    "turn_coords = (turn_lat, turn_lon)\n",
    "sog_coords = (sog_lat, sog_lon)"
   ]
  },
  {
   "cell_type": "code",
   "execution_count": 209,
   "metadata": {},
   "outputs": [
    {
     "name": "stdout",
     "output_type": "stream",
     "text": [
      "(48.38138198852539, -122.85613250732422)\n"
     ]
    }
   ],
   "source": [
    "print(salmon_coords)"
   ]
  },
  {
   "cell_type": "code",
   "execution_count": 210,
   "metadata": {},
   "outputs": [
    {
     "name": "stdout",
     "output_type": "stream",
     "text": [
      "(48.66575622558594, -123.23974609375)\n"
     ]
    }
   ],
   "source": [
    "print(turn_coords)"
   ]
  },
  {
   "cell_type": "code",
   "execution_count": 211,
   "metadata": {},
   "outputs": [
    {
     "name": "stdout",
     "output_type": "stream",
     "text": [
      "(49.21060562133789, -123.66905975341797)\n"
     ]
    }
   ],
   "source": [
    "print(sog_coords)"
   ]
  },
  {
   "cell_type": "code",
   "execution_count": 213,
   "metadata": {},
   "outputs": [
    {
     "data": {
      "text/plain": [
       "<xarray.DataArray 'tmaskutil' (time: 1, gridY: 540, gridX: 355)>\n",
       "[191700 values with dtype=int8]\n",
       "Coordinates:\n",
       "  * time     (time) datetime64[ns] 2014-09-12T00:30:00\n",
       "  * gridY    (gridY) int16 200 201 202 203 204 205 ... 734 735 736 737 738 739\n",
       "  * gridX    (gridX) int16 10 11 12 13 14 15 16 ... 358 359 360 361 362 363 364\n",
       "Attributes:\n",
       "    _ChunkSizes:            [  1 898 398]\n",
       "    content_coverage_type:  modelResult\n",
       "    flag_meanings:          land, water\n",
       "    flag_values:            0, 1\n",
       "    ioos_category:          grid_parameter\n",
       "    long_name:              dry land mask for T-grid and W-grid\n",
       "    standard_name:          tmaskutil"
      ]
     },
     "execution_count": 213,
     "metadata": {},
     "output_type": "execute_result"
    }
   ],
   "source": [
    "nemo_mask"
   ]
  },
  {
   "cell_type": "code",
   "execution_count": null,
   "metadata": {},
   "outputs": [],
   "source": []
  }
 ],
 "metadata": {
  "kernelspec": {
   "display_name": "Python 3",
   "language": "python",
   "name": "python3"
  },
  "language_info": {
   "codemirror_mode": {
    "name": "ipython",
    "version": 3
   },
   "file_extension": ".py",
   "mimetype": "text/x-python",
   "name": "python",
   "nbconvert_exporter": "python",
   "pygments_lexer": "ipython3",
   "version": "3.7.1"
  }
 },
 "nbformat": 4,
 "nbformat_minor": 2
}
