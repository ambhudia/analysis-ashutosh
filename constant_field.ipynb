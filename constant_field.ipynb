{
 "cells": [
  {
   "cell_type": "code",
   "execution_count": 1,
   "metadata": {},
   "outputs": [],
   "source": [
    "import numpy as np\n",
    "import xarray as xr\n",
    "import datetime\n",
    "from dateutil.parser import parse\n",
    "import matplotlib.pyplot as plt\n",
    "import h5py\n",
    "%matplotlib inline"
   ]
  },
  {
   "cell_type": "markdown",
   "metadata": {},
   "source": [
    "## Generate timestamps within specified date range"
   ]
  },
  {
   "cell_type": "code",
   "execution_count": 2,
   "metadata": {},
   "outputs": [],
   "source": [
    "def generate_timelist(start, end, delta_seconds):\n",
    "    # define start and end times\n",
    "    end = parse(end)\n",
    "    start = parse(start)\n",
    "    # number of seconds we want between each time stamp\n",
    "    delta_seconds = 3600\n",
    "    # calculate the timedelta in seconds\n",
    "    total_seconds = (end - start).total_seconds()\n",
    "\n",
    "    # add timestamps to list\n",
    "    timelist = []\n",
    "    timestamp = start\n",
    "    while (total_seconds >= 0):\n",
    "        timelist.append(timestamp)\n",
    "        timestamp = timestamp +  datetime.timedelta(seconds=delta_seconds)\n",
    "        total_seconds -= delta_seconds\n",
    "    return timelist"
   ]
  },
  {
   "cell_type": "code",
   "execution_count": 3,
   "metadata": {},
   "outputs": [
    {
     "data": {
      "text/plain": [
       "[datetime.datetime(2017, 1, 1, 0, 30),\n",
       " datetime.datetime(2017, 1, 1, 1, 30),\n",
       " datetime.datetime(2017, 1, 1, 2, 30),\n",
       " datetime.datetime(2017, 1, 1, 3, 30),\n",
       " datetime.datetime(2017, 1, 1, 4, 30)]"
      ]
     },
     "execution_count": 3,
     "metadata": {},
     "output_type": "execute_result"
    }
   ],
   "source": [
    "generate_timelist('1 Jan 2017 00:30:00', '3 Jan 2017 23:30:00', 3600)[0:5] # taking a look at some of the list"
   ]
  },
  {
   "cell_type": "markdown",
   "metadata": {},
   "source": [
    "## Generate constant field for 2D field"
   ]
  },
  {
   "cell_type": "code",
   "execution_count": 4,
   "metadata": {},
   "outputs": [],
   "source": [
    "# mask for MOHID grid\n",
    "mask = xr.open_dataset('https://salishsea.eos.ubc.ca/erddap/griddap/ubcSSn2DMeshMaskV17-02').tmaskutil.isel(time=0).values[1:897,1:397].T\n",
    "def constant_field(fillvalue, mask=mask):\n",
    "    # make an array using mask\n",
    "    condlist = [mask==0, mask ==1]\n",
    "    choicelist = [0, fillvalue]\n",
    "    return np.select(condlist, choicelist)"
   ]
  },
  {
   "cell_type": "markdown",
   "metadata": {},
   "source": [
    "## Create 3D field"
   ]
  },
  {
   "cell_type": "code",
   "execution_count": 5,
   "metadata": {},
   "outputs": [],
   "source": [
    "#3D mask truncated and transposed at needed by MOHID\n",
    "mask_3D = xr.open_dataset('https://salishsea.eos.ubc.ca/erddap/griddap/ubcSSn3DMeshMaskV17-02').tmask.isel(time=0).values[...,1:897, 1:397]\n",
    "mask_3D = np.transpose(mask_3D, [0,2,1])"
   ]
  },
  {
   "cell_type": "code",
   "execution_count": 27,
   "metadata": {},
   "outputs": [],
   "source": [
    "def constant_field3D(depth_list, fillvalue_list, mask_3D=mask_3D):\n",
    "    \"\"\"Generate constant 3D fields for MOHID\n",
    "    \n",
    "    :arg depth_list: list of depth indices\n",
    "    :type list: :py:class:'list' \n",
    "    \n",
    "    :arg fillvalue_list: list of fillvalues to apply at each depth index\n",
    "    :type list: :py:class:'list'\n",
    "    \n",
    "    :arg mask_3D: 3D mask used to create constant fields. Shape (40,396,896).\n",
    "    :type ndarray: :py:class:'ndarray' \n",
    "    \"\"\"\n",
    "    output_arr = np.zeros([40,396,896])\n",
    "    for i in depth_list:\n",
    "        output_arr[i] = constant_field(fillvalue_list[i], mask_3D[i])\n",
    "    # flip depth dimension for MOHID\n",
    "    return np.flip(output_arr, axis = 0)"
   ]
  },
  {
   "cell_type": "markdown",
   "metadata": {},
   "source": [
    "## Currents"
   ]
  },
  {
   "cell_type": "code",
   "execution_count": 37,
   "metadata": {},
   "outputs": [],
   "source": [
    "def create_currents_const(datelist, current_u, current_v, filename, compression_level = 1):\n",
    "    # create hdf5 file and create tree structure\n",
    "    f = h5py.File(filename, 'w')\n",
    "    times = f.create_group('Time')\n",
    "    velocity_u = f.create_group('/Results/velocity U')\n",
    "    velocity_v = f.create_group('/Results/velocity V')\n",
    "\n",
    "    # make list of time arrays\n",
    "    datearrays = []\n",
    "    for date in datelist:\n",
    "        datearrays.append(\n",
    "            np.array([date.year,date.month, date.day, date.hour, date.minute, date.second]).astype('float64')\n",
    "            )\n",
    "\n",
    "    # write time values to hdf5\n",
    "    for i, datearray in enumerate(datearrays):\n",
    "        child_name = 'Time_' + ((5 - len(str(i + 1))) * '0') + str(i + 1)\n",
    "        dset = times.create_dataset(\n",
    "            child_name,\n",
    "            shape = (6,),\n",
    "            data = datearray,\n",
    "            chunks = (6,),\n",
    "            compression = 'gzip',\n",
    "            compression_opts = compression_level\n",
    "            )\n",
    "        metadata = {\n",
    "            'Maximum' : np.array(datearrays[i][0]),\n",
    "            'Minimum' : np.array([-0.]),\n",
    "            'Units' : b'YYYY/MM/DD HH:MM:SS'\n",
    "            } \n",
    "        dset.attrs.update(metadata)\n",
    "        \n",
    "        # U velocities\n",
    "        child_name = 'velocity U_' + ((5 - len(str(i + 1))) * '0') + str(i + 1)\n",
    "        dset = velocity_u.create_dataset(\n",
    "            child_name,\n",
    "            shape = (40, 396, 896),\n",
    "            data = current_u,\n",
    "            chunks = (40, 396, 896),\n",
    "            compression = 'gzip',\n",
    "            compression_opts = compression_level\n",
    "            )\n",
    "        metadata = {\n",
    "            'FillValue' : np.array([0.]),\n",
    "            'Maximum' : np.array([5.]),\n",
    "            'Minimum' : np.array([-5.]),\n",
    "            'Units' : b'm/s'\n",
    "            }\n",
    "        dset.attrs.update(metadata)\n",
    "        \n",
    "        # V velocities\n",
    "        child_name = 'velocity V_' + ((5 - len(str(i + 1))) * '0') + str(i + 1)\n",
    "        dset = velocity_v.create_dataset(\n",
    "            child_name,\n",
    "            shape = (40, 396, 896),\n",
    "            data = current_v,\n",
    "            chunks = (40, 396, 896),\n",
    "            compression = 'gzip',\n",
    "            compression_opts = compression_level\n",
    "            )\n",
    "        metadata = {\n",
    "            'FillValue' : np.array([0.]),\n",
    "            'Maximum' : np.array([5.]),\n",
    "            'Minimum' : np.array([-5.]),\n",
    "            'Units' : b'm/s'\n",
    "            }\n",
    "        dset.attrs.update(metadata)\n",
    "    f.close()"
   ]
  },
  {
   "cell_type": "markdown",
   "metadata": {},
   "source": [
    "## SSH"
   ]
  },
  {
   "cell_type": "code",
   "execution_count": 8,
   "metadata": {},
   "outputs": [],
   "source": [
    "def create_ssh_const(datelist, ssh, filename, compression_level = 1):\n",
    "    # create hdf5 file and tree structure\n",
    "    f = h5py.File(filename, 'w')\n",
    "    times = f.create_group('Time')\n",
    "    water_level = f.create_group('/Results/water level')\n",
    "        \n",
    "    # make list of time arrays\n",
    "    datearrays = []\n",
    "    for date in datelist:\n",
    "        datearrays.append(\n",
    "            np.array([date.year,date.month, date.day, date.hour, date.minute, date.second]).astype('float64')\n",
    "            )\n",
    "\n",
    "    # write time values to hdf5\n",
    "    for i, datearray in enumerate(datearrays):\n",
    "        child_name = 'Time_' + ((5 - len(str(i + 1))) * '0') + str(i + 1)\n",
    "        dset = times.create_dataset(\n",
    "            child_name,\n",
    "            shape = (6,),\n",
    "            data = datearray,\n",
    "            chunks = (6,),\n",
    "            compression = 'gzip',\n",
    "            compression_opts = compression_level\n",
    "            )\n",
    "        metadata = {\n",
    "            'Maximum' : np.array(datearrays[i][0]),\n",
    "            'Minimum' : np.array([-0.]),\n",
    "            'Units' : b'YYYY/MM/DD HH:MM:SS'\n",
    "            } \n",
    "        dset.attrs.update(metadata)\n",
    "\n",
    "    # write  water level values to hdf5\n",
    "        child_name = 'water level_' + ((5 - len(str(i + 1))) * '0') + str(i + 1)\n",
    "        dset = water_level.create_dataset(\n",
    "            child_name,\n",
    "            shape = (396, 896),\n",
    "            data = ssh,\n",
    "            chunks = (396, 896),\n",
    "            compression = 'gzip',\n",
    "            compression_opts = compression_level\n",
    "            )\n",
    "        metadata = {\n",
    "            'FillValue' : np.array([0.]),\n",
    "            'Maximum' : np.array([5.]),\n",
    "            'Minimum' : np.array([-5.]),\n",
    "            'Units' : b'm'\n",
    "            }\n",
    "        dset.attrs.update(metadata)\n",
    "\n",
    "\n",
    "    f.close()"
   ]
  },
  {
   "cell_type": "markdown",
   "metadata": {},
   "source": [
    "## Winds"
   ]
  },
  {
   "cell_type": "code",
   "execution_count": 9,
   "metadata": {},
   "outputs": [],
   "source": [
    "def create_winds_hdf5(datelist, u_wind, v_wind, filename, compression_level = 1):\n",
    "    # create hdf5 file and create tree structure\n",
    "    f = h5py.File(filename, 'w')\n",
    "    times = f.create_group('Time')\n",
    "    windu = f.create_group('/Results/wind velocity X')\n",
    "    windv = f.create_group('/Results/wind velocity Y')\n",
    "        \n",
    "    # make list of time arrays\n",
    "    datearrays = []\n",
    "    for date in datelist:\n",
    "        datearrays.append(\n",
    "            np.array([date.year,date.month, date.day, date.hour, date.minute, date.second]).astype('float64')\n",
    "            )\n",
    "\n",
    "    # write time values to hdf5\n",
    "    for i, datearray in enumerate(datearrays):\n",
    "        child_name = 'Time_' + ((5 - len(str(i + 1))) * '0') + str(i + 1)\n",
    "        dset = times.create_dataset(\n",
    "            child_name,\n",
    "            shape = (6,),\n",
    "            data = datearray,\n",
    "            chunks = (6,),\n",
    "            compression = 'gzip',\n",
    "            compression_opts = compression_level\n",
    "            )\n",
    "        metadata = {\n",
    "            'Maximum' : np.array([float(datearrays[i][0])]),\n",
    "            'Minimum' : np.array([-0.]),\n",
    "            'Units' : b'YYYY/MM/DD HH:MM:SS'\n",
    "            } \n",
    "        dset.attrs.update(metadata)\n",
    "\n",
    "    # write X wind velocities to hdf5\n",
    "        child_name = 'wind velocity X_' + ((5 - len(str(i + 1))) * '0') + str(i + 1)\n",
    "        dset = windu.create_dataset(\n",
    "            child_name,\n",
    "            shape  = (396, 896),\n",
    "            data = wind_u,\n",
    "            chunks = (396, 896),\n",
    "            compression = 'gzip',\n",
    "            compression_opts = compression_level\n",
    "            )\n",
    "        metadata = {\n",
    "            'FillValue' : np.array([0.]),\n",
    "            'Maximum' : np.array([100.]),\n",
    "            'Minimum' : np.array([-100.]),\n",
    "            'Units' : b'm/s'\n",
    "            }\n",
    "        dset.attrs.update(metadata)\n",
    "\n",
    "    # write Y wind velocities to hdf5\n",
    "        child_name = 'wind velocity Y_' + ((5 - len(str(i + 1))) * '0') + str(i + 1)\n",
    "        dset = windv.create_dataset(\n",
    "            child_name,\n",
    "            shape = (396, 896),\n",
    "            data = wind_v,\n",
    "            chunks = (396, 896),\n",
    "            compression = 'gzip',\n",
    "            compression_opts = compression_level\n",
    "            )\n",
    "        metadata = {\n",
    "            'FillValue' : np.array([0.]),\n",
    "            'Maximum' : np.array([100.]),\n",
    "            'Minimum' : np.array([-100.]),\n",
    "            'Units' : b'm/s'\n",
    "            }\n",
    "        dset.attrs.update(metadata)\n",
    "    f.close()"
   ]
  },
  {
   "cell_type": "markdown",
   "metadata": {},
   "source": [
    "## Waves"
   ]
  },
  {
   "cell_type": "code",
   "execution_count": 10,
   "metadata": {},
   "outputs": [],
   "source": [
    "def create_ww3_hdf5(datelist, mean_wave_period, significant_wave_height, whitecap_coverage, filename, compression_level = 1):\n",
    "\n",
    "    # create hdf5 file and create tree structure\n",
    "    f = h5py.File(filename, 'w')\n",
    "    times = f.create_group('Time')\n",
    "    mwp = f.create_group('/Results/mean wave period')\n",
    "    swh = f.create_group('/Results/significant wave height')\n",
    "    wc  = f.create_group('/Results/whitecap coverage')\n",
    "    \n",
    "   \n",
    "    # make list of time arrays\n",
    "    datearrays = []\n",
    "    for date in datelist:\n",
    "        datearrays.append(\n",
    "            np.array([date.year, date.month, date.day, date.hour, date.minute, date.second]).astype('float64')\n",
    "            )\n",
    "\n",
    "    # write time values to hdf5\n",
    "    for i, datearray in enumerate(datearrays):\n",
    "        child_name = 'Time_' + ((5 - len(str(i + attr_counter + 1))) * '0') + str(i + attr_counter + 1)\n",
    "        dset = times.create_dataset(\n",
    "            child_name,\n",
    "            shape = (6,),\n",
    "            data = datearray,\n",
    "            chunks = (6,),\n",
    "            #compression = 'gzip',\n",
    "            #compression_opts = compression_level\n",
    "            )\n",
    "        metadata = {\n",
    "            'Maximum' : np.array([float(datearray[0])]),\n",
    "            'Minimum' : np.array([-0.]),\n",
    "            'Units' : b'YYYY/MM/DD HH:MM:SS'\n",
    "            } \n",
    "        dset.attrs.update(metadata)\n",
    "\n",
    "    # write mean wave period to hdf5\n",
    "        child_name = 'mean wave period_' + ((5 - len(str(i + attr_counter + 1))) * '0') + str(i + attr_counter + 1)\n",
    "        dset = mwp.create_dataset(\n",
    "            child_name,\n",
    "            shape = (396, 896),\n",
    "            data = mean_wave_period,\n",
    "            chunks = (396, 896),\n",
    "            #compression = 'gzip',\n",
    "            #compression_opts = compression_level\n",
    "            )\n",
    "        metadata = {\n",
    "            'FillValue' : np.array([0.]),\n",
    "            'Maximum' : np.array([100000.]),\n",
    "            'Minimum' : np.array([0.]),\n",
    "            'Units' : b's'\n",
    "            }\n",
    "        dset.attrs.update(metadata)\n",
    "\n",
    "    # write significant wave height to hdf5\n",
    "        child_name = 'significant wave height_' + ((5 - len(str(i + attr_counter + 1))) * '0') + str(i + attr_counter + 1)\n",
    "        dset = swh.create_dataset(\n",
    "            child_name,\n",
    "            shape = (396, 896),\n",
    "            data = significant_wave_height,\n",
    "            chunks = (396, 896),\n",
    "            #compression = 'gzip',\n",
    "            #compression_opts = compression_level\n",
    "            )\n",
    "        metadata = {\n",
    "            'FillValue' : np.array([0.]),\n",
    "            'Maximum' : np.array([100.]),\n",
    "            'Minimum' : np.array([-100.]),\n",
    "            'Units' : b'm'\n",
    "            }\n",
    "        dset.attrs.update(metadata)\n",
    "\n",
    "    # write whitecap coverage to hdf5\n",
    "        child_name = 'whitecap coverage_' + ((5 - len(str(i + attr_counter + 1))) * '0') + str(i + attr_counter + 1)\n",
    "        dset = wc.create_dataset(\n",
    "            child_name,\n",
    "            shape = (396, 896),\n",
    "            data = whitecap_coverage,\n",
    "            chunks = (396, 896),\n",
    "            #compression = 'gzip',\n",
    "            #compression_opts = compression_level\n",
    "            )\n",
    "        metadata = {\n",
    "            'FillValue' : np.array([0.]),\n",
    "            'Maximum' : np.array([1.]),\n",
    "            'Minimum' : np.array([0.]),\n",
    "            'Units' : b'1'\n",
    "            }\n",
    "        dset.attrs.update(metadata)\n",
    "\n",
    "    f.close()"
   ]
  },
  {
   "cell_type": "markdown",
   "metadata": {},
   "source": [
    "## Example Usage"
   ]
  },
  {
   "cell_type": "code",
   "execution_count": 11,
   "metadata": {},
   "outputs": [],
   "source": [
    "datelist = generate_timelist('1 Jan 2017 00:30:00', '7 Jan 2017 23:30:00', 3600)"
   ]
  },
  {
   "cell_type": "markdown",
   "metadata": {},
   "source": [
    "#### ssh = 0"
   ]
  },
  {
   "cell_type": "code",
   "execution_count": 12,
   "metadata": {},
   "outputs": [],
   "source": [
    "ssh_0 = constant_field(0) ## flat ssh of 0 metres"
   ]
  },
  {
   "cell_type": "code",
   "execution_count": 13,
   "metadata": {},
   "outputs": [
    {
     "data": {
      "text/plain": [
       "<matplotlib.colorbar.Colorbar at 0x7f5518786da0>"
      ]
     },
     "execution_count": 13,
     "metadata": {},
     "output_type": "execute_result"
    },
    {
     "data": {
      "image/png": "[encoded data removed]",
      "text/plain": [
       "<Figure size 432x288 with 2 Axes>"
      ]
     },
     "metadata": {
      "needs_background": "light"
     },
     "output_type": "display_data"
    }
   ],
   "source": [
    "plt.pcolormesh(ssh_0,cmap = 'RdBu')\n",
    "plt.colorbar()"
   ]
  },
  {
   "cell_type": "code",
   "execution_count": 14,
   "metadata": {},
   "outputs": [],
   "source": [
    "create_ssh_const(datelist, ssh_0, 'MIDOSS/ssh_0.hdf5')"
   ]
  },
  {
   "cell_type": "markdown",
   "metadata": {},
   "source": [
    "### ssh = 2"
   ]
  },
  {
   "cell_type": "code",
   "execution_count": 16,
   "metadata": {},
   "outputs": [],
   "source": [
    "ssh_2 = constant_field(2)"
   ]
  },
  {
   "cell_type": "code",
   "execution_count": 17,
   "metadata": {},
   "outputs": [],
   "source": [
    "create_ssh_const(datelist, ssh_2, 'MIDOSS/ssh_2.hdf5')"
   ]
  },
  {
   "cell_type": "markdown",
   "metadata": {},
   "source": [
    "### ssh = -2"
   ]
  },
  {
   "cell_type": "code",
   "execution_count": 18,
   "metadata": {},
   "outputs": [],
   "source": [
    "ssh_neg2 = constant_field(-2)"
   ]
  },
  {
   "cell_type": "code",
   "execution_count": 19,
   "metadata": {},
   "outputs": [],
   "source": [
    "create_ssh_const(datelist, ssh_2, 'MIDOSS/ssh_neg2.hdf5')"
   ]
  },
  {
   "cell_type": "markdown",
   "metadata": {},
   "source": [
    "### currents (u = -0.5 m/s ( 0 m/s) in upper 2 m (below 2 m), v = 0 m/s (0.5 m/s) in upper 2 m (below 2 m))"
   ]
  },
  {
   "cell_type": "code",
   "execution_count": 33,
   "metadata": {},
   "outputs": [],
   "source": [
    "depth_list = [i for i in range(40)]\n",
    "depth_fillvalue_u = [0,0]\n",
    "for i in range(38):\n",
    "    depth_fillvalue_u.append(-0.5)\n",
    "depth_fillvalue_v = [0,0]\n",
    "for i in range(38):\n",
    "    depth_fillvalue_v.append(0.5)\n",
    "\n",
    "current_u = constant_field3D(depth_list, depth_fillvalue_u)\n",
    "current_v = constant_field3D(depth_list, depth_fillvalue_v)"
   ]
  },
  {
   "cell_type": "code",
   "execution_count": 38,
   "metadata": {},
   "outputs": [],
   "source": [
    "create_currents_const(datelist, current_u, current_v, 'MIDOSS/currents_example_01.hdf5')"
   ]
  },
  {
   "cell_type": "markdown",
   "metadata": {},
   "source": [
    "### u = 0.5 m/s, v = 0 m/s at all depths"
   ]
  },
  {
   "cell_type": "code",
   "execution_count": 39,
   "metadata": {},
   "outputs": [],
   "source": [
    "depth_list = [i for i in range(40)]\n",
    "depth_fillvalue_u = [0.5 for i in range(40)]\n",
    "depth_fillvalue_v = [0 for i in range(40)]\n",
    "\n",
    "current_u = constant_field3D(depth_list, depth_fillvalue_u)\n",
    "current_v = constant_field3D(depth_list, depth_fillvalue_v)"
   ]
  },
  {
   "cell_type": "code",
   "execution_count": 40,
   "metadata": {},
   "outputs": [],
   "source": [
    "create_currents_const(datelist, current_u, current_v, 'MIDOSS/currents_example_02.hdf5')"
   ]
  },
  {
   "cell_type": "code",
   "execution_count": null,
   "metadata": {},
   "outputs": [],
   "source": []
  }
 ],
 "metadata": {
  "kernelspec": {
   "display_name": "Python 3",
   "language": "python",
   "name": "python3"
  },
  "language_info": {
   "codemirror_mode": {
    "name": "ipython",
    "version": 3
   },
   "file_extension": ".py",
   "mimetype": "text/x-python",
   "name": "python",
   "nbconvert_exporter": "python",
   "pygments_lexer": "ipython3",
   "version": "3.6.8"
  }
 },
 "nbformat": 4,
 "nbformat_minor": 2
}
