{
 "cells": [
  {
   "cell_type": "markdown",
   "metadata": {},
   "source": [
    "# Compare Shihan Currents netcdf to Nowcast Green"
   ]
  },
  {
   "cell_type": "code",
   "execution_count": 3,
   "metadata": {},
   "outputs": [],
   "source": [
    "import tables\n",
    "import numpy as np\n",
    "import xarray as xr\n",
    "from salishsea_tools import utilities"
   ]
  },
  {
   "cell_type": "code",
   "execution_count": 2,
   "metadata": {},
   "outputs": [
    {
     "name": "stdout",
     "output_type": "stream",
     "text": [
      "/ (RootGroup) ''\n",
      "/Results (Group) ''\n",
      "/Time (Group) ''\n",
      "/Results/velocity U (Group) ''\n",
      "/Results/velocity V (Group) ''\n",
      "/Results/water level (Group) ''\n"
     ]
    }
   ],
   "source": [
    "h5file = tables.open_file('/ocean/abhudia/MEOPAR/analysis-ashutosh/temp/St_georgia.hdf5')\n",
    "for group in h5file.walk_groups():\n",
    "    print(group)"
   ]
  },
  {
   "cell_type": "code",
   "execution_count": null,
   "metadata": {},
   "outputs": [
    {
     "name": "stderr",
     "output_type": "stream",
     "text": [
      "Building GEM mask  13% (23 of 168) |#####                                  |ETA:   0:58:39"
     ]
    }
   ],
   "source": [
    "u_array = np.empty((1,40,396, 896))\n",
    "u_velocities = getattr(h5file.root.Results, 'velocity U')\n",
    "bar = utilities.statusbar('Building GEM mask', width=90, maxval=168)\n",
    "\n",
    "for index in bar(range(1,169)):\n",
    "    velocity_attr = 'velocity U_' + ((5 - len(str(index))) * '0') + str(index)\n",
    "    u_array = np.vstack((u_array, np.expand_dims(np.asarray(getattr(u_velocities, velocity_attr)),0)))"
   ]
  },
  {
   "cell_type": "code",
   "execution_count": null,
   "metadata": {},
   "outputs": [],
   "source": [
    "import pickle\n",
    "\n",
    "picklefile = open('U.pickle', 'rb')\n",
    "pickle.dump(u_array, picklefile)\n",
    "picklefile.close()"
   ]
  },
  {
   "cell_type": "code",
   "execution_count": null,
   "metadata": {},
   "outputs": [],
   "source": [
    "v_array = np.empty((1,40,396, 896))\n",
    "v_velocities = getattr(h5file.root.Results, 'velocity V')\n",
    "bar = utilities.statusbar('Building GEM mask', width=90, maxval=168)\n",
    "\n",
    "for index in bar(range(1,169)):\n",
    "    velocity_attr = 'velocity V_' + ((5 - len(str(index))) * '0') + str(index)\n",
    "    v_array = np.vstack((v_array, np.expand_dims(np.asarray(getattr(v_velocities, velocity_attr)),0)))"
   ]
  },
  {
   "cell_type": "code",
   "execution_count": null,
   "metadata": {},
   "outputs": [],
   "source": [
    "picklefile = open('V.pickle', 'rb')\n",
    "pickle.dump(v_array, picklefile)\n",
    "picklefile.close()"
   ]
  },
  {
   "cell_type": "code",
   "execution_count": null,
   "metadata": {},
   "outputs": [],
   "source": []
  }
 ],
 "metadata": {
  "kernelspec": {
   "display_name": "Python 3",
   "language": "python",
   "name": "python3"
  },
  "language_info": {
   "codemirror_mode": {
    "name": "ipython",
    "version": 3
   },
   "file_extension": ".py",
   "mimetype": "text/x-python",
   "name": "python",
   "nbconvert_exporter": "python",
   "pygments_lexer": "ipython3",
   "version": "3.7.1"
  }
 },
 "nbformat": 4,
 "nbformat_minor": 2
}
