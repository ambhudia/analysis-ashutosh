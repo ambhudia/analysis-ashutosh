{
 "cells": [
  {
   "cell_type": "markdown",
   "metadata": {},
   "source": [
    "# Compare Shihan Currents netcdf to Nowcast Green"
   ]
  },
  {
   "cell_type": "code",
   "execution_count": 1,
   "metadata": {},
   "outputs": [],
   "source": [
    "import tables\n",
    "import numpy as np\n",
    "import xarray as xr\n",
    "from salishsea_tools import utilities"
   ]
  },
  {
   "cell_type": "code",
   "execution_count": null,
   "metadata": {},
   "outputs": [
    {
     "name": "stdout",
     "output_type": "stream",
     "text": [
      "/ (RootGroup) ''\n",
      "/Results (Group) ''\n",
      "/Time (Group) ''\n",
      "/Results/velocity U (Group) ''\n",
      "/Results/velocity V (Group) ''\n",
      "/Results/water level (Group) ''\n"
     ]
    }
   ],
   "source": [
    "h5file = tables.open_file('/ocean/abhudia/MEOPAR/analysis-ashutosh/temp/St_georgia.hdf5')\n",
    "for group in h5file.walk_groups():\n",
    "    print(group)"
   ]
  },
  {
   "cell_type": "code",
   "execution_count": null,
   "metadata": {},
   "outputs": [
    {
     "name": "stderr",
     "output_type": "stream",
     "text": [
      "Building GEM mask  77% (130 of 168) |#############################         |ETA:   0:58:31"
     ]
    }
   ],
   "source": [
    "u_array = np.empty((1,40,396, 896))\n",
    "u_velocities = getattr(h5file.root.Results, 'velocity U')\n",
    "bar = utilities.statusbar('Building GEM mask', width=90, maxval=168)\n",
    "\n",
    "for index in bar(range(1,169)):\n",
    "    velocity_attr = 'velocity U_' + ((5 - len(str(index))) * '0') + str(index)\n",
    "    carray = getattr(u_velocities, velocity_attr)\n",
    "    array = np.asarray(carray).astype('float32')\n",
    "    carray = 0\n",
    "    expanded = np.expand_dims(array,0)\n",
    "    array = 0\n",
    "    u_array = np.vstack((u_array, expanded))"
   ]
  },
  {
   "cell_type": "code",
   "execution_count": null,
   "metadata": {},
   "outputs": [],
   "source": [
    "import pickle\n",
    "\n",
    "picklefile = open('U_shihan.pickle', 'wb')\n",
    "pickle.dump(u_array, picklefile)\n",
    "picklefile.close()\n",
    "\n",
    "u_array = False"
   ]
  },
  {
   "cell_type": "code",
   "execution_count": null,
   "metadata": {},
   "outputs": [],
   "source": [
    "v_array = np.empty((1,40,396, 896))\n",
    "v_velocities = getattr(h5file.root.Results, 'velocity V')\n",
    "bar = utilities.statusbar('Building GEM mask', width=90, maxval=168)\n",
    "\n",
    "for index in bar(range(1,169)):\n",
    "    velocity_attr = 'velocity V_' + ((5 - len(str(index))) * '0') + str(index)\n",
    "    carray = getattr(V_velocities, velocity_attr)\n",
    "    array = np.asarray(carray).astype('float32')\n",
    "    carray = 0\n",
    "    expanded = np.expand_dims(array,0)\n",
    "    array = 0shihan\n",
    "    u_array = np.vstack((v_array, expanded))"
   ]
  },
  {
   "cell_type": "code",
   "execution_count": null,
   "metadata": {},
   "outputs": [],
   "source": [
    "picklefile = open('V_shihan.pickle', 'wb')\n",
    "pickle.dump(v_array, picklefile)\n",
    "picklefile.close()\n",
    "v_array = False"
   ]
  },
  {
   "cell_type": "code",
   "execution_count": null,
   "metadata": {},
   "outputs": [],
   "source": [
    "ssh = np.empty((1,40,396, 896))\n",
    "sshes = getattr(h5file.root.Results, 'water level')\n",
    "bar = utilities.statusbar('Building GEM mask', width=90, maxval=168)\n",
    "\n",
    "for index in bar(range(1,169)):\n",
    "    level_attr = 'water level_' + ((5 - len(str(index))) * '0') + str(index)\n",
    "    ssh = np.vstack((ssh, np.expand_dims(np.asarray(getattr(sshes, level_attr)),0)))"
   ]
  },
  {
   "cell_type": "code",
   "execution_count": null,
   "metadata": {},
   "outputs": [],
   "source": [
    "picklefile = open('ssh_shihan.pickle', 'wb')\n",
    "pickle.dump(ssh, picklefile)\n",
    "picklefile.close()"
   ]
  },
  {
   "cell_type": "code",
   "execution_count": null,
   "metadata": {},
   "outputs": [],
   "source": [
    "import os\n",
    "os.system('shutdown -s')"
   ]
  },
  {
   "cell_type": "code",
   "execution_count": null,
   "metadata": {},
   "outputs": [],
   "source": []
  }
 ],
 "metadata": {
  "kernelspec": {
   "display_name": "Python 3",
   "language": "python",
   "name": "python3"
  },
  "language_info": {
   "codemirror_mode": {
    "name": "ipython",
    "version": 3
   },
   "file_extension": ".py",
   "mimetype": "text/x-python",
   "name": "python",
   "nbconvert_exporter": "python",
   "pygments_lexer": "ipython3",
   "version": "3.6.8"
  }
 },
 "nbformat": 4,
 "nbformat_minor": 2
}
