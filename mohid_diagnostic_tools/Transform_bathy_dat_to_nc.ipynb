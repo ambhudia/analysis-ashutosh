{
 "cells": [
  {
   "cell_type": "markdown",
   "metadata": {},
   "source": [
    "# Transform Bathymetry.dat to netcdf"
   ]
  },
  {
   "cell_type": "code",
   "execution_count": 1,
   "metadata": {},
   "outputs": [],
   "source": [
    "import numpy as np\n",
    "import xarray as xr"
   ]
  },
  {
   "cell_type": "code",
   "execution_count": 2,
   "metadata": {},
   "outputs": [],
   "source": [
    "def transform_bathymetry(infile, outfile):\n",
    "    \"\"\"Transform MOHID Bathymetry.dat to netcdf file\n",
    "    :arg infile: path of bathymetry dt file\n",
    "    :arg outfile: desired path with name of output netcdf file and .nc extension\n",
    "    \"\"\"\n",
    "    f = open(infile, 'r')\n",
    "    grid = np.zeros([896*396])\n",
    "    begin = False\n",
    "    counter = 0\n",
    "    for i, line in enumerate(f):\n",
    "        if 'GridData2D' in line:\n",
    "            begin = True\n",
    "            continue\n",
    "        if ('GridData2D' in line) and begin:\n",
    "            break\n",
    "        elif begin:\n",
    "            a = float(line.split()[0])\n",
    "            grid[counter] = a\n",
    "            counter += 1\n",
    "    grid = grid.reshape([896, 396])  \n",
    "    grid = xr.DataArray(grid, coords  = [np.arange(896), np.arange(396)], dims= ['grid_y', 'grid_x'])\n",
    "    grid = xr.Dataset({'Bathymetry': grid})\n",
    "    grid.to_netcdf(outfile, format = 'NETCDF4',engine = 'netcdf4')"
   ]
  },
  {
   "cell_type": "markdown",
   "metadata": {},
   "source": [
    "### Example Usage"
   ]
  },
  {
   "cell_type": "code",
   "execution_count": 3,
   "metadata": {},
   "outputs": [],
   "source": [
    "infile = '/ocean/abhudia/MEOPAR/midoss-mohid-grid/AfterNEMOBathy201702_rdm_v01.dat'\n",
    "outfile = '/ocean/abhudia/MEOPAR/midoss-mohid-grid/AfterNEMOBathy201702_rdm_v01.nc'\n",
    "transform_bathymetry(infile, outfile)"
   ]
  },
  {
   "cell_type": "code",
   "execution_count": 4,
   "metadata": {},
   "outputs": [
    {
     "data": {
      "text/plain": [
       "<xarray.Dataset>\n",
       "Dimensions:     (grid_x: 396, grid_y: 896)\n",
       "Coordinates:\n",
       "  * grid_y      (grid_y) int64 0 1 2 3 4 5 6 7 ... 889 890 891 892 893 894 895\n",
       "  * grid_x      (grid_x) int64 0 1 2 3 4 5 6 7 ... 389 390 391 392 393 394 395\n",
       "Data variables:\n",
       "    Bathymetry  (grid_y, grid_x) float64 ..."
      ]
     },
     "execution_count": 4,
     "metadata": {},
     "output_type": "execute_result"
    }
   ],
   "source": [
    "xr.open_dataset(outfile)"
   ]
  }
 ],
 "metadata": {
  "kernelspec": {
   "display_name": "Python 3",
   "language": "python",
   "name": "python3"
  },
  "language_info": {
   "codemirror_mode": {
    "name": "ipython",
    "version": 3
   },
   "file_extension": ".py",
   "mimetype": "text/x-python",
   "name": "python",
   "nbconvert_exporter": "python",
   "pygments_lexer": "ipython3",
   "version": "3.6.8"
  }
 },
 "nbformat": 4,
 "nbformat_minor": 2
}
