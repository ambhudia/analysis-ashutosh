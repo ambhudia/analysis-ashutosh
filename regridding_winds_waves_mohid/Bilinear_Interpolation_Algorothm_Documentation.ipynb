{
 "cells": [
  {
   "cell_type": "markdown",
   "metadata": {},
   "source": [
    "# Bilinear Regridding Algorithm Documentation"
   ]
  },
  {
   "cell_type": "markdown",
   "metadata": {},
   "source": [
    "## How it works"
   ]
  },
  {
   "cell_type": "markdown",
   "metadata": {},
   "source": [
    "#### The core functionality of the algorithm that iterates the system and finds the interpolation weights has been adapted from __[SCRIP](https://github.com/SCRIP-Project/SCRIP)__. My main contribution built on top of this core functionality is to the search algorithm."
   ]
  },
  {
   "cell_type": "markdown",
   "metadata": {},
   "source": [
    "### Flowchart"
   ]
  },
  {
   "cell_type": "markdown",
   "metadata": {},
   "source": [
    "```txt\n",
    "(1) Start\n",
    "(2) Initialise the following arrays with NaNs:\n",
    "    tgt_weights, shape (898, 398, 4)\n",
    "        to store the four interpolation weights\n",
    "    tgt_y_indices, shape (898, 398, 4)\n",
    "        to store the x indices of the source grid boxes to whicih to ascribe the corresponding weight\n",
    "    tgt_y_indices, shape (898, 398, 4)\n",
    "        to store the y indices of the source grid boxes to whicih to ascribe the corresponding weight\n",
    "(3) Looping through the target grid by index using nested for loops, isolate a target coordinate\n",
    "(4) Does the target grid have  a bvalue of 0 at the grid indices of the garget coordinate?\n",
    "(5) Is the longitude value of the target coordinate lower than the minimum longitude value on the source grid or higher than the maximum lognitude value on the source grid?\n",
    "(6) Is the latitude value of the target coordinate lower than the minimum latitude value on the source grid or higher than the maximum latitude value on the source grid?\n",
    "(7) Search for a bounding box by looping through the indices of the source grid.\n",
    "    I used the same indexing convention as SCRIP for referring to the corners of the bounding boxes i.e.\n",
    "    \n",
    "   Vertex 4         Vertex 3\n",
    "    +---------------+\n",
    "    |               |\n",
    "    |               |\n",
    "    |               |\n",
    "    |               |\n",
    "    |               |\n",
    "    +---------------+\n",
    "   Vertex 1         Vertex 2\n",
    "   Since vertex 1 is defined as such, the bounding boxes are only looped through valid indices. I also use a variety of different shapes of bounding boxes so that \n",
    "   the search algorithm should work reasonably well for a non curvilienar grid that is not weirdly skewed/rotated. I realised I had to implement this while \n",
    "   eating the worst fried chicken I have ever had.\n",
    "   \n",
    "   i.e. , where i,j are zero-based indices\n",
    "    Case 1: \n",
    "    ^^^^^^\n",
    "       if i < imax, j < jmax\n",
    "   \n",
    "           4 (i, j+1)       3 (i+1, j+1)\n",
    "            +---------------+\n",
    "            |               |\n",
    "            |               |\n",
    "            |               |\n",
    "            |               |\n",
    "            |               |\n",
    "            +---------------+\n",
    "           1 (i,j)         2 (i+1, j)\n",
    "   \n",
    "    Case 2:\n",
    "    ^^^^^^\n",
    "       if i < imax-1, j < jmax\n",
    "\n",
    "           4 (i+1, j+1)       3 (i+2, j+1)\n",
    "             +---------------+\n",
    "            /               /\n",
    "           /               /\n",
    "          /               /\n",
    "         /               /   \n",
    "        /               /    \n",
    "       +---------------+\n",
    "       1 (i,j)         2 (i+1, j)\n",
    "     \n",
    "    \n",
    "    Case 3:\n",
    "    ^^^^^^\n",
    "        if 0<i<imax, j<jmax\n",
    "        \n",
    "           4 (i-1, j+1)      3 (i, j+1)\n",
    "            +---------------+\n",
    "            `\\               \\ \n",
    "              \\               \\\n",
    "               \\               \\\n",
    "                \\               \\\n",
    "                 \\               \\\n",
    "                  +---------------+\n",
    "                  1 (i,j)        2 (i+1, j)\n",
    "```\n"
   ]
  },
  {
   "cell_type": "code",
   "execution_count": null,
   "metadata": {},
   "outputs": [],
   "source": []
  }
 ],
 "metadata": {
  "kernelspec": {
   "display_name": "Python 3",
   "language": "python",
   "name": "python3"
  },
  "language_info": {
   "codemirror_mode": {
    "name": "ipython",
    "version": 3
   },
   "file_extension": ".py",
   "mimetype": "text/x-python",
   "name": "python",
   "nbconvert_exporter": "python",
   "pygments_lexer": "ipython3",
   "version": "3.6.8"
  }
 },
 "nbformat": 4,
 "nbformat_minor": 2
}
