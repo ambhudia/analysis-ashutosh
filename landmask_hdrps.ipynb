{
 "cells": [
  {
   "cell_type": "code",
   "execution_count": null,
   "metadata": {},
   "outputs": [],
   "source": []
  },
  {
   "cell_type": "code",
   "execution_count": 24,
   "metadata": {},
   "outputs": [],
   "source": [
    "import numpy as np\n",
    "import matplotlib.pyplot as plt\n",
    "import xarray as xr\n",
    "import cmocean\n",
    "from salishsea_tools import viz_tools\n",
    "from salishsea_tools import geo_tools\n",
    "from salishsea_tools import grid_tools\n",
    "%matplotlib inline"
   ]
  },
  {
   "cell_type": "markdown",
   "metadata": {},
   "source": [
    "# Loading Salish SeaCast mask"
   ]
  },
  {
   "cell_type": "code",
   "execution_count": 3,
   "metadata": {},
   "outputs": [],
   "source": [
    "data=xr.open_dataset(\"https://salishsea.eos.ubc.ca/erddap/griddap/ubcSSn2DMeshMaskV17-02\")\n",
    "data1=xr.open_dataset(\"https://salishsea.eos.ubc.ca/erddap/griddap/ubcSSnBathymetryV17-02\")"
   ]
  },
  {
   "cell_type": "code",
   "execution_count": 4,
   "metadata": {},
   "outputs": [],
   "source": [
    "mask = data.tmaskutil"
   ]
  },
  {
   "cell_type": "code",
   "execution_count": 5,
   "metadata": {},
   "outputs": [
    {
     "data": {
      "text/plain": [
       "<xarray.DataArray 'tmaskutil' (time: 1, gridY: 898, gridX: 398)>\n",
       "[357404 values with dtype=int8]\n",
       "Coordinates:\n",
       "  * time     (time) datetime64[ns] 2014-09-12T00:30:00\n",
       "  * gridY    (gridY) int16 0 1 2 3 4 5 6 7 8 ... 890 891 892 893 894 895 896 897\n",
       "  * gridX    (gridX) int16 0 1 2 3 4 5 6 7 8 ... 390 391 392 393 394 395 396 397\n",
       "Attributes:\n",
       "    _ChunkSizes:            [  1 898 398]\n",
       "    content_coverage_type:  modelResult\n",
       "    flag_meanings:          land, water\n",
       "    flag_values:            0, 1\n",
       "    ioos_category:          grid_parameter\n",
       "    long_name:              dry land mask for T-grid and W-grid\n",
       "    standard_name:          tmaskutil"
      ]
     },
     "execution_count": 5,
     "metadata": {},
     "output_type": "execute_result"
    }
   ],
   "source": [
    "mask"
   ]
  },
  {
   "cell_type": "code",
   "execution_count": 6,
   "metadata": {},
   "outputs": [
    {
     "data": {
      "text/plain": [
       "<matplotlib.collections.QuadMesh at 0x7f2890043588>"
      ]
     },
     "execution_count": 6,
     "metadata": {},
     "output_type": "execute_result"
    },
    {
     "data": {
      "image/png": "[encoded data removed]",
      "text/plain": [
       "<Figure size 432x288 with 2 Axes>"
      ]
     },
     "metadata": {
      "needs_background": "light"
     },
     "output_type": "display_data"
    }
   ],
   "source": [
    "mask.plot()"
   ]
  },
  {
   "cell_type": "code",
   "execution_count": 7,
   "metadata": {},
   "outputs": [
    {
     "data": {
      "text/plain": [
       "<xarray.Dataset>\n",
       "Dimensions:    (gridX: 398, gridY: 898, time: 1)\n",
       "Coordinates:\n",
       "  * time       (time) datetime64[ns] 2014-09-12T00:30:00\n",
       "  * gridY      (gridY) int16 0 1 2 3 4 5 6 7 ... 890 891 892 893 894 895 896 897\n",
       "  * gridX      (gridX) int16 0 1 2 3 4 5 6 7 ... 390 391 392 393 394 395 396 397\n",
       "Data variables:\n",
       "    tmaskutil  (time, gridY, gridX) int8 ...\n",
       "    umaskutil  (time, gridY, gridX) int8 ...\n",
       "    vmaskutil  (time, gridY, gridX) int8 ...\n",
       "    fmaskutil  (time, gridY, gridX) int8 ...\n",
       "    glamt      (time, gridY, gridX) float32 ...\n",
       "    glamu      (time, gridY, gridX) float32 ...\n",
       "    glamv      (time, gridY, gridX) float32 ...\n",
       "    glamf      (time, gridY, gridX) float32 ...\n",
       "    gphit      (time, gridY, gridX) float32 ...\n",
       "    gphiu      (time, gridY, gridX) float32 ...\n",
       "    gphiv      (time, gridY, gridX) float32 ...\n",
       "    gphif      (time, gridY, gridX) float32 ...\n",
       "    e1t        (time, gridY, gridX) float64 ...\n",
       "    e1u        (time, gridY, gridX) float64 ...\n",
       "    e1v        (time, gridY, gridX) float64 ...\n",
       "    e1f        (time, gridY, gridX) float64 ...\n",
       "    e2t        (time, gridY, gridX) float64 ...\n",
       "    e2u        (time, gridY, gridX) float64 ...\n",
       "    e2v        (time, gridY, gridX) float64 ...\n",
       "    e2f        (time, gridY, gridX) float64 ...\n",
       "    ff         (time, gridY, gridX) float64 ...\n",
       "    mbathy     (time, gridY, gridX) int16 ...\n",
       "Attributes:\n",
       "    acknowledgement:           MEOPAR, ONC, Compute Canada\n",
       "    cdm_data_type:             Grid\n",
       "    Conventions:               CF-1.6, COARDS, ACDD-1.3\n",
       "    creator_email:             sallen@eoas.ubc.ca\n",
       "    creator_name:              Salish Sea MEOPAR Project Contributors\n",
       "    creator_url:               https://salishsea.eos.ubc.ca/erddap/info/\\nhtt...\n",
       "    drawLandMask:              over\n",
       "    file_name:                 NEMO-forcing/grid/mesh_mask201702.nc\n",
       "    history:                   2019-01-07T18:20:05Z (local files)\\n2019-01-07...\n",
       "    infoUrl:                   https://salishsea-meopar-docs.readthedocs.io/e...\n",
       "    institution:               UBC EOAS\n",
       "    institution_fullname:      Earth, Ocean & Atmospheric Sciences, Universit...\n",
       "    keywords:                  bathymetry, coordinates, depth, e1f, e1t, e1u,...\n",
       "    license:                   The Salish Sea MEOPAR NEMO model results are c...\n",
       "    project:                   Salish Sea MEOPAR NEMO Model\n",
       "    references:                https://salishsea.eos.ubc.ca/erddap/info/\\nhtt...\n",
       "    source:                    NEMO-3.6 Salish Sea configuration\n",
       "    sourceUrl:                 (local files)\n",
       "    standard_name_vocabulary:  CF Standard Name Table v29\n",
       "    summary:                   Salish Sea NEMO Model Grid, 2D Mesh Mask, v17-...\n",
       "    time_coverage_end:         2014-09-12T00:30:00Z\n",
       "    time_coverage_start:       2014-09-12T00:30:00Z\n",
       "    TimeStamp:                 30/09/2017 16:10:02 -0700\n",
       "    title:                     Salish Sea NEMO Model Grid, 2D Mesh Mask, v17-02"
      ]
     },
     "execution_count": 7,
     "metadata": {},
     "output_type": "execute_result"
    }
   ],
   "source": [
    "data"
   ]
  },
  {
   "cell_type": "code",
   "execution_count": 8,
   "metadata": {},
   "outputs": [
    {
     "data": {
      "text/plain": [
       "<xarray.Dataset>\n",
       "Dimensions:     (gridX: 398, gridY: 898)\n",
       "Coordinates:\n",
       "  * gridY       (gridY) int32 0 1 2 3 4 5 6 7 ... 891 892 893 894 895 896 897\n",
       "  * gridX       (gridX) int16 0 1 2 3 4 5 6 7 ... 391 392 393 394 395 396 397\n",
       "Data variables:\n",
       "    bathymetry  (gridY, gridX) float64 ...\n",
       "    latitude    (gridY, gridX) float64 ...\n",
       "    longitude   (gridY, gridX) float64 ...\n",
       "Attributes:\n",
       "    acknowledgement:           MEOPAR, ONC, Compute Canada, CHS, NOAA, USGS\\n...\n",
       "    cdm_data_type:             Grid\n",
       "    Conventions:               CF-1.6, COARDS, ACDD-1.3\n",
       "    creator_email:             sallen@eoas.ubc.ca\n",
       "    creator_name:              Salish Sea MEOPAR Project Contributors\n",
       "    creator_url:               https://salishsea-meopar-docs.readthedocs.io/\n",
       "    drawLandMask:              over\n",
       "    history:                   [2017-09-30 12:34:48] Created netCDF4 zlib=Tru...\n",
       "    infoUrl:                   https://salishsea-meopar-docs.readthedocs.io/e...\n",
       "    institution:               UBC EOAS\n",
       "    institution_fullname:      Earth, Ocean & Atmospheric Sciences, Universit...\n",
       "    keywords:                  bathymetry, depth, Earth Science > Oceans > Ba...\n",
       "    keywords_vocabulary:       GCMD Science Keywords\n",
       "    license:                   The Salish Sea MEOPAR NEMO model results are c...\n",
       "    project:                   Salish Sea MEOPAR NEMO Model\n",
       "    references:                https://bitbucket.org/salishsea/nemo-forcing/r...\n",
       "    source:                    https://bitbucket.org/salishsea/tools/src/tip/...\n",
       "    sourceUrl:                 (local files)\n",
       "    standard_name_vocabulary:  CF Standard Name Table v29\n",
       "    summary:                   Salish Sea NEMO Model Grid, Geo-location and B...\n",
       "    title:                     Salish Sea NEMO Model Grid, Geo-location and B..."
      ]
     },
     "execution_count": 8,
     "metadata": {},
     "output_type": "execute_result"
    }
   ],
   "source": [
    "data1"
   ]
  },
  {
   "cell_type": "code",
   "execution_count": 9,
   "metadata": {},
   "outputs": [
    {
     "data": {
      "text/plain": [
       "<xarray.DataArray 'latitude' (gridY: 898, gridX: 398)>\n",
       "[357404 values with dtype=float64]\n",
       "Coordinates:\n",
       "  * gridY    (gridY) int32 0 1 2 3 4 5 6 7 8 ... 890 891 892 893 894 895 896 897\n",
       "  * gridX    (gridX) int16 0 1 2 3 4 5 6 7 8 ... 390 391 392 393 394 395 396 397\n",
       "Attributes:\n",
       "    _ChunkSizes:    [898 398]\n",
       "    long_name:      Latitude\n",
       "    standard_name:  latitude\n",
       "    units:          degrees_north"
      ]
     },
     "execution_count": 9,
     "metadata": {},
     "output_type": "execute_result"
    }
   ],
   "source": [
    "data1.latitude"
   ]
  },
  {
   "cell_type": "code",
   "execution_count": 23,
   "metadata": {},
   "outputs": [
    {
     "name": "stderr",
     "output_type": "stream",
     "text": [
      "/home/abhudia/anaconda3/lib/python3.7/site-packages/matplotlib/axes/_base.py:1334: MatplotlibDeprecationWarning: \n",
      "box-forced\n",
      "  \"2.2\", \"box-forced\", obj_type=\"keyword argument\")\n"
     ]
    },
    {
     "data": {
      "text/plain": [
       "1.1363636363636362"
      ]
     },
     "execution_count": 23,
     "metadata": {},
     "output_type": "execute_result"
    },
    {
     "data": {
      "image/png": "[encoded data removed]",
      "text/plain": [
       "<Figure size 432x288 with 1 Axes>"
      ]
     },
     "metadata": {
      "needs_background": "light"
     },
     "output_type": "display_data"
    }
   ],
   "source": [
    "fig, ax = plt.subplots(1,1)\n",
    "ax.pcolormesh(data1.longitude, data1.latitude, data.tmaskutil.isel(time=0))\n",
    "viz_tools.set_aspect(ax)"
   ]
  },
  {
   "cell_type": "code",
   "execution_count": null,
   "metadata": {},
   "outputs": [],
   "source": []
  }
 ],
 "metadata": {
  "kernelspec": {
   "display_name": "Python 3",
   "language": "python",
   "name": "python3"
  },
  "language_info": {
   "codemirror_mode": {
    "name": "ipython",
    "version": 3
   },
   "file_extension": ".py",
   "mimetype": "text/x-python",
   "name": "python",
   "nbconvert_exporter": "python",
   "pygments_lexer": "ipython3",
   "version": "3.7.1"
  }
 },
 "nbformat": 4,
 "nbformat_minor": 2
}
