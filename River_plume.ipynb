{
 "cells": [
  {
   "cell_type": "code",
   "execution_count": 1,
   "metadata": {},
   "outputs": [],
   "source": [
    "import numpy as np\n",
    "import numpy.ma as ma\n",
    "import matplotlib.pyplot as plt\n",
    "import xarray as xr\n",
    "import cmocean\n",
    "import os\n",
    "import errno\n",
    "import pickle\n",
    "from salishsea_tools import viz_tools\n",
    "from salishsea_tools import geo_tools\n",
    "from salishsea_tools import grid_tools\n",
    "from salishsea_tools import utilities\n",
    "import time\n",
    "%matplotlib inline\n",
    "speed_cmap = cmocean.cm.speed"
   ]
  },
  {
   "cell_type": "code",
   "execution_count": 2,
   "metadata": {},
   "outputs": [],
   "source": [
    "salinity = xr.open_dataset(\"https://salishsea.eos.ubc.ca/erddap/griddap/ubcSSg3DTracerFields1hV18-06\")\n"
   ]
  },
  {
   "cell_type": "code",
   "execution_count": 3,
   "metadata": {},
   "outputs": [],
   "source": [
    "#salmon = data.isel(gridX = 258, gridY = 56)\n",
    "#turn = data.isel(gridX = 237, gridY = 138)\n",
    "#georgia = data.isel(gridX = 242, gridY = 274)\n",
    "#turn = \n",
    "#georgia = \n",
    "#ax.plot([258],[56],\"1\", label=\"Salmon Bank\")\n",
    "#ax.plot([237], [138], \"2\", label = 'Turn Point')\n",
    "#ax.plot([242], [274], \"3\", label = 'Strait of Georgia')"
   ]
  },
  {
   "cell_type": "code",
   "execution_count": null,
   "metadata": {},
   "outputs": [],
   "source": [
    "for year in [2016,2017,2018]:\n",
    "    timer = time.time()\n",
    "    data = salinity.salinity.loc[salinity['time.year'].isin([year])].isel(depth = 0).sel(gridX = slice(10, 364), gridY = slice(200, 739)).values\n",
    "    filename = '{}salinity.pickle'.format(str(year))\n",
    "    salmon_pickle = open(filename, \"wb\")\n",
    "    pickle.dump(data, salmon_pickle, protocol = 4)\n",
    "    salmon_pickle.close()  \n",
    "    data = 0\n",
    "    print(time.time() - timer)"
   ]
  },
  {
   "cell_type": "code",
   "execution_count": 5,
   "metadata": {},
   "outputs": [],
   "source": [
    "data = data.salinity.loc[data['time.year'].isin([2015])].isel(depth = 0)"
   ]
  },
  {
   "cell_type": "code",
   "execution_count": 7,
   "metadata": {},
   "outputs": [],
   "source": [
    "data = 0"
   ]
  },
  {
   "cell_type": "code",
   "execution_count": 4,
   "metadata": {},
   "outputs": [],
   "source": [
    "salmon_pickle = open('salmon.pickle', \"wb\")\n",
    "pickle.dump(salmon, salmon_pickle)\n",
    "salmon.close()"
   ]
  }
 ],
 "metadata": {
  "kernelspec": {
   "display_name": "Python 3",
   "language": "python",
   "name": "python3"
  },
  "language_info": {
   "codemirror_mode": {
    "name": "ipython",
    "version": 3
   },
   "file_extension": ".py",
   "mimetype": "text/x-python",
   "name": "python",
   "nbconvert_exporter": "python",
   "pygments_lexer": "ipython3",
   "version": "3.7.1"
  }
 },
 "nbformat": 4,
 "nbformat_minor": 2
}
