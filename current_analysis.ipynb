{
 "cells": [
  {
   "cell_type": "markdown",
   "metadata": {},
   "source": [
    "# Current Analysis"
   ]
  },
  {
   "cell_type": "code",
   "execution_count": 1,
   "metadata": {},
   "outputs": [],
   "source": [
    "import numpy as np\n",
    "import numpy.ma as ma\n",
    "import matplotlib.pyplot as plt\n",
    "import xarray as xr\n",
    "import cmocean\n",
    "import os\n",
    "import errno\n",
    "import pickle\n",
    "from salishsea_tools import viz_tools\n",
    "from salishsea_tools import geo_tools\n",
    "from salishsea_tools import grid_tools\n",
    "from salishsea_tools import utilities\n",
    "%matplotlib inline\n",
    "speed_cmap = cmocean.cm.speed"
   ]
  },
  {
   "cell_type": "code",
   "execution_count": null,
   "metadata": {},
   "outputs": [],
   "source": [
    "u_rawhr = xr.open_dataset(\"https://salishsea.eos.ubc.ca/erddap/griddap/ubcSSg3DuGridFields1hV18-06\").isel(depth = 0)\n",
    "#u_datahr = u_rawhr.sel(time=u_rawhr.time.dt.year.isin([2015]))\n",
    "u_datahr = u_rawhr.sel(time=u_rawhr.time.dt.year.isin([2015]))\n",
    "u_datahr = u_datahr.sel(time=u_datahr.time.dt.month.isin([1]))"
   ]
  },
  {
   "cell_type": "code",
   "execution_count": null,
   "metadata": {},
   "outputs": [],
   "source": [
    "v_rawhr = xr.open_dataset(\"https://salishsea.eos.ubc.ca/erddap/griddap/ubcSSg3DvGridFields1hV18-06\").isel(depth = 0)\n",
    "v_datahr = v_rawhr.sel(time=v_rawhr.time.dt.year.isin([2015]))\n",
    "v_datahr = v_datahr.sel(time=v_datahr.time.dt.month.isin([1]))"
   ]
  },
  {
   "cell_type": "code",
   "execution_count": null,
   "metadata": {},
   "outputs": [],
   "source": [
    "mag_hr = xr.ufuncs.sqrt(xr.ufuncs.square(u_datahr) + xr.ufuncs.square(v_datahr))"
   ]
  },
  {
   "cell_type": "code",
   "execution_count": null,
   "metadata": {},
   "outputs": [],
   "source": [
    "u_raw20 = xr.open_dataset(\"https://salishsea.eos.ubc.ca/erddap/griddap/ubcSSgNearSurfaceUVelocity20mV18-06\")\n",
    "u_data20 = u_raw20.sel(time=u_raw20.time.dt.year.isin([2015]))\n",
    "u_data20 = u_data20.sel(time=u_data20.time.dt.month.isin([1]))"
   ]
  },
  {
   "cell_type": "code",
   "execution_count": null,
   "metadata": {},
   "outputs": [],
   "source": [
    "v_raw20 = xr.open_dataset(\"https://salishsea.eos.ubc.ca/erddap/griddap/ubcSSgNearSurfaceUVelocity20mV18-06\")\n",
    "v_data20 = v_raw20.sel(time=v_raw20.time.dt.year.isin([2015]))\n",
    "v_data20 = v_data20.sel(time=v_data20.time.dt.month.isin([1]))"
   ]
  },
  {
   "cell_type": "code",
   "execution_count": null,
   "metadata": {},
   "outputs": [],
   "source": [
    "u_datahr = u_datahr.to_array()"
   ]
  },
  {
   "cell_type": "code",
   "execution_count": null,
   "metadata": {},
   "outputs": [],
   "source": [
    "u_data20 = u_data20.to_array()"
   ]
  },
  {
   "cell_type": "code",
   "execution_count": 19,
   "metadata": {},
   "outputs": [],
   "source": [
    "var1 = xr.open_dataset(\"https://salishsea.eos.ubc.ca/erddap/griddap/ubcSSg3DuGridFields1hV18-06\")"
   ]
  },
  {
   "cell_type": "code",
   "execution_count": 20,
   "metadata": {},
   "outputs": [],
   "source": [
    "var2 = var1.sel(time=var1.time.dt.year.isin([2015]))"
   ]
  },
  {
   "cell_type": "code",
   "execution_count": 29,
   "metadata": {},
   "outputs": [],
   "source": [
    "wind_u = var2.sel(depth=var2.depth.isin([0.5000003]))"
   ]
  },
  {
   "cell_type": "code",
   "execution_count": 51,
   "metadata": {},
   "outputs": [],
   "source": [
    "locs = wind_u.time.loc[wind_u['time.month'].isin([1])]"
   ]
  },
  {
   "cell_type": "code",
   "execution_count": 52,
   "metadata": {},
   "outputs": [
    {
     "data": {
      "text/plain": [
       "<xarray.DataArray 'time' (time: 744)>\n",
       "array(['2015-01-01T00:30:00.000000000', '2015-01-01T01:30:00.000000000',\n",
       "       '2015-01-01T02:30:00.000000000', ..., '2015-01-31T21:30:00.000000000',\n",
       "       '2015-01-31T22:30:00.000000000', '2015-01-31T23:30:00.000000000'],\n",
       "      dtype='datetime64[ns]')\n",
       "Coordinates:\n",
       "  * time     (time) datetime64[ns] 2015-01-01T00:30:00 ... 2015-01-31T23:30:00\n",
       "Attributes:\n",
       "    _ChunkSizes:            1\n",
       "    _CoordinateAxisType:    Time\n",
       "    actual_range:           [1.4158386e+09 1.5472494e+09]\n",
       "    axis:                   T\n",
       "    comment:                time values are UTC at the centre of the interval...\n",
       "    coverage_content_type:  modelResult\n",
       "    ioos_category:          Time\n",
       "    long_name:              Time axis\n",
       "    standard_name:          time\n",
       "    time_origin:            01-JAN-1970 00:00:00"
      ]
     },
     "execution_count": 52,
     "metadata": {},
     "output_type": "execute_result"
    }
   ],
   "source": [
    "locs"
   ]
  },
  {
   "cell_type": "code",
   "execution_count": 50,
   "metadata": {},
   "outputs": [
    {
     "data": {
      "text/plain": [
       "<xarray.Dataset>\n",
       "Dimensions:    (depth: 1, gridX: 398, gridY: 898, time: 8760)\n",
       "Coordinates:\n",
       "  * time       (time) datetime64[ns] 2015-01-01T00:30:00 ... 2015-12-31T23:30:00\n",
       "  * depth      (depth) float32 0.5000003\n",
       "  * gridY      (gridY) int16 0 1 2 3 4 5 6 7 ... 890 891 892 893 894 895 896 897\n",
       "  * gridX      (gridX) int16 0 1 2 3 4 5 6 7 ... 390 391 392 393 394 395 396 397\n",
       "Data variables:\n",
       "    uVelocity  (time, depth, gridY, gridX) float32 ...\n",
       "Attributes:\n",
       "    acknowledgement:           MEOPAR, ONC, Compute Canada\n",
       "    cdm_data_type:             Grid\n",
       "    Conventions:               CF-1.6, COARDS, ACDD-1.3\n",
       "    creator_email:             sallen@eoas.ubc.ca\n",
       "    creator_name:              Salish Sea MEOPAR Project Contributors\n",
       "    creator_url:               https://salishsea-meopar-docs.readthedocs.io/\n",
       "    description:               ocean U grid variables\n",
       "    drawLandMask:              over\n",
       "    history:                   2019-01-11T21:28:37Z (local files)\\n2019-01-11...\n",
       "    infoUrl:                   https://salishsea-meopar-docs.readthedocs.io/e...\n",
       "    institution:               UBC EOAS\n",
       "    institution_fullname:      Earth, Ocean & Atmospheric Sciences, Universit...\n",
       "    keywords:                  circulation, current, currents, depthu, Earth ...\n",
       "    keywords_vocabulary:       GCMD Science Keywords\n",
       "    license:                   The Salish Sea MEOPAR NEMO model results are c...\n",
       "    project:                   Salish Sea MEOPAR NEMO Model\n",
       "    sourceUrl:                 (local files)\n",
       "    standard_name_vocabulary:  CF Standard Name Table v29\n",
       "    summary:                   Green, Salish Sea, 3d u Grid Variable Fields, ...\n",
       "    testOutOfDate:             now-16hours\n",
       "    time_coverage_end:         2019-01-11T23:30:00Z\n",
       "    time_coverage_start:       2014-11-13T00:30:00Z\n",
       "    timeStamp:                 2019-Jan-11 17:31:17 GMT\n",
       "    title:                     Green, Salish Sea, 3d u Grid Variable Fields, ...\n",
       "    uuid:                      dbf30f08-bd6e-4924-a5a2-4b1e49c59152"
      ]
     },
     "execution_count": 50,
     "metadata": {},
     "output_type": "execute_result"
    }
   ],
   "source": [
    "wind_u"
   ]
  },
  {
   "cell_type": "code",
   "execution_count": null,
   "metadata": {},
   "outputs": [],
   "source": []
  }
 ],
 "metadata": {
  "kernelspec": {
   "display_name": "Python 3",
   "language": "python",
   "name": "python3"
  },
  "language_info": {
   "codemirror_mode": {
    "name": "ipython",
    "version": 3
   },
   "file_extension": ".py",
   "mimetype": "text/x-python",
   "name": "python",
   "nbconvert_exporter": "python",
   "pygments_lexer": "ipython3",
   "version": "3.7.1"
  }
 },
 "nbformat": 4,
 "nbformat_minor": 2
}
