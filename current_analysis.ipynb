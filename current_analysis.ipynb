{
 "cells": [
  {
   "cell_type": "markdown",
   "metadata": {},
   "source": [
    "# Current Analysis"
   ]
  },
  {
   "cell_type": "code",
   "execution_count": 1,
   "metadata": {},
   "outputs": [],
   "source": [
    "import numpy as np\n",
    "import numpy.ma as ma\n",
    "import matplotlib.pyplot as plt\n",
    "import xarray as xr\n",
    "import cmocean\n",
    "import os\n",
    "import errno\n",
    "import pickle\n",
    "from salishsea_tools import viz_tools\n",
    "from salishsea_tools import geo_tools\n",
    "from salishsea_tools import grid_tools\n",
    "from salishsea_tools import utilities\n",
    "%matplotlib inline\n",
    "speed_cmap = cmocean.cm.speed"
   ]
  },
  {
   "cell_type": "code",
   "execution_count": 2,
   "metadata": {},
   "outputs": [],
   "source": [
    "u_rawhr = xr.open_dataset(\"https://salishsea.eos.ubc.ca/erddap/griddap/ubcSSg3DuGridFields1hV18-06\").isel(depth = 0)\n",
    "u_datahr = u_rawhr.sel(time=u_rawhr.time.dt.year.isin([2015])).uVelocity\n",
    "#u_datahr = u_rawhr.sel(time=u_rawhr.time.dt.year.isin([2015]))\n",
    "#u_datahr = u_datahr.sel(time=u_datahr.time.dt.month.isin([1]))"
   ]
  },
  {
   "cell_type": "code",
   "execution_count": 3,
   "metadata": {},
   "outputs": [],
   "source": [
    "v_rawhr = xr.open_dataset(\"https://salishsea.eos.ubc.ca/erddap/griddap/ubcSSg3DvGridFields1hV18-06\").isel(depth = 0)\n",
    "v_datahr = v_rawhr.sel(time=v_rawhr.time.dt.year.isin([2015])).vVelocity\n",
    "#v_datahr = v_datahr.sel(time=v_datahr.time.dt.month.isin([1]))"
   ]
  },
  {
   "cell_type": "code",
   "execution_count": 4,
   "metadata": {},
   "outputs": [],
   "source": [
    "u_raw20 = xr.open_dataset(\"https://salishsea.eos.ubc.ca/erddap/griddap/ubcSSgNearSurfaceUVelocity20mV18-06\").isel(depth = 0)\n",
    "u_data20 = u_raw20.sel(time=u_raw20.time.dt.year.isin([2015])).uVelocity\n",
    "#u_data20 = u_data20.sel(time=u_data20.time.dt.month.isin([1]))"
   ]
  },
  {
   "cell_type": "code",
   "execution_count": 5,
   "metadata": {},
   "outputs": [],
   "source": [
    "v_raw20 = xr.open_dataset(\"https://salishsea.eos.ubc.ca/erddap/griddap/ubcSSgNearSurfaceVVelocity20mV18-06\").isel(depth = 0)\n",
    "v_data20 = v_raw20.sel(time=v_raw20.time.dt.year.isin([2015])).vVelocity\n",
    "#v_data20 = v_data20.sel(time=v_data20.time.dt.month.isin([1]))"
   ]
  },
  {
   "cell_type": "code",
   "execution_count": 6,
   "metadata": {},
   "outputs": [],
   "source": [
    "u_hr = u_datahr.sel(gridX = slice(10, 364), gridY = slice(200, 739))"
   ]
  },
  {
   "cell_type": "code",
   "execution_count": null,
   "metadata": {},
   "outputs": [],
   "source": [
    "u_hr_mean = u_hr.mean(dim = 'time')"
   ]
  },
  {
   "cell_type": "code",
   "execution_count": null,
   "metadata": {},
   "outputs": [],
   "source": [
    "u_hr_mean"
   ]
  },
  {
   "cell_type": "code",
   "execution_count": null,
   "metadata": {},
   "outputs": [],
   "source": []
  }
 ],
 "metadata": {
  "kernelspec": {
   "display_name": "Python 3",
   "language": "python",
   "name": "python3"
  },
  "language_info": {
   "codemirror_mode": {
    "name": "ipython",
    "version": 3
   },
   "file_extension": ".py",
   "mimetype": "text/x-python",
   "name": "python",
   "nbconvert_exporter": "python",
   "pygments_lexer": "ipython3",
   "version": "3.7.1"
  }
 },
 "nbformat": 4,
 "nbformat_minor": 2
}
