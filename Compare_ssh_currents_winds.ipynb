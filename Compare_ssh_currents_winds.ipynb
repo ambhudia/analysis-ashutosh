{
 "cells": [
  {
   "cell_type": "markdown",
   "metadata": {},
   "source": [
    "# Comparing tides with currents and winds"
   ]
  },
  {
   "cell_type": "code",
   "execution_count": 19,
   "metadata": {},
   "outputs": [],
   "source": [
    "import numpy as np\n",
    "import numpy.ma as ma\n",
    "import matplotlib.pyplot as plt\n",
    "import xarray as xr\n",
    "import pickle\n",
    "import time\n",
    "import datetime\n",
    "from scipy.signal import butter, lfilter\n",
    "%matplotlib qt"
   ]
  },
  {
   "cell_type": "markdown",
   "metadata": {},
   "source": [
    "## Create Variables"
   ]
  },
  {
   "cell_type": "code",
   "execution_count": 2,
   "metadata": {},
   "outputs": [],
   "source": [
    "ssh = xr.open_dataset(\"https://salishsea.eos.ubc.ca/erddap/griddap/ubcSSgSurfaceTracerFields1hV18-06\")"
   ]
  },
  {
   "cell_type": "code",
   "execution_count": 3,
   "metadata": {},
   "outputs": [],
   "source": [
    "times_ssh = ssh.time.sel(time = ssh.time.dt.year.isin([2015,2016,2017,2018])).values.astype('datetime64[D]').astype(datetime.datetime)"
   ]
  },
  {
   "cell_type": "code",
   "execution_count": 4,
   "metadata": {},
   "outputs": [],
   "source": [
    "data = xr.open_dataset(\"https://salishsea.eos.ubc.ca/erddap/griddap/ubcSSgNearSurfaceUVelocity20mV18-06\")"
   ]
  },
  {
   "cell_type": "code",
   "execution_count": 5,
   "metadata": {},
   "outputs": [],
   "source": [
    "times_current = data.time.sel(time = data.time.dt.year.isin([2015,2016,2017,2018])).values.astype('datetime64[s]').astype(datetime.datetime)"
   ]
  },
  {
   "cell_type": "code",
   "execution_count": 6,
   "metadata": {},
   "outputs": [],
   "source": [
    "winddata = xr.open_dataset(\"https://salishsea.eos.ubc.ca/erddap/griddap/ubcSSaSurfaceAtmosphereFieldsV1\")\n",
    "wind_times = winddata.time.values.astype('datetime64[s]').astype(datetime.datetime)"
   ]
  },
  {
   "cell_type": "markdown",
   "metadata": {},
   "source": [
    "#### Current Variables"
   ]
  },
  {
   "cell_type": "code",
   "execution_count": 7,
   "metadata": {},
   "outputs": [],
   "source": [
    "for year in [2015, 2016, 2017, 2018]:\n",
    "    fname = \"/home/abhudia/Desktop/current speed/3points20m/current_sog{}.pickle\".format(str(year))\n",
    "    file = open(fname, \"rb\")\n",
    "    locals()[\"current_sog\" + str(year)] = pickle.load(file)\n",
    "    locals()[\"t_sog\" + str(year)] = []\n",
    "    for time in times_current: \n",
    "        if time.year == year:\n",
    "            locals()[\"t_sog\" + str(year)].append(time)"
   ]
  },
  {
   "cell_type": "code",
   "execution_count": 8,
   "metadata": {},
   "outputs": [],
   "source": [
    "for year in [2015, 2016, 2017, 2018]:\n",
    "    fname = \"/home/abhudia/Desktop/current speed/3points20m/current_salmon{}.pickle\".format(str(year))\n",
    "    file = open(fname, \"rb\")\n",
    "    locals()[\"current_salmon\" + str(year)] = pickle.load(file)\n",
    "    locals()[\"t_salmon\" + str(year)] = []\n",
    "    for time in times_current: \n",
    "        if time.year == year:\n",
    "            locals()[\"t_salmon\" + str(year)].append(time)"
   ]
  },
  {
   "cell_type": "code",
   "execution_count": 9,
   "metadata": {},
   "outputs": [],
   "source": [
    "for year in [2015, 2016, 2017, 2018]:\n",
    "    fname = \"/home/abhudia/Desktop/current speed/3points20m/current_turn{}.pickle\".format(str(year))\n",
    "    file = open(fname, \"rb\")\n",
    "    locals()[\"current_turn\" + str(year)] = pickle.load(file)\n",
    "    locals()[\"t_turn\" + str(year)] = []\n",
    "    for time in times_current: \n",
    "        if time.year == year:\n",
    "            locals()[\"t_turn\" + str(year)].append(time)"
   ]
  },
  {
   "cell_type": "markdown",
   "metadata": {},
   "source": [
    "#### SSH Variables"
   ]
  },
  {
   "cell_type": "code",
   "execution_count": 10,
   "metadata": {},
   "outputs": [],
   "source": [
    "for year in [2015, 2016, 2017, 2018]:\n",
    "    fname = \"/home/abhudia/Desktop/SSH/3points/ssh_sog{}.pickle\".format(str(year))\n",
    "    file = open(fname, \"rb\")\n",
    "    locals()[\"ssh_sog\" + str(year)] = pickle.load(file)\n",
    "    locals()[\"tssh_sog\" + str(year)] = []\n",
    "    for time in times_ssh: \n",
    "        if time.year == year:\n",
    "            locals()[\"tssh_sog\" + str(year)].append(time)"
   ]
  },
  {
   "cell_type": "code",
   "execution_count": 11,
   "metadata": {},
   "outputs": [],
   "source": [
    "for year in [2015, 2016, 2017, 2018]:\n",
    "    fname = \"/home/abhudia/Desktop/SSH/3points/ssh_salmon{}.pickle\".format(str(year))\n",
    "    file = open(fname, \"rb\")\n",
    "    locals()[\"ssh_salmon\" + str(year)] = pickle.load(file)\n",
    "    locals()[\"tssh_salmon\" + str(year)] = []\n",
    "    for time in times_ssh: \n",
    "        if time.year == year:\n",
    "            locals()[\"tssh_salmon\" + str(year)].append(time)"
   ]
  },
  {
   "cell_type": "code",
   "execution_count": 12,
   "metadata": {},
   "outputs": [],
   "source": [
    "for year in [2015, 2016, 2017, 2018]:\n",
    "    fname = \"/home/abhudia/Desktop/SSH/3points/ssh_turn{}.pickle\".format(str(year))\n",
    "    file = open(fname, \"rb\")\n",
    "    locals()[\"ssh_turn\" + str(year)] = pickle.load(file)\n",
    "    locals()[\"tssh_turn\" + str(year)] = []\n",
    "    for time in times_ssh: \n",
    "        if time.year == year:\n",
    "            locals()[\"tssh_turn\" + str(year)].append(time)"
   ]
  },
  {
   "cell_type": "markdown",
   "metadata": {},
   "source": [
    "#### Wind Variables"
   ]
  },
  {
   "cell_type": "code",
   "execution_count": 13,
   "metadata": {},
   "outputs": [],
   "source": [
    "years = [2015,2016,2017,2018]\n",
    "abbrs = ['jan', 'feb', 'mar', 'apr', 'may', 'jun', 'july', 'aug', 'sept', 'oct' ,'nov' ,'dec']\n",
    "locs = ['salmon' ,'turn', 'sog']\n",
    "for year in [2015, 2016, 2017, 2018]:\n",
    "    for loc in locs:\n",
    "        fname = \"/home/abhudia/Desktop/Wind speed/3points/winds_{}{}.pickle\".format(loc, str(year))\n",
    "        file = open(fname, \"rb\") \n",
    "        locals()[\"winds_{}\".format(loc) + str(year)] = pickle.load(file)\n",
    "        locals()[\"twind_{}\".format(loc) + str(year)] = []\n",
    "        for time in wind_times: \n",
    "            if time.year == year:\n",
    "                locals()[\"twind_{}\".format(loc) + str(year)].append(time)"
   ]
  },
  {
   "cell_type": "markdown",
   "metadata": {},
   "source": [
    "#### Salinity Variables"
   ]
  },
  {
   "cell_type": "code",
   "execution_count": 14,
   "metadata": {},
   "outputs": [],
   "source": [
    "salinity = xr.open_dataset(\"https://salishsea.eos.ubc.ca/erddap/griddap/ubcSSg3DTracerFields1hV18-06\")\n",
    "times_salinity = salinity.time.sel(time = salinity.time.dt.year.isin([2015,2016,2017,2018])).values.astype('datetime64[s]').astype(datetime.datetime)"
   ]
  },
  {
   "cell_type": "code",
   "execution_count": 15,
   "metadata": {},
   "outputs": [],
   "source": [
    "locs = ['sog', 'salmon', 'turn']\n",
    "for loc in locs:\n",
    "    for year in [2015, 2016, 2017, 2018]:\n",
    "        fname = \"/home/abhudia/Desktop/salinity/3points/{}{}.pickle\".format(loc, str(year))\n",
    "        file = open(fname, \"rb\")\n",
    "        locals()[loc + \"sal\" + str(year)] = pickle.load(file)\n",
    "        locals()[\"tsal\" + str(year)] = []\n",
    "        for time in times_salinity: \n",
    "            if time.year == year:\n",
    "                locals()[\"tsal\" + str(year)].append(time)  "
   ]
  },
  {
   "cell_type": "markdown",
   "metadata": {},
   "source": [
    "### Function Definitions"
   ]
  },
  {
   "cell_type": "code",
   "execution_count": 16,
   "metadata": {},
   "outputs": [],
   "source": [
    "## Array List/Array -> Listof(Array, Array)\n",
    "## produce a list where first element is listof Days and second element is listof (Max-Min ssh)\n",
    "def ssh_amplitudes(ssh_array, times):\n",
    "    # Returns only one copy of each day, and count of times each day appears\n",
    "    unique, counts = np.unique(times, return_counts=True) \n",
    "    mins = []; maxes = []\n",
    "    index = 0\n",
    "    \n",
    "    # for the numbers of hours in a day, determine the min and max ssh that day\n",
    "    for count in counts:\n",
    "        initial = ssh_array[index]\n",
    "        day_min = initial; day_max = initial\n",
    "      \n",
    "        while count != 0:\n",
    "            ssh = ssh_array[index]\n",
    "            if ssh < day_min:\n",
    "                day_min = ssh\n",
    "            if ssh > day_max:\n",
    "                day_max = ssh\n",
    "            index = index + 1\n",
    "            count = count - 1\n",
    "            \n",
    "        # add these values to the lists of max and min ssh    \n",
    "        mins.append(day_min); maxes.append(day_max)\n",
    "    \n",
    "    return([unique, np.asarray(maxes)-np.asarray(mins)])   \n"
   ]
  },
  {
   "cell_type": "code",
   "execution_count": 17,
   "metadata": {},
   "outputs": [],
   "source": [
    "def running_mean(x, N):\n",
    "    cumsum = np.cumsum(np.insert(x, 0, 0)) \n",
    "    return (cumsum[N:] - cumsum[:-N]) / float(N)"
   ]
  },
  {
   "cell_type": "code",
   "execution_count": 18,
   "metadata": {},
   "outputs": [],
   "source": [
    "def average_output(data_array, times, period):\n",
    "\n",
    "    unique, counts = np.unique(np.asarray(times).astype('datetime64[{}]'.format(period)).astype(datetime.datetime), return_counts=True) \n",
    "    index = 0; count_so_far = 0; means = []\n",
    "    \n",
    "    for count in counts:\n",
    "        means.append(np.sum(data_array[count_so_far: count_so_far + count])/count)\n",
    "        count_so_far = count_so_far + count\n",
    "        \n",
    "    return([unique, means])  "
   ]
  },
  {
   "cell_type": "markdown",
   "metadata": {},
   "source": [
    "## Create Plots"
   ]
  },
  {
   "cell_type": "code",
   "execution_count": 24,
   "metadata": {},
   "outputs": [],
   "source": [
    "locs = ['sog', 'salmon', 'turn']\n",
    "locations = ['Strait of Georgia', 'Salmon Bank', 'Turn Point']\n",
    "years = [2015, 2016, 2017, 2018]\n",
    "N = 72\n",
    "M = 12\n",
    "for index in range(1):\n",
    "    for year in years:\n",
    "        current = locals()['current_{}{}'.format(locs[index], str(year))]\n",
    "        times = []\n",
    "        for time in times_current: \n",
    "            if time.year == year:\n",
    "                times.append(time)\n",
    "        fig = plt.figure(figsize=(16,9))\n",
    "        \n",
    "        ax1 = plt.subplot(4,1,1)\n",
    "        ssh_array = \"ssh_{}{}\".format(locs[index], str(year))\n",
    "        times = \"tssh_{}{}\".format(locs[index], str(year))\n",
    "        data = ssh_amplitudes(locals()[ssh_array], locals()[times])\n",
    "        neap = np.argmin(data[1]); spring = np.argmax(data[1])\n",
    "        #label = \"The highest spring was on {} ({} m) and the lowest neap was on {} ({} m)\".format(str(data[0][spring]), data[1][spring], str(data[0][neap]), data[1][neap])\n",
    "        plt.plot(data[0], data[1])\n",
    "        ax1.set_xlim([datetime.datetime(year, 1 , 1), datetime.datetime(year+1, 1 , 1)])\n",
    "        # plt.xlabel('time')\n",
    "        plt.ylabel('Max ssh - min ssh (m)')\n",
    "        #######title = '{} {}'.format(locations[index], year)\n",
    "        title = 'max - min ssh at {} in {} (m)'.format(locations[index], year)\n",
    "        plt.title(title)\n",
    "        #plt.legend()\n",
    "        \n",
    "        ax2 = plt.subplot(4,1,2)\n",
    "        wind_array = \"winds_{}{}\".format(locs[index], str(year))\n",
    "        times = \"twind_{}{}\".format(locs[index], str(year))\n",
    "        avg_values = running_mean(locals()[wind_array], M)\n",
    "        avg_times = locals()[times][int(M/2): int(len(locals()[times]) - M/2 +1)]\n",
    "        #plt.plot(locals()[times], locals()[wind_array],'b-' ,label = 'Raw')\n",
    "        plt.hlines(np.mean(locals()[wind_array]), datetime.datetime(year, 1 , 1), datetime.datetime(year+1, 1 , 1), label = 'Average for year')\n",
    "        plt.plot(avg_times, avg_values, 'r-', label = 'Running Average')\n",
    "        ax2.set_xlim([datetime.datetime(year, 1 , 1), datetime.datetime(year+1, 1 , 1)])\n",
    "       # plt.xlabel('time')\n",
    "        plt.ylabel('Wind Speed (m/s)')\n",
    "        plt.legend()\n",
    "        title = 'Running average of Wind speed at {} in {} (m/s)'.format(locations[index], year)\n",
    "        #plt.title(title)\n",
    "        \n",
    "    \n",
    "        \n",
    "        ax3 = plt.subplot(4,1,3)\n",
    "        current = locals()['current_{}{}'.format(locs[index], str(year))]\n",
    "        times = []\n",
    "        for time in times_current: \n",
    "            if time.year == year:\n",
    "                times.append(time)\n",
    "        plt.plot(times, current, 'r-', label = 'Raw')\n",
    "        #plt.xlabel('time')\n",
    "        plt.ylabel('Current Speed (m/s)')\n",
    "        title = 'Current speed at {} in {} (m/s)'.format(locations[index], year)\n",
    "        avg_values = running_mean(current, N)\n",
    "        avg_times = times[int(N/2): int(len(times) - N/2 +1)]\n",
    "        plt.plot(avg_times, avg_values, 'b-', label = 'Running average')\n",
    "        ax3.set_xlim([datetime.datetime(year, 1 , 1), datetime.datetime(year+1, 1 , 1)])\n",
    "        plt.hlines(np.mean(current), datetime.datetime(year, 1 , 1), datetime.datetime(year+1, 1 , 1), label = 'Average for year', linestyles='solid')\n",
    "        plt.legend()\n",
    "        #plt.title(title)\n",
    "        \n",
    "        ax4 = plt.subplot(4,1,4)\n",
    "        plt.xlabel('time')\n",
    "        plt.ylabel('Salinity (g kg-1)')\n",
    "        title = 'Salinity at {} point in {}'.format(locations[index],year)\n",
    "        mean = np.mean(locals()[locs[index] + \"sal\" + str(year)])\n",
    "        plt.hlines(mean, datetime.datetime(year, 1 , 1), datetime.datetime(year+1, 1 , 1), label = 'Average for year', linestyles='solid')\n",
    "        plt.plot(locals()[\"tsal\" + str(year)], locals()['{}sal{}'.format(locs[index], str(year))])\n",
    "        ax4.set_xlim([datetime.datetime(year, 1 , 1), datetime.datetime(year+1, 1 , 1)])\n",
    "        #plt.title(title)\n",
    "        plt.legend()\n",
    "        plt.tight_layout()\n",
    "        #plt.savefig('slides/{}{}.png'.format(locs[index],str(year)), dpi = 300)"
   ]
  }
 ],
 "metadata": {
  "kernelspec": {
   "display_name": "Python 3",
   "language": "python",
   "name": "python3"
  },
  "language_info": {
   "codemirror_mode": {
    "name": "ipython",
    "version": 3
   },
   "file_extension": ".py",
   "mimetype": "text/x-python",
   "name": "python",
   "nbconvert_exporter": "python",
   "pygments_lexer": "ipython3",
   "version": "3.7.1"
  }
 },
 "nbformat": 4,
 "nbformat_minor": 2
}
